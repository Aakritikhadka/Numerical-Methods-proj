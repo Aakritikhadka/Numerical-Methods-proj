{
 "cells": [
  {
   "cell_type": "markdown",
   "id": "670680a0",
   "metadata": {},
   "source": [
    "# Project Module 2: Derivative"
   ]
  },
  {
   "cell_type": "markdown",
   "id": "f8d95858",
   "metadata": {},
   "source": [
    "Numerical Method CPSMA 441\n",
    "Prof: Nicholas Jacobs\n",
    "\n",
    "Member(s):\n",
    "Hoang Tan Truong\n",
    "Aakriti Khadka"
   ]
  },
  {
   "cell_type": "markdown",
   "id": "c95d7e0f",
   "metadata": {},
   "source": [
    "The following are fuctions that were priviously defined and used on Module 1."
   ]
  },
  {
   "cell_type": "code",
   "execution_count": 85,
   "id": "4a2dfb3b",
   "metadata": {},
   "outputs": [],
   "source": [
    "import math\n",
    "pi = math.pi\n",
    "sqrt2 = math.sqrt(2)\n",
    "\n",
    "\n",
    "def abs_err(estimated_value, actual_value):\n",
    "    return actual_value - estimated_value\n",
    "\n",
    "def rel_err(estimated_value, actual_value):\n",
    "    return abs_err(estimated_value, actual_value)/actual_value\n",
    "\n",
    "def apprx_err(prev_est, curr_est):\n",
    "    return curr_est - prev_est\n",
    "\n",
    "def rel_apprx_err(prev_est, curr_est):\n",
    "    return apprx_err(prev_est, curr_est)/curr_est\n",
    "\n",
    "def general_Taylor_coef(degree):\n",
    "    return (-1)**(math.floor(degree/2))/sqrt2*math.factorial(degree)\n",
    "\n",
    "def taylor_Poly_term(degree, input):\n",
    "    return general_Taylor_coef(degree)*(input-pi/4)**degree\n",
    "\n",
    "def Taylor_Poly(degree, input):\n",
    "    sum = 0;\n",
    "    for i in range(0, degree+1):\n",
    "        sum += taylor_Poly_term(i, input)\n",
    "    return sum"
   ]
  },
  {
   "cell_type": "markdown",
   "id": "0f63cf81",
   "metadata": {},
   "source": [
    "# Question 1: Estimate Derivative"
   ]
  },
  {
   "cell_type": "markdown",
   "id": "68aef42f",
   "metadata": {},
   "source": [
    "(a) Write a function for computing the forward difference, backward difference, central difference for\n",
    "the derivative.\n",
    "\n",
    "(b) Write a function for computing the finite difference of the second order derivative.\n",
    "\n",
    "The funtion that we used on last module is f(x) = ln(x+1)"
   ]
  },
  {
   "cell_type": "code",
   "execution_count": 86,
   "id": "d2c2bca8",
   "metadata": {},
   "outputs": [],
   "source": [
    "def fwrd_diff(func, first, step):\n",
    "    return (func(first + step) - func(first))/step\n",
    "\n",
    "def bwrd_diff(func, first, step):\n",
    "    return (func(first) - func(first-step))/step\n",
    "\n",
    "def centr_diff(func, first, step):\n",
    "    return (func(first + step) - func(first - step) )/(step*2)\n",
    "\n",
    "def finite_diff(func, first, step):\n",
    "    return (func(first + 2*step) - 2*func(first + step) + func(first))/step**2"
   ]
  },
  {
   "cell_type": "markdown",
   "id": "641c9b5f",
   "metadata": {},
   "source": [
    "Now we are off to compute, with the multiplication of .1 that starts from 1 to .0001\n",
    "The function that we are going to use is f(x)=cos(x)"
   ]
  },
  {
   "cell_type": "code",
   "execution_count": 87,
   "id": "b0aa32f8",
   "metadata": {},
   "outputs": [],
   "source": [
    "def function(x):\n",
    "    return math.log(x+1)\n",
    "value = 2\n",
    "\n",
    "#step_range = [1*(0.1**n) for n in range(5)]\n",
    "step_range = [1, 0.1, 0.01, 0.001, 0.0001]\n",
    "\n",
    "fwrd = [fwrd_diff(function, value, step) for step in step_range]\n",
    "bwrd = [bwrd_diff(function, value, step) for step in step_range]\n",
    "centr = [centr_diff(function, value, step) for step in step_range]\n",
    "finite = [finite_diff(function, value, step) for step in step_range]\n",
    "\n",
    "actual = math.log(3)\n",
    "\n",
    "abs_fwrd = [abs_err(est, actual) for est in fwrd]\n",
    "rel_fwrd = [rel_err(est, actual) for est in fwrd]\n",
    "\n",
    "abs_bwrd = [abs_err(est, actual) for est in bwrd]\n",
    "rel_bwrd = [rel_err(est, actual) for est in bwrd]\n",
    "\n",
    "abs_centr = [abs_err(est, actual) for est in centr]\n",
    "rel_centr = [rel_err(est, actual) for est in centr]\n",
    "\n",
    "actual_2nd = -math.log(3)\n",
    "\n",
    "abs_finite = [abs_err(est, actual_2nd) for est in finite]\n",
    "rel_finite = [rel_err(est, actual_2nd) for est in finite]\n"
   ]
  },
  {
   "cell_type": "markdown",
   "id": "c16846bd",
   "metadata": {},
   "source": [
    "The following is the table containing outputs from those funtions:"
   ]
  },
  {
   "cell_type": "code",
   "execution_count": 88,
   "id": "b102b9ab",
   "metadata": {},
   "outputs": [
    {
     "data": {
      "application/vnd.plotly.v1+json": {
       "config": {
        "plotlyServerURL": "https://plot.ly"
       },
       "data": [
        {
         "cells": {
          "values": [
           [
            1,
            0.1,
            0.01,
            0.001,
            0.0001
           ],
           [
            0.2876820724517808,
            0.3278982282299081,
            0.33277900926744763,
            0.3332777901201567,
            0.3333277779016264
           ],
           [
            0.810930216216329,
            0.7707140604382017,
            0.7658332794006621,
            0.7653344985479531,
            0.7652845107664834
           ],
           [
            0.7381404928570853,
            0.7015341703236982,
            0.6970914919667534,
            0.6966374820691272,
            0.6965919812295814
           ]
          ]
         },
         "domain": {
          "x": [
           0,
           1
          ],
          "y": [
           0.7725,
           1
          ]
         },
         "header": {
          "values": [
           "Step",
           "Foward Estimate",
           "Absolute Error",
           "Relative Error"
          ]
         },
         "type": "table"
        },
        {
         "cells": {
          "values": [
           [
            1,
            0.1,
            0.01,
            0.001,
            0.0001
           ],
           [
            0.4054651081081645,
            0.3390155167568154,
            0.33389012655147265,
            0.33338890123779663,
            0.3333388890114364
           ],
           [
            0.6931471805599453,
            0.7595967719112944,
            0.7647221621166371,
            0.7652233874303132,
            0.7652733996566734
           ],
           [
            0.6309297535714574,
            0.6914147782127787,
            0.6960801094294506,
            0.6965363443713369,
            0.696581867461581
           ]
          ]
         },
         "domain": {
          "x": [
           0,
           1
          ],
          "y": [
           0.515,
           0.7425
          ]
         },
         "header": {
          "values": [
           "Step",
           "Backward Estimate",
           "Absolute Error",
           "Relative Error"
          ]
         },
         "type": "table"
        },
        {
         "cells": {
          "values": [
           [
            1,
            0.1,
            0.01,
            0.001,
            0.0001
           ],
           [
            0.34657359027997264,
            0.33345687249336176,
            0.33333456790946014,
            0.33333334567897666,
            0.3333333334565314
           ],
           [
            0.7520386983881371,
            0.765155416174748,
            0.7652777207586496,
            0.7652789429891331,
            0.7652789552115784
           ],
           [
            0.6845351232142712,
            0.6964744742682385,
            0.696585800698102,
            0.696586913220232,
            0.6965869243455812
           ]
          ]
         },
         "domain": {
          "x": [
           0,
           1
          ],
          "y": [
           0.2575,
           0.485
          ]
         },
         "header": {
          "values": [
           "Step",
           "Central Estimate",
           "Absolute Error",
           "Relative Error"
          ]
         },
         "type": "table"
        },
        {
         "cells": {
          "values": [
           [
            1,
            0.1,
            0.01,
            0.001,
            0.0001
           ],
           [
            -0.06453852113757108,
            -0.10411245084105401,
            -0.11037466680408059,
            -0.11103707997506262,
            -0.11110372621914166
           ],
           [
            -1.0340737675305387,
            -0.9944998378270558,
            -0.9882376218640292,
            -0.9875752086930472,
            -0.9875085624489681
           ],
           [
            0.9412545064320975,
            0.9052327632642143,
            0.8995326486490588,
            0.8989296941965967,
            0.8988690301709287
           ]
          ]
         },
         "domain": {
          "x": [
           0,
           1
          ],
          "y": [
           0,
           0.2275
          ]
         },
         "header": {
          "values": [
           "Step",
           "Finite Estimate",
           "Absolute Error",
           "Relative Error"
          ]
         },
         "type": "table"
        }
       ],
       "layout": {
        "template": {
         "data": {
          "bar": [
           {
            "error_x": {
             "color": "#2a3f5f"
            },
            "error_y": {
             "color": "#2a3f5f"
            },
            "marker": {
             "line": {
              "color": "#E5ECF6",
              "width": 0.5
             },
             "pattern": {
              "fillmode": "overlay",
              "size": 10,
              "solidity": 0.2
             }
            },
            "type": "bar"
           }
          ],
          "barpolar": [
           {
            "marker": {
             "line": {
              "color": "#E5ECF6",
              "width": 0.5
             },
             "pattern": {
              "fillmode": "overlay",
              "size": 10,
              "solidity": 0.2
             }
            },
            "type": "barpolar"
           }
          ],
          "carpet": [
           {
            "aaxis": {
             "endlinecolor": "#2a3f5f",
             "gridcolor": "white",
             "linecolor": "white",
             "minorgridcolor": "white",
             "startlinecolor": "#2a3f5f"
            },
            "baxis": {
             "endlinecolor": "#2a3f5f",
             "gridcolor": "white",
             "linecolor": "white",
             "minorgridcolor": "white",
             "startlinecolor": "#2a3f5f"
            },
            "type": "carpet"
           }
          ],
          "choropleth": [
           {
            "colorbar": {
             "outlinewidth": 0,
             "ticks": ""
            },
            "type": "choropleth"
           }
          ],
          "contour": [
           {
            "colorbar": {
             "outlinewidth": 0,
             "ticks": ""
            },
            "colorscale": [
             [
              0,
              "#0d0887"
             ],
             [
              0.1111111111111111,
              "#46039f"
             ],
             [
              0.2222222222222222,
              "#7201a8"
             ],
             [
              0.3333333333333333,
              "#9c179e"
             ],
             [
              0.4444444444444444,
              "#bd3786"
             ],
             [
              0.5555555555555556,
              "#d8576b"
             ],
             [
              0.6666666666666666,
              "#ed7953"
             ],
             [
              0.7777777777777778,
              "#fb9f3a"
             ],
             [
              0.8888888888888888,
              "#fdca26"
             ],
             [
              1,
              "#f0f921"
             ]
            ],
            "type": "contour"
           }
          ],
          "contourcarpet": [
           {
            "colorbar": {
             "outlinewidth": 0,
             "ticks": ""
            },
            "type": "contourcarpet"
           }
          ],
          "heatmap": [
           {
            "colorbar": {
             "outlinewidth": 0,
             "ticks": ""
            },
            "colorscale": [
             [
              0,
              "#0d0887"
             ],
             [
              0.1111111111111111,
              "#46039f"
             ],
             [
              0.2222222222222222,
              "#7201a8"
             ],
             [
              0.3333333333333333,
              "#9c179e"
             ],
             [
              0.4444444444444444,
              "#bd3786"
             ],
             [
              0.5555555555555556,
              "#d8576b"
             ],
             [
              0.6666666666666666,
              "#ed7953"
             ],
             [
              0.7777777777777778,
              "#fb9f3a"
             ],
             [
              0.8888888888888888,
              "#fdca26"
             ],
             [
              1,
              "#f0f921"
             ]
            ],
            "type": "heatmap"
           }
          ],
          "heatmapgl": [
           {
            "colorbar": {
             "outlinewidth": 0,
             "ticks": ""
            },
            "colorscale": [
             [
              0,
              "#0d0887"
             ],
             [
              0.1111111111111111,
              "#46039f"
             ],
             [
              0.2222222222222222,
              "#7201a8"
             ],
             [
              0.3333333333333333,
              "#9c179e"
             ],
             [
              0.4444444444444444,
              "#bd3786"
             ],
             [
              0.5555555555555556,
              "#d8576b"
             ],
             [
              0.6666666666666666,
              "#ed7953"
             ],
             [
              0.7777777777777778,
              "#fb9f3a"
             ],
             [
              0.8888888888888888,
              "#fdca26"
             ],
             [
              1,
              "#f0f921"
             ]
            ],
            "type": "heatmapgl"
           }
          ],
          "histogram": [
           {
            "marker": {
             "pattern": {
              "fillmode": "overlay",
              "size": 10,
              "solidity": 0.2
             }
            },
            "type": "histogram"
           }
          ],
          "histogram2d": [
           {
            "colorbar": {
             "outlinewidth": 0,
             "ticks": ""
            },
            "colorscale": [
             [
              0,
              "#0d0887"
             ],
             [
              0.1111111111111111,
              "#46039f"
             ],
             [
              0.2222222222222222,
              "#7201a8"
             ],
             [
              0.3333333333333333,
              "#9c179e"
             ],
             [
              0.4444444444444444,
              "#bd3786"
             ],
             [
              0.5555555555555556,
              "#d8576b"
             ],
             [
              0.6666666666666666,
              "#ed7953"
             ],
             [
              0.7777777777777778,
              "#fb9f3a"
             ],
             [
              0.8888888888888888,
              "#fdca26"
             ],
             [
              1,
              "#f0f921"
             ]
            ],
            "type": "histogram2d"
           }
          ],
          "histogram2dcontour": [
           {
            "colorbar": {
             "outlinewidth": 0,
             "ticks": ""
            },
            "colorscale": [
             [
              0,
              "#0d0887"
             ],
             [
              0.1111111111111111,
              "#46039f"
             ],
             [
              0.2222222222222222,
              "#7201a8"
             ],
             [
              0.3333333333333333,
              "#9c179e"
             ],
             [
              0.4444444444444444,
              "#bd3786"
             ],
             [
              0.5555555555555556,
              "#d8576b"
             ],
             [
              0.6666666666666666,
              "#ed7953"
             ],
             [
              0.7777777777777778,
              "#fb9f3a"
             ],
             [
              0.8888888888888888,
              "#fdca26"
             ],
             [
              1,
              "#f0f921"
             ]
            ],
            "type": "histogram2dcontour"
           }
          ],
          "mesh3d": [
           {
            "colorbar": {
             "outlinewidth": 0,
             "ticks": ""
            },
            "type": "mesh3d"
           }
          ],
          "parcoords": [
           {
            "line": {
             "colorbar": {
              "outlinewidth": 0,
              "ticks": ""
             }
            },
            "type": "parcoords"
           }
          ],
          "pie": [
           {
            "automargin": true,
            "type": "pie"
           }
          ],
          "scatter": [
           {
            "fillpattern": {
             "fillmode": "overlay",
             "size": 10,
             "solidity": 0.2
            },
            "type": "scatter"
           }
          ],
          "scatter3d": [
           {
            "line": {
             "colorbar": {
              "outlinewidth": 0,
              "ticks": ""
             }
            },
            "marker": {
             "colorbar": {
              "outlinewidth": 0,
              "ticks": ""
             }
            },
            "type": "scatter3d"
           }
          ],
          "scattercarpet": [
           {
            "marker": {
             "colorbar": {
              "outlinewidth": 0,
              "ticks": ""
             }
            },
            "type": "scattercarpet"
           }
          ],
          "scattergeo": [
           {
            "marker": {
             "colorbar": {
              "outlinewidth": 0,
              "ticks": ""
             }
            },
            "type": "scattergeo"
           }
          ],
          "scattergl": [
           {
            "marker": {
             "colorbar": {
              "outlinewidth": 0,
              "ticks": ""
             }
            },
            "type": "scattergl"
           }
          ],
          "scattermapbox": [
           {
            "marker": {
             "colorbar": {
              "outlinewidth": 0,
              "ticks": ""
             }
            },
            "type": "scattermapbox"
           }
          ],
          "scatterpolar": [
           {
            "marker": {
             "colorbar": {
              "outlinewidth": 0,
              "ticks": ""
             }
            },
            "type": "scatterpolar"
           }
          ],
          "scatterpolargl": [
           {
            "marker": {
             "colorbar": {
              "outlinewidth": 0,
              "ticks": ""
             }
            },
            "type": "scatterpolargl"
           }
          ],
          "scatterternary": [
           {
            "marker": {
             "colorbar": {
              "outlinewidth": 0,
              "ticks": ""
             }
            },
            "type": "scatterternary"
           }
          ],
          "surface": [
           {
            "colorbar": {
             "outlinewidth": 0,
             "ticks": ""
            },
            "colorscale": [
             [
              0,
              "#0d0887"
             ],
             [
              0.1111111111111111,
              "#46039f"
             ],
             [
              0.2222222222222222,
              "#7201a8"
             ],
             [
              0.3333333333333333,
              "#9c179e"
             ],
             [
              0.4444444444444444,
              "#bd3786"
             ],
             [
              0.5555555555555556,
              "#d8576b"
             ],
             [
              0.6666666666666666,
              "#ed7953"
             ],
             [
              0.7777777777777778,
              "#fb9f3a"
             ],
             [
              0.8888888888888888,
              "#fdca26"
             ],
             [
              1,
              "#f0f921"
             ]
            ],
            "type": "surface"
           }
          ],
          "table": [
           {
            "cells": {
             "fill": {
              "color": "#EBF0F8"
             },
             "line": {
              "color": "white"
             }
            },
            "header": {
             "fill": {
              "color": "#C8D4E3"
             },
             "line": {
              "color": "white"
             }
            },
            "type": "table"
           }
          ]
         },
         "layout": {
          "annotationdefaults": {
           "arrowcolor": "#2a3f5f",
           "arrowhead": 0,
           "arrowwidth": 1
          },
          "autotypenumbers": "strict",
          "coloraxis": {
           "colorbar": {
            "outlinewidth": 0,
            "ticks": ""
           }
          },
          "colorscale": {
           "diverging": [
            [
             0,
             "#8e0152"
            ],
            [
             0.1,
             "#c51b7d"
            ],
            [
             0.2,
             "#de77ae"
            ],
            [
             0.3,
             "#f1b6da"
            ],
            [
             0.4,
             "#fde0ef"
            ],
            [
             0.5,
             "#f7f7f7"
            ],
            [
             0.6,
             "#e6f5d0"
            ],
            [
             0.7,
             "#b8e186"
            ],
            [
             0.8,
             "#7fbc41"
            ],
            [
             0.9,
             "#4d9221"
            ],
            [
             1,
             "#276419"
            ]
           ],
           "sequential": [
            [
             0,
             "#0d0887"
            ],
            [
             0.1111111111111111,
             "#46039f"
            ],
            [
             0.2222222222222222,
             "#7201a8"
            ],
            [
             0.3333333333333333,
             "#9c179e"
            ],
            [
             0.4444444444444444,
             "#bd3786"
            ],
            [
             0.5555555555555556,
             "#d8576b"
            ],
            [
             0.6666666666666666,
             "#ed7953"
            ],
            [
             0.7777777777777778,
             "#fb9f3a"
            ],
            [
             0.8888888888888888,
             "#fdca26"
            ],
            [
             1,
             "#f0f921"
            ]
           ],
           "sequentialminus": [
            [
             0,
             "#0d0887"
            ],
            [
             0.1111111111111111,
             "#46039f"
            ],
            [
             0.2222222222222222,
             "#7201a8"
            ],
            [
             0.3333333333333333,
             "#9c179e"
            ],
            [
             0.4444444444444444,
             "#bd3786"
            ],
            [
             0.5555555555555556,
             "#d8576b"
            ],
            [
             0.6666666666666666,
             "#ed7953"
            ],
            [
             0.7777777777777778,
             "#fb9f3a"
            ],
            [
             0.8888888888888888,
             "#fdca26"
            ],
            [
             1,
             "#f0f921"
            ]
           ]
          },
          "colorway": [
           "#636efa",
           "#EF553B",
           "#00cc96",
           "#ab63fa",
           "#FFA15A",
           "#19d3f3",
           "#FF6692",
           "#B6E880",
           "#FF97FF",
           "#FECB52"
          ],
          "font": {
           "color": "#2a3f5f"
          },
          "geo": {
           "bgcolor": "white",
           "lakecolor": "white",
           "landcolor": "#E5ECF6",
           "showlakes": true,
           "showland": true,
           "subunitcolor": "white"
          },
          "hoverlabel": {
           "align": "left"
          },
          "hovermode": "closest",
          "mapbox": {
           "style": "light"
          },
          "paper_bgcolor": "white",
          "plot_bgcolor": "#E5ECF6",
          "polar": {
           "angularaxis": {
            "gridcolor": "white",
            "linecolor": "white",
            "ticks": ""
           },
           "bgcolor": "#E5ECF6",
           "radialaxis": {
            "gridcolor": "white",
            "linecolor": "white",
            "ticks": ""
           }
          },
          "scene": {
           "xaxis": {
            "backgroundcolor": "#E5ECF6",
            "gridcolor": "white",
            "gridwidth": 2,
            "linecolor": "white",
            "showbackground": true,
            "ticks": "",
            "zerolinecolor": "white"
           },
           "yaxis": {
            "backgroundcolor": "#E5ECF6",
            "gridcolor": "white",
            "gridwidth": 2,
            "linecolor": "white",
            "showbackground": true,
            "ticks": "",
            "zerolinecolor": "white"
           },
           "zaxis": {
            "backgroundcolor": "#E5ECF6",
            "gridcolor": "white",
            "gridwidth": 2,
            "linecolor": "white",
            "showbackground": true,
            "ticks": "",
            "zerolinecolor": "white"
           }
          },
          "shapedefaults": {
           "line": {
            "color": "#2a3f5f"
           }
          },
          "ternary": {
           "aaxis": {
            "gridcolor": "white",
            "linecolor": "white",
            "ticks": ""
           },
           "baxis": {
            "gridcolor": "white",
            "linecolor": "white",
            "ticks": ""
           },
           "bgcolor": "#E5ECF6",
           "caxis": {
            "gridcolor": "white",
            "linecolor": "white",
            "ticks": ""
           }
          },
          "title": {
           "x": 0.05
          },
          "xaxis": {
           "automargin": true,
           "gridcolor": "white",
           "linecolor": "white",
           "ticks": "",
           "title": {
            "standoff": 15
           },
           "zerolinecolor": "white",
           "zerolinewidth": 2
          },
          "yaxis": {
           "automargin": true,
           "gridcolor": "white",
           "linecolor": "white",
           "ticks": "",
           "title": {
            "standoff": 15
           },
           "zerolinecolor": "white",
           "zerolinewidth": 2
          }
         }
        }
       }
      },
      "text/html": [
       "<div>                            <div id=\"f2962701-a491-4345-9855-18062241dddd\" class=\"plotly-graph-div\" style=\"height:525px; width:100%;\"></div>            <script type=\"text/javascript\">                require([\"plotly\"], function(Plotly) {                    window.PLOTLYENV=window.PLOTLYENV || {};                                    if (document.getElementById(\"f2962701-a491-4345-9855-18062241dddd\")) {                    Plotly.newPlot(                        \"f2962701-a491-4345-9855-18062241dddd\",                        [{\"cells\":{\"values\":[[1,0.1,0.01,0.001,0.0001],[0.2876820724517808,0.3278982282299081,0.33277900926744763,0.3332777901201567,0.3333277779016264],[0.810930216216329,0.7707140604382017,0.7658332794006621,0.7653344985479531,0.7652845107664834],[0.7381404928570853,0.7015341703236982,0.6970914919667534,0.6966374820691272,0.6965919812295814]]},\"header\":{\"values\":[\"Step\",\"Foward Estimate\",\"Absolute Error\",\"Relative Error\"]},\"type\":\"table\",\"domain\":{\"x\":[0.0,1.0],\"y\":[0.7725,1.0]}},{\"cells\":{\"values\":[[1,0.1,0.01,0.001,0.0001],[0.4054651081081645,0.3390155167568154,0.33389012655147265,0.33338890123779663,0.3333388890114364],[0.6931471805599453,0.7595967719112944,0.7647221621166371,0.7652233874303132,0.7652733996566734],[0.6309297535714574,0.6914147782127787,0.6960801094294506,0.6965363443713369,0.696581867461581]]},\"header\":{\"values\":[\"Step\",\"Backward Estimate\",\"Absolute Error\",\"Relative Error\"]},\"type\":\"table\",\"domain\":{\"x\":[0.0,1.0],\"y\":[0.515,0.7425]}},{\"cells\":{\"values\":[[1,0.1,0.01,0.001,0.0001],[0.34657359027997264,0.33345687249336176,0.33333456790946014,0.33333334567897666,0.3333333334565314],[0.7520386983881371,0.765155416174748,0.7652777207586496,0.7652789429891331,0.7652789552115784],[0.6845351232142712,0.6964744742682385,0.696585800698102,0.696586913220232,0.6965869243455812]]},\"header\":{\"values\":[\"Step\",\"Central Estimate\",\"Absolute Error\",\"Relative Error\"]},\"type\":\"table\",\"domain\":{\"x\":[0.0,1.0],\"y\":[0.2575,0.485]}},{\"cells\":{\"values\":[[1,0.1,0.01,0.001,0.0001],[-0.06453852113757108,-0.10411245084105401,-0.11037466680408059,-0.11103707997506262,-0.11110372621914166],[-1.0340737675305387,-0.9944998378270558,-0.9882376218640292,-0.9875752086930472,-0.9875085624489681],[0.9412545064320975,0.9052327632642143,0.8995326486490588,0.8989296941965967,0.8988690301709287]]},\"header\":{\"values\":[\"Step\",\"Finite Estimate\",\"Absolute Error\",\"Relative Error\"]},\"type\":\"table\",\"domain\":{\"x\":[0.0,1.0],\"y\":[0.0,0.2275]}}],                        {\"template\":{\"data\":{\"histogram2dcontour\":[{\"type\":\"histogram2dcontour\",\"colorbar\":{\"outlinewidth\":0,\"ticks\":\"\"},\"colorscale\":[[0.0,\"#0d0887\"],[0.1111111111111111,\"#46039f\"],[0.2222222222222222,\"#7201a8\"],[0.3333333333333333,\"#9c179e\"],[0.4444444444444444,\"#bd3786\"],[0.5555555555555556,\"#d8576b\"],[0.6666666666666666,\"#ed7953\"],[0.7777777777777778,\"#fb9f3a\"],[0.8888888888888888,\"#fdca26\"],[1.0,\"#f0f921\"]]}],\"choropleth\":[{\"type\":\"choropleth\",\"colorbar\":{\"outlinewidth\":0,\"ticks\":\"\"}}],\"histogram2d\":[{\"type\":\"histogram2d\",\"colorbar\":{\"outlinewidth\":0,\"ticks\":\"\"},\"colorscale\":[[0.0,\"#0d0887\"],[0.1111111111111111,\"#46039f\"],[0.2222222222222222,\"#7201a8\"],[0.3333333333333333,\"#9c179e\"],[0.4444444444444444,\"#bd3786\"],[0.5555555555555556,\"#d8576b\"],[0.6666666666666666,\"#ed7953\"],[0.7777777777777778,\"#fb9f3a\"],[0.8888888888888888,\"#fdca26\"],[1.0,\"#f0f921\"]]}],\"heatmap\":[{\"type\":\"heatmap\",\"colorbar\":{\"outlinewidth\":0,\"ticks\":\"\"},\"colorscale\":[[0.0,\"#0d0887\"],[0.1111111111111111,\"#46039f\"],[0.2222222222222222,\"#7201a8\"],[0.3333333333333333,\"#9c179e\"],[0.4444444444444444,\"#bd3786\"],[0.5555555555555556,\"#d8576b\"],[0.6666666666666666,\"#ed7953\"],[0.7777777777777778,\"#fb9f3a\"],[0.8888888888888888,\"#fdca26\"],[1.0,\"#f0f921\"]]}],\"heatmapgl\":[{\"type\":\"heatmapgl\",\"colorbar\":{\"outlinewidth\":0,\"ticks\":\"\"},\"colorscale\":[[0.0,\"#0d0887\"],[0.1111111111111111,\"#46039f\"],[0.2222222222222222,\"#7201a8\"],[0.3333333333333333,\"#9c179e\"],[0.4444444444444444,\"#bd3786\"],[0.5555555555555556,\"#d8576b\"],[0.6666666666666666,\"#ed7953\"],[0.7777777777777778,\"#fb9f3a\"],[0.8888888888888888,\"#fdca26\"],[1.0,\"#f0f921\"]]}],\"contourcarpet\":[{\"type\":\"contourcarpet\",\"colorbar\":{\"outlinewidth\":0,\"ticks\":\"\"}}],\"contour\":[{\"type\":\"contour\",\"colorbar\":{\"outlinewidth\":0,\"ticks\":\"\"},\"colorscale\":[[0.0,\"#0d0887\"],[0.1111111111111111,\"#46039f\"],[0.2222222222222222,\"#7201a8\"],[0.3333333333333333,\"#9c179e\"],[0.4444444444444444,\"#bd3786\"],[0.5555555555555556,\"#d8576b\"],[0.6666666666666666,\"#ed7953\"],[0.7777777777777778,\"#fb9f3a\"],[0.8888888888888888,\"#fdca26\"],[1.0,\"#f0f921\"]]}],\"surface\":[{\"type\":\"surface\",\"colorbar\":{\"outlinewidth\":0,\"ticks\":\"\"},\"colorscale\":[[0.0,\"#0d0887\"],[0.1111111111111111,\"#46039f\"],[0.2222222222222222,\"#7201a8\"],[0.3333333333333333,\"#9c179e\"],[0.4444444444444444,\"#bd3786\"],[0.5555555555555556,\"#d8576b\"],[0.6666666666666666,\"#ed7953\"],[0.7777777777777778,\"#fb9f3a\"],[0.8888888888888888,\"#fdca26\"],[1.0,\"#f0f921\"]]}],\"mesh3d\":[{\"type\":\"mesh3d\",\"colorbar\":{\"outlinewidth\":0,\"ticks\":\"\"}}],\"scatter\":[{\"fillpattern\":{\"fillmode\":\"overlay\",\"size\":10,\"solidity\":0.2},\"type\":\"scatter\"}],\"parcoords\":[{\"type\":\"parcoords\",\"line\":{\"colorbar\":{\"outlinewidth\":0,\"ticks\":\"\"}}}],\"scatterpolargl\":[{\"type\":\"scatterpolargl\",\"marker\":{\"colorbar\":{\"outlinewidth\":0,\"ticks\":\"\"}}}],\"bar\":[{\"error_x\":{\"color\":\"#2a3f5f\"},\"error_y\":{\"color\":\"#2a3f5f\"},\"marker\":{\"line\":{\"color\":\"#E5ECF6\",\"width\":0.5},\"pattern\":{\"fillmode\":\"overlay\",\"size\":10,\"solidity\":0.2}},\"type\":\"bar\"}],\"scattergeo\":[{\"type\":\"scattergeo\",\"marker\":{\"colorbar\":{\"outlinewidth\":0,\"ticks\":\"\"}}}],\"scatterpolar\":[{\"type\":\"scatterpolar\",\"marker\":{\"colorbar\":{\"outlinewidth\":0,\"ticks\":\"\"}}}],\"histogram\":[{\"marker\":{\"pattern\":{\"fillmode\":\"overlay\",\"size\":10,\"solidity\":0.2}},\"type\":\"histogram\"}],\"scattergl\":[{\"type\":\"scattergl\",\"marker\":{\"colorbar\":{\"outlinewidth\":0,\"ticks\":\"\"}}}],\"scatter3d\":[{\"type\":\"scatter3d\",\"line\":{\"colorbar\":{\"outlinewidth\":0,\"ticks\":\"\"}},\"marker\":{\"colorbar\":{\"outlinewidth\":0,\"ticks\":\"\"}}}],\"scattermapbox\":[{\"type\":\"scattermapbox\",\"marker\":{\"colorbar\":{\"outlinewidth\":0,\"ticks\":\"\"}}}],\"scatterternary\":[{\"type\":\"scatterternary\",\"marker\":{\"colorbar\":{\"outlinewidth\":0,\"ticks\":\"\"}}}],\"scattercarpet\":[{\"type\":\"scattercarpet\",\"marker\":{\"colorbar\":{\"outlinewidth\":0,\"ticks\":\"\"}}}],\"carpet\":[{\"aaxis\":{\"endlinecolor\":\"#2a3f5f\",\"gridcolor\":\"white\",\"linecolor\":\"white\",\"minorgridcolor\":\"white\",\"startlinecolor\":\"#2a3f5f\"},\"baxis\":{\"endlinecolor\":\"#2a3f5f\",\"gridcolor\":\"white\",\"linecolor\":\"white\",\"minorgridcolor\":\"white\",\"startlinecolor\":\"#2a3f5f\"},\"type\":\"carpet\"}],\"table\":[{\"cells\":{\"fill\":{\"color\":\"#EBF0F8\"},\"line\":{\"color\":\"white\"}},\"header\":{\"fill\":{\"color\":\"#C8D4E3\"},\"line\":{\"color\":\"white\"}},\"type\":\"table\"}],\"barpolar\":[{\"marker\":{\"line\":{\"color\":\"#E5ECF6\",\"width\":0.5},\"pattern\":{\"fillmode\":\"overlay\",\"size\":10,\"solidity\":0.2}},\"type\":\"barpolar\"}],\"pie\":[{\"automargin\":true,\"type\":\"pie\"}]},\"layout\":{\"autotypenumbers\":\"strict\",\"colorway\":[\"#636efa\",\"#EF553B\",\"#00cc96\",\"#ab63fa\",\"#FFA15A\",\"#19d3f3\",\"#FF6692\",\"#B6E880\",\"#FF97FF\",\"#FECB52\"],\"font\":{\"color\":\"#2a3f5f\"},\"hovermode\":\"closest\",\"hoverlabel\":{\"align\":\"left\"},\"paper_bgcolor\":\"white\",\"plot_bgcolor\":\"#E5ECF6\",\"polar\":{\"bgcolor\":\"#E5ECF6\",\"angularaxis\":{\"gridcolor\":\"white\",\"linecolor\":\"white\",\"ticks\":\"\"},\"radialaxis\":{\"gridcolor\":\"white\",\"linecolor\":\"white\",\"ticks\":\"\"}},\"ternary\":{\"bgcolor\":\"#E5ECF6\",\"aaxis\":{\"gridcolor\":\"white\",\"linecolor\":\"white\",\"ticks\":\"\"},\"baxis\":{\"gridcolor\":\"white\",\"linecolor\":\"white\",\"ticks\":\"\"},\"caxis\":{\"gridcolor\":\"white\",\"linecolor\":\"white\",\"ticks\":\"\"}},\"coloraxis\":{\"colorbar\":{\"outlinewidth\":0,\"ticks\":\"\"}},\"colorscale\":{\"sequential\":[[0.0,\"#0d0887\"],[0.1111111111111111,\"#46039f\"],[0.2222222222222222,\"#7201a8\"],[0.3333333333333333,\"#9c179e\"],[0.4444444444444444,\"#bd3786\"],[0.5555555555555556,\"#d8576b\"],[0.6666666666666666,\"#ed7953\"],[0.7777777777777778,\"#fb9f3a\"],[0.8888888888888888,\"#fdca26\"],[1.0,\"#f0f921\"]],\"sequentialminus\":[[0.0,\"#0d0887\"],[0.1111111111111111,\"#46039f\"],[0.2222222222222222,\"#7201a8\"],[0.3333333333333333,\"#9c179e\"],[0.4444444444444444,\"#bd3786\"],[0.5555555555555556,\"#d8576b\"],[0.6666666666666666,\"#ed7953\"],[0.7777777777777778,\"#fb9f3a\"],[0.8888888888888888,\"#fdca26\"],[1.0,\"#f0f921\"]],\"diverging\":[[0,\"#8e0152\"],[0.1,\"#c51b7d\"],[0.2,\"#de77ae\"],[0.3,\"#f1b6da\"],[0.4,\"#fde0ef\"],[0.5,\"#f7f7f7\"],[0.6,\"#e6f5d0\"],[0.7,\"#b8e186\"],[0.8,\"#7fbc41\"],[0.9,\"#4d9221\"],[1,\"#276419\"]]},\"xaxis\":{\"gridcolor\":\"white\",\"linecolor\":\"white\",\"ticks\":\"\",\"title\":{\"standoff\":15},\"zerolinecolor\":\"white\",\"automargin\":true,\"zerolinewidth\":2},\"yaxis\":{\"gridcolor\":\"white\",\"linecolor\":\"white\",\"ticks\":\"\",\"title\":{\"standoff\":15},\"zerolinecolor\":\"white\",\"automargin\":true,\"zerolinewidth\":2},\"scene\":{\"xaxis\":{\"backgroundcolor\":\"#E5ECF6\",\"gridcolor\":\"white\",\"linecolor\":\"white\",\"showbackground\":true,\"ticks\":\"\",\"zerolinecolor\":\"white\",\"gridwidth\":2},\"yaxis\":{\"backgroundcolor\":\"#E5ECF6\",\"gridcolor\":\"white\",\"linecolor\":\"white\",\"showbackground\":true,\"ticks\":\"\",\"zerolinecolor\":\"white\",\"gridwidth\":2},\"zaxis\":{\"backgroundcolor\":\"#E5ECF6\",\"gridcolor\":\"white\",\"linecolor\":\"white\",\"showbackground\":true,\"ticks\":\"\",\"zerolinecolor\":\"white\",\"gridwidth\":2}},\"shapedefaults\":{\"line\":{\"color\":\"#2a3f5f\"}},\"annotationdefaults\":{\"arrowcolor\":\"#2a3f5f\",\"arrowhead\":0,\"arrowwidth\":1},\"geo\":{\"bgcolor\":\"white\",\"landcolor\":\"#E5ECF6\",\"subunitcolor\":\"white\",\"showland\":true,\"showlakes\":true,\"lakecolor\":\"white\"},\"title\":{\"x\":0.05},\"mapbox\":{\"style\":\"light\"}}}},                        {\"responsive\": true}                    ).then(function(){\n",
       "                            \n",
       "var gd = document.getElementById('f2962701-a491-4345-9855-18062241dddd');\n",
       "var x = new MutationObserver(function (mutations, observer) {{\n",
       "        var display = window.getComputedStyle(gd).display;\n",
       "        if (!display || display === 'none') {{\n",
       "            console.log([gd, 'removed!']);\n",
       "            Plotly.purge(gd);\n",
       "            observer.disconnect();\n",
       "        }}\n",
       "}});\n",
       "\n",
       "// Listen for the removal of the full notebook cells\n",
       "var notebookContainer = gd.closest('#notebook-container');\n",
       "if (notebookContainer) {{\n",
       "    x.observe(notebookContainer, {childList: true});\n",
       "}}\n",
       "\n",
       "// Listen for the clearing of the current output cell\n",
       "var outputEl = gd.closest('.output');\n",
       "if (outputEl) {{\n",
       "    x.observe(outputEl, {childList: true});\n",
       "}}\n",
       "\n",
       "                        })                };                });            </script>        </div>"
      ]
     },
     "metadata": {},
     "output_type": "display_data"
    }
   ],
   "source": [
    "import plotly.graph_objects as go\n",
    "from plotly.subplots import make_subplots\n",
    "\n",
    "fig = make_subplots(\n",
    "    rows=4, cols=1,\n",
    "    shared_xaxes=True,\n",
    "    vertical_spacing=0.03,\n",
    "    specs=[[{\"type\": \"table\"}],\n",
    "           [{\"type\": \"table\"}],\n",
    "           [{\"type\": \"table\"}],\n",
    "           [{\"type\": \"table\"}]]\n",
    ")\n",
    "\n",
    "fig.add_trace(go.Table(\n",
    "            header = dict(values = ['Step', 'Foward Estimate', 'Absolute Error', 'Relative Error']),\n",
    "            cells = dict(values = [step_range, fwrd, abs_fwrd, rel_fwrd])),\n",
    "             row = 1,\n",
    "             col = 1)\n",
    "\n",
    "fig.add_trace(go.Table(\n",
    "            header = dict(values = ['Step', 'Backward Estimate', 'Absolute Error', 'Relative Error']),\n",
    "            cells = dict(values = [step_range, bwrd, abs_bwrd, rel_bwrd])),\n",
    "             row = 2,\n",
    "             col = 1)\n",
    "\n",
    "fig.add_trace(go.Table(\n",
    "            header = dict(values = ['Step', 'Central Estimate', 'Absolute Error', 'Relative Error']),\n",
    "            cells = dict(values = [step_range, centr, abs_centr, rel_centr])),\n",
    "             row = 3,\n",
    "             col = 1)\n",
    "\n",
    "fig.add_trace(go.Table(\n",
    "            header = dict(values = ['Step', 'Finite Estimate', 'Absolute Error', 'Relative Error']),\n",
    "            cells = dict(values = [step_range, finite, abs_finite, rel_finite])),\n",
    "             row = 4,\n",
    "             col = 1)\n",
    "\n",
    "fig.show()\n",
    "\n"
   ]
  },
  {
   "cell_type": "markdown",
   "id": "81ee994d",
   "metadata": {},
   "source": [
    "# Question 2: Lagrange interpolation"
   ]
  },
  {
   "cell_type": "markdown",
   "id": "682f6c33",
   "metadata": {},
   "source": [
    "I have decided to break the code into two functions like Prof. Jacobs suggested. I do think it looks more readable and neat. "
   ]
  },
  {
   "cell_type": "code",
   "execution_count": 89,
   "id": "869dd5ac",
   "metadata": {},
   "outputs": [],
   "source": [
    "inpValue = [2, 2.1, 4]\n",
    "outpValue = [function(x) for x in inpValue]"
   ]
  },
  {
   "cell_type": "code",
   "execution_count": 90,
   "id": "f76ef7fd",
   "metadata": {},
   "outputs": [],
   "source": [
    "def lagrangeCoef(inp, outp, entry, var):\n",
    "    coef = 1\n",
    "    for i in range(len(inp)):\n",
    "        if i == entry:\n",
    "            continue\n",
    "        else:\n",
    "            coef = coef*(var - inp[i])/(inp[entry] - inp[i])\n",
    "    return coef\n",
    "\n",
    "def lagrangeInterpolator(inp, outp, var):\n",
    "    interp = 0\n",
    "    for i in range(len(inp)):\n",
    "        interp = interp + lagrangeCoef(inp, outp, i, var)*outp[i]\n",
    "    return interp"
   ]
  },
  {
   "cell_type": "markdown",
   "id": "8b3a6131",
   "metadata": {},
   "source": [
    "The following is the graph of the result calculated from the above funcrion. The graph of the function ln(x+1) will be included as well."
   ]
  },
  {
   "cell_type": "code",
   "execution_count": 91,
   "id": "ad197c30",
   "metadata": {},
   "outputs": [
    {
     "data": {
      "image/png": "[encoded data removed]",
      "text/plain": [
       "<Figure size 640x480 with 1 Axes>"
      ]
     },
     "metadata": {},
     "output_type": "display_data"
    }
   ],
   "source": [
    "import matplotlib.pyplot as pl\n",
    "import numpy as numpie\n",
    "\n",
    "x = numpie.arange(2, 5, 0.001)\n",
    "\n",
    "pl.scatter(inpValue, outpValue)\n",
    "pl.plot(x, lagrangeInterpolator(inpValue, outpValue, x))\n",
    "pl.plot(x, numpie.log(x+1))\n",
    "pl.title('Graph of Lagrange Interpolator')\n",
    "pl.legend(['Lagrange Interpolator', 'f(x)=ln(x+1)'])\n",
    "\n",
    "pl.show()"
   ]
  },
  {
   "cell_type": "markdown",
   "id": "dd42ec1f",
   "metadata": {},
   "source": [
    "Compute the absolute and relative error for the interpolation at center + 0.2."
   ]
  },
  {
   "cell_type": "code",
   "execution_count": 92,
   "id": "4bb2d44f",
   "metadata": {},
   "outputs": [],
   "source": [
    "func_err = [abs_err(lagrangeInterpolator(inpValue, outpValue, 2 + 0.2), function(2 + 0.2)),\n",
    "            rel_err(lagrangeInterpolator(inpValue, outpValue, 2 +0.2), function(2 + 0.2))]"
   ]
  },
  {
   "cell_type": "code",
   "execution_count": 93,
   "id": "b1770d2e",
   "metadata": {},
   "outputs": [
    {
     "data": {
      "text/plain": [
       "[-0.00027812012581129864, -0.0002391092569137807]"
      ]
     },
     "execution_count": 93,
     "metadata": {},
     "output_type": "execute_result"
    }
   ],
   "source": [
    "func_err"
   ]
  },
  {
   "cell_type": "markdown",
   "id": "9bfc6e4c",
   "metadata": {},
   "source": [
    "Compute the absolute and relative error for the second derivative of the interpolation at center +\n",
    "0.2."
   ]
  },
  {
   "cell_type": "code",
   "execution_count": 94,
   "id": "f64a52a8",
   "metadata": {},
   "outputs": [],
   "source": [
    "secondDerivativeLI = 2*outpValue[0]/((inpValue[0] - inpValue[1])*(inpValue[0] - inpValue[2]))  + 2*outpValue[1]/((inpValue[1] - inpValue[0])*(inpValue[1] - inpValue[2])) + 2*outpValue[2]/((inpValue[2] - inpValue[0])*(inpValue[2] - inpValue[1]))"
   ]
  },
  {
   "cell_type": "code",
   "execution_count": 95,
   "id": "a3d767e4",
   "metadata": {},
   "outputs": [
    {
     "data": {
      "text/plain": [
       "-0.0763004382599074"
      ]
     },
     "execution_count": 95,
     "metadata": {},
     "output_type": "execute_result"
    }
   ],
   "source": [
    "secondDerivativeLI"
   ]
  },
  {
   "cell_type": "code",
   "execution_count": 96,
   "id": "d1ce5375",
   "metadata": {},
   "outputs": [],
   "source": [
    "secondDerivativeLI_err = [abs_err(secondDerivativeLI, -1/(2.2 + 1)**2),\n",
    "                         rel_err(secondDerivativeLI, -1/(2.2 + 1)**2)]"
   ]
  },
  {
   "cell_type": "code",
   "execution_count": 97,
   "id": "67a82630",
   "metadata": {},
   "outputs": [
    {
     "data": {
      "text/plain": [
       "[-0.021355811740092587, 0.21868351221854812]"
      ]
     },
     "execution_count": 97,
     "metadata": {},
     "output_type": "execute_result"
    }
   ],
   "source": [
    "secondDerivativeLI_err"
   ]
  },
  {
   "cell_type": "markdown",
   "id": "d6abc1de",
   "metadata": {},
   "source": [
    "# Review"
   ]
  },
  {
   "cell_type": "markdown",
   "id": "d7749f7a",
   "metadata": {},
   "source": [
    "(a)\n",
    "Even though for this picked functions, all foward, backward, and central differernce are relatively as accurate as each others, but I can see from the computation that Central Difference would yield to a more precise result.\n",
    "\n",
    "Lagrange Interpolator is really great to guess the overall form and shape of the function, especially for Polynomial. However, it is not great to approximating second derivative appearently. I suspect that 0.02 is perhaps a not great great value to yield to a better result and also ln(x+1) is not polynomial."
   ]
  },
  {
   "cell_type": "markdown",
   "id": "befe3439",
   "metadata": {},
   "source": [
    "(b)\n",
    "Since backward, forward, and central difference are to approximating the derivative, and approximation are not preciuse result, short comings commparing to actual value is guranteed. These kind of appriximation uses two points on the function and the difference between those two points in value (in term of x axes) to approximate the derivative."
   ]
  },
  {
   "cell_type": "markdown",
   "id": "45cd4e9f",
   "metadata": {},
   "source": [
    "(c)\n",
    "The following is the generalized formula of Lagrange Interpolation for n-th degree\n",
    "$L_{i}(x)=\\frac{(x-x_{2})(x-x_{3})...(x-x_{i})(x-x_{i+1})}{(x_{1}-x_{2})(x_{1}-x_{3})...(x_{1}-x_{i})(x_{1}-x_{i+1})}L_{1}(x_{1}) + \\frac{(x-x_{1})(x-x_{3})...(x-x_{i})(x-x_{i+1})}{(x_{2}-x_{1})(x_{2}-x_{3})...(x_{2}-x_{i})(x_{2}-x_{i+1})}L_{2}(x_{2}) +...+ \\frac{(x-x_{1})(x-x_{2})...(x-x_{i-1})(x-x_{i+1})}{(x_{i}-x_{1})(x_{i}-x_{2})...(x_{i}-x_{i-1})(x_{i}-x_{i+1})}L_{i}(x_{i}) + \\frac{(x-x_{1})(x-x_{2})...(x-x_{i-1})(x-x_{i})}{(x_{i+1}-x_{1})(x_{i+1}-x_{2})...(x_{i+1}-x_{i-1})(x_{i+1}-x_{i})}L_{i+1}(x_{i+1})$"
   ]
  },
  {
   "cell_type": "markdown",
   "id": "331075b3",
   "metadata": {},
   "source": [
    "The shorter notation would be:\n",
    "$L_{i}(x) = \\sum_{i = 1}^{n+1} L(x_{i}) \\Pi_{j\\neq i}\\frac{x-x_{j}}{x_{i}-x{j}}$"
   ]
  },
  {
   "cell_type": "markdown",
   "id": "d0894d0e",
   "metadata": {},
   "source": [
    "(d) Each of the term of the Lagrange Interpolation formula represents each special case that is given (the location of a point). In order to make sure each special case is met (the location of a point to be on the graph), each of the term will have a coefficient. Coefficients are obtained by subtracting each point coordinator to the function, then calculating perpestive coefficient. The idea is that we assume the function is polynomial and according to given point coordination, we calculated the coefficents that are associated with each term."
   ]
  },
  {
   "cell_type": "code",
   "execution_count": null,
   "id": "2adaf8f2",
   "metadata": {},
   "outputs": [],
   "source": []
  }
 ],
 "metadata": {
  "kernelspec": {
   "display_name": "Python 3 (ipykernel)",
   "language": "python",
   "name": "python3"
  },
  "language_info": {
   "codemirror_mode": {
    "name": "ipython",
    "version": 3
   },
   "file_extension": ".py",
   "mimetype": "text/x-python",
   "name": "python",
   "nbconvert_exporter": "python",
   "pygments_lexer": "ipython3",
   "version": "3.9.13"
  }
 },
 "nbformat": 4,
 "nbformat_minor": 5
}
