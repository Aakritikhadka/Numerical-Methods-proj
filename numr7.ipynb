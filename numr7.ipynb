{
 "cells": [
  {
   "cell_type": "code",
   "execution_count": 1,
   "id": "31c448ea",
   "metadata": {},
   "outputs": [],
   "source": [
    "#Load your packages\n",
    "import numpy as np\n",
    "from scipy import integrate\n",
    "import matplotlib.pyplot as plt\n",
    "import pandas as pa\n",
    "import math\n",
    "\n",
    "\n",
    "%matplotlib inline\n",
    "\n",
    "def f(x):\n",
    "    return np.sin(x)"
   ]
  },
  {
   "cell_type": "code",
   "execution_count": 2,
   "id": "61689e28",
   "metadata": {},
   "outputs": [
    {
     "data": {
      "text/plain": [
       "[<matplotlib.lines.Line2D at 0x7fde9c76b400>]"
      ]
     },
     "execution_count": 2,
     "metadata": {},
     "output_type": "execute_result"
    },
    {
     "data": {
      "image/png": "[encoded data removed]",
      "text/plain": [
       "<Figure size 640x480 with 1 Axes>"
      ]
     },
     "metadata": {},
     "output_type": "display_data"
    }
   ],
   "source": [
    "x = np.arange(0,np.pi,.1)\n",
    "plt.plot(x,f(x))"
   ]
  },
  {
   "cell_type": "code",
   "execution_count": 3,
   "id": "d7f49756",
   "metadata": {},
   "outputs": [
    {
     "data": {
      "text/plain": [
       "(2.0, 2.220446049250313e-14)"
      ]
     },
     "execution_count": 3,
     "metadata": {},
     "output_type": "execute_result"
    }
   ],
   "source": [
    "integrate.quad(f,0,np.pi)"
   ]
  },
  {
   "cell_type": "code",
   "execution_count": 4,
   "id": "67e48314",
   "metadata": {},
   "outputs": [],
   "source": [
    "def deltaX(a,b,n):\n",
    "    return (b-a)/n\n",
    "\n",
    "def rmSum(function, a, b, n, choice = 'right'):\n",
    "    dx = deltaX(a,b,n)\n",
    "    if choice == 'right':\n",
    "        start=1\n",
    "    elif choice == 'left':\n",
    "        start=0\n",
    "    elif choice == 'mid':\n",
    "        start = 0\n",
    "    sum = 0\n",
    "    for i in range(start, n+start):\n",
    "        if choice != 'mid':\n",
    "            sum = sum + function(a+i*dx)*dx\n",
    "        else:\n",
    "            sum = sum + function(a+(i+0.5)*dx)*dx\n",
    "    return sum"
   ]
  },
  {
   "cell_type": "code",
   "execution_count": 5,
   "id": "9e9da510",
   "metadata": {},
   "outputs": [
    {
     "data": {
      "text/plain": [
       "1.9835235375094544"
      ]
     },
     "execution_count": 5,
     "metadata": {},
     "output_type": "execute_result"
    }
   ],
   "source": [
    "rmSum(f,0,np.pi,10,'right')"
   ]
  },
  {
   "cell_type": "code",
   "execution_count": 6,
   "id": "dfe150ee",
   "metadata": {},
   "outputs": [
    {
     "data": {
      "text/plain": [
       "1.4247188935594282"
      ]
     },
     "execution_count": 6,
     "metadata": {},
     "output_type": "execute_result"
    }
   ],
   "source": [
    "rmSum(f,1,4,10,'left')"
   ]
  },
  {
   "cell_type": "code",
   "execution_count": 7,
   "id": "5d0a92fb",
   "metadata": {},
   "outputs": [
    {
     "data": {
      "text/plain": [
       "1.1984350048097823"
      ]
     },
     "execution_count": 7,
     "metadata": {},
     "output_type": "execute_result"
    }
   ],
   "source": [
    "rmSum(f,1,4,10,'mid')"
   ]
  },
  {
   "cell_type": "markdown",
   "id": "25392154",
   "metadata": {},
   "source": [
    "CREATE A TABLE WITH DIFFERENT METHOD AND NUMBER OF RECT"
   ]
  },
  {
   "cell_type": "code",
   "execution_count": 8,
   "id": "c8886b13",
   "metadata": {},
   "outputs": [],
   "source": [
    "def simpsonOneThird(function,a,b,n):\n",
    "    dx = deltaX(a,b,n)\n",
    "    sum = 0\n",
    "    sum = sum + function(a)\n",
    "    sum = sum + function(b)\n",
    "    for i in range(n):\n",
    "        if i==a or i==b:\n",
    "            continue\n",
    "        elif i != a and i != b and i%2 == 0:\n",
    "            sum = sum + 2*function(a+dx*i)\n",
    "        elif i != a and i != b and i%2 != 0:\n",
    "            sum = sum + 4*function(a+dx*i)\n",
    "    sum = dx/3*sum\n",
    "    return sum\n",
    "\n"
   ]
  },
  {
   "cell_type": "code",
   "execution_count": 13,
   "id": "0ad4797a",
   "metadata": {},
   "outputs": [
    {
     "data": {
      "text/plain": [
       "1.4247188935594282"
      ]
     },
     "execution_count": 13,
     "metadata": {},
     "output_type": "execute_result"
    }
   ],
   "source": [
    "rmSum(f,1,4,10,'left')"
   ]
  },
  {
   "cell_type": "code",
   "execution_count": 14,
   "id": "8ae8aca0",
   "metadata": {},
   "outputs": [
    {
     "data": {
      "text/plain": [
       "0.8151718774721591"
      ]
     },
     "execution_count": 14,
     "metadata": {},
     "output_type": "execute_result"
    }
   ],
   "source": [
    "simpsonOneThird(f, 1, 4, 10)"
   ]
  },
  {
   "cell_type": "code",
   "execution_count": 15,
   "id": "fc8265e9",
   "metadata": {},
   "outputs": [
    {
     "data": {
      "text/plain": [
       "0.9452368495246808"
      ]
     },
     "execution_count": 15,
     "metadata": {},
     "output_type": "execute_result"
    }
   ],
   "source": [
    "rmSum(f,1,4,10,'right')"
   ]
  },
  {
   "cell_type": "code",
   "execution_count": 16,
   "id": "96afc852",
   "metadata": {},
   "outputs": [
    {
     "data": {
      "text/plain": [
       "1.1984350048097823"
      ]
     },
     "execution_count": 16,
     "metadata": {},
     "output_type": "execute_result"
    }
   ],
   "source": [
    "rmSum(f,1,4,10,'mid')"
   ]
  },
  {
   "cell_type": "code",
   "execution_count": 17,
   "id": "09a1073f",
   "metadata": {},
   "outputs": [],
   "source": [
    "numOfRect = [5,10,15,100,1000]"
   ]
  },
  {
   "cell_type": "code",
   "execution_count": null,
   "id": "0afe094e",
   "metadata": {},
   "outputs": [],
   "source": []
  }
 ],
 "metadata": {
  "kernelspec": {
   "display_name": "Python 3 (ipykernel)",
   "language": "python",
   "name": "python3"
  },
  "language_info": {
   "codemirror_mode": {
    "name": "ipython",
    "version": 3
   },
   "file_extension": ".py",
   "mimetype": "text/x-python",
   "name": "python",
   "nbconvert_exporter": "python",
   "pygments_lexer": "ipython3",
   "version": "3.9.13"
  }
 },
 "nbformat": 4,
 "nbformat_minor": 5
}
