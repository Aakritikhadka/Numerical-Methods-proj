{
  "cells": [
    {
      "cell_type": "markdown",
      "metadata": {
        "id": "view-in-github",
        "colab_type": "text"
      },
      "source": [
        "<a href=\"https://colab.research.google.com/github/aayushbhurtel/Numerical-Methods-proj/blob/main/BhurtelAayush_4413_Lesson3_Non_LinearRoots.ipynb\" target=\"_parent\"><img src=\"https://colab.research.google.com/assets/colab-badge.svg\" alt=\"Open In Colab\"/></a>"
      ]
    },
    {
      "cell_type": "markdown",
      "id": "1270a047",
      "metadata": {
        "id": "1270a047"
      },
      "source": [
        "# Project Module 3: Non-Linear Roots"
      ]
    },
    {
      "cell_type": "markdown",
      "id": "0c353a7a",
      "metadata": {
        "id": "0c353a7a"
      },
      "source": [
        "I'll first include functions previously defined for this project."
      ]
    },
    {
      "cell_type": "code",
      "execution_count": 3,
      "id": "aad23209",
      "metadata": {
        "id": "aad23209"
      },
      "outputs": [],
      "source": [
        "import math\n",
        "pi = math.pi\n",
        "sqrt2 = math.sqrt(2)\n",
        "\n",
        "#ERRORS\n",
        "def abs_err(estimated_value, actual_value):\n",
        "    return actual_value - estimated_value\n",
        "\n",
        "def rel_err(estimated_value, actual_value):\n",
        "    return abs_err(estimated_value, actual_value)/actual_value\n",
        "\n",
        "def apprx_err(prev_est, curr_est):\n",
        "    return curr_est - prev_est\n",
        "\n",
        "def rel_apprx_err(prev_est, curr_est):\n",
        "    return apprx_err(prev_est, curr_est)/curr_est\n",
        "\n",
        "def general_Taylor_coef(degree):\n",
        "    return (-1)**(math.floor(degree/2))/sqrt2*math.factorial(degree)\n",
        "\n",
        "def taylor_Poly_term(degree, input):\n",
        "    return general_Taylor_coef(degree)*(input-pi/4)**degree\n",
        "\n",
        "def Taylor_Poly(degree, input):\n",
        "    sum = 0;\n",
        "    for i in range(0, degree+1):\n",
        "        sum += taylor_Poly_term(i, input)\n",
        "    return sum\n",
        "\n",
        "#DIFFERENCES\n",
        "def fwrd_diff(func, first, step):\n",
        "    return (func(first + step) - func(first))/step\n",
        "\n",
        "def bwrd_diff(func, first, step):\n",
        "    return (func(first) - func(first-step))/step\n",
        "\n",
        "def centr_diff(func, first, step):\n",
        "    return (func(first + step) - func(first - step) )/(step*2)\n",
        "\n",
        "def finite_diff(func, first, step):\n",
        "    return (func(first + 2*step) - 2*func(first + step) + func(first))/step**2\n",
        "\n",
        "#LAGRANGE\n",
        "def lagrangeCoef(inp, outp, entry, var):\n",
        "    coef = 1\n",
        "    for i in range(len(inp)):\n",
        "        if i == entry:\n",
        "            continue\n",
        "        else:\n",
        "            coef = coef*(var - inp[i])/(inp[entry] - inp[i])\n",
        "    return coef\n",
        "\n",
        "def lagrangeInterpolator(inp, outp, var):\n",
        "    interp = 0\n",
        "    for i in range(len(inp)):\n",
        "        interp = interp + lagrangeCoef(inp, outp, i, var)*outp[i]\n",
        "    return interp\n",
        "\n",
        "\n",
        "#CHOSEN FUNCTION (used is Discussion 3):\n",
        "def function(x):\n",
        "    return 2*x**3 +x**2 -13*x + 6\n",
        "\n",
        "def func_derivative(x):\n",
        "    return 6*x**2 + 2*x -13"
      ]
    },
    {
      "cell_type": "markdown",
      "id": "1c0b7502",
      "metadata": {
        "id": "1c0b7502"
      },
      "source": [
        "Now we move on to question 1."
      ]
    },
    {
      "cell_type": "markdown",
      "id": "d2353f91",
      "metadata": {
        "id": "d2353f91"
      },
      "source": [
        "# Question 1: Newton-Rapshon Method"
      ]
    },
    {
      "cell_type": "markdown",
      "id": "7b3a8ce6",
      "metadata": {
        "id": "7b3a8ce6"
      },
      "source": [
        "here, we create a alogithm for finding roots of a function when both the function and its derivative is known. \n",
        "NRiterator returns the updated roots of a function based on Newton-Rapshon Method which is based on the current value.\n",
        "\n",
        "Function NR takes in five parameters, 'initial' is the initial approximate value of root, 'tolerrance' is the desired level of accuracy and maxIteration is the maximum number of iteration allowed. The NR function returns the estimated root and the number of iterations required to reach it, or None if the method fails to converge within the specified number of iterations."
      ]
    },
    {
      "cell_type": "code",
      "execution_count": 4,
      "id": "6650de14",
      "metadata": {
        "id": "6650de14"
      },
      "outputs": [],
      "source": [
        "def NRiterator(func, derivative, currValue):\n",
        "    return currValue - func(currValue)/derivative(currValue)\n",
        "\n",
        "def NR(func, derivative, initial, tolerrance, maxIterations):\n",
        "    value = initial\n",
        "    for degree in range(maxIterations):\n",
        "        if derivative(value) == 0:\n",
        "            print(\"Derivative at Zero, cannot further proceed.\")\n",
        "            return None\n",
        "        if abs(func(value)) < tolerrance:\n",
        "            return [value, degree]\n",
        "        value = NRiterator(func, derivative, value)\n",
        "    return None"
      ]
    },
    {
      "cell_type": "markdown",
      "id": "937eea91",
      "metadata": {
        "id": "937eea91"
      },
      "source": [
        "here, we have applied aboved created alogrith into the selected function which is \"ln(x+1)\" with error tolerance of 0.01%."
      ]
    },
    {
      "cell_type": "code",
      "execution_count": 5,
      "id": "373f5456",
      "metadata": {
        "colab": {
          "base_uri": "https://localhost:8080/"
        },
        "id": "373f5456",
        "outputId": "4c0bca3b-69fc-4cb3-da7a-09b0005326eb"
      },
      "outputs": [
        {
          "output_type": "execute_result",
          "data": {
            "text/plain": [
              "[0.4999999911091026, 4]"
            ]
          },
          "metadata": {},
          "execution_count": 5
        }
      ],
      "source": [
        "NR(function, func_derivative, 1,.00001, 10)"
      ]
    },
    {
      "cell_type": "code",
      "source": [
        "NR(function, func_derivative, 1,.0001, 10)"
      ],
      "metadata": {
        "colab": {
          "base_uri": "https://localhost:8080/"
        },
        "id": "SLg7Y6zzDB4G",
        "outputId": "41a3f5e5-2b80-486d-f815-e1ce90ff43fa"
      },
      "id": "SLg7Y6zzDB4G",
      "execution_count": 6,
      "outputs": [
        {
          "output_type": "execute_result",
          "data": {
            "text/plain": [
              "[0.4999999911091026, 4]"
            ]
          },
          "metadata": {},
          "execution_count": 6
        }
      ]
    },
    {
      "cell_type": "markdown",
      "source": [
        "here, I created a list of data which is i am going to feed into above created algorithm. we are using for loop to go through all the element in the initialList which is then creates a list of roots and iterations."
      ],
      "metadata": {
        "id": "hIk-zviNDujk"
      },
      "id": "hIk-zviNDujk"
    },
    {
      "cell_type": "code",
      "execution_count": 7,
      "id": "4d3ace24",
      "metadata": {
        "id": "4d3ace24"
      },
      "outputs": [],
      "source": [
        "initialList = [-4, -3, 1, 1.3, 1.7, 2.1, 2.5, 2.8, 4, 5.1]\n",
        "roots = []\n",
        "iteration = []\n",
        "\n",
        "for initial in initialList:\n",
        "    if (x := NR(function, func_derivative, initial, 1e-10, 20)) != None:\n",
        "        roots.append(x[0])\n",
        "        iteration.append(x[1])\n",
        "    else:\n",
        "        roots.append('Not found')\n",
        "        iteration.append('>20')"
      ]
    },
    {
      "cell_type": "markdown",
      "source": [
        "From above created list of data, we are going to plot those list into a table using plotly."
      ],
      "metadata": {
        "id": "3P9U36f-EGEW"
      },
      "id": "3P9U36f-EGEW"
    },
    {
      "cell_type": "code",
      "execution_count": 8,
      "id": "de5a099c",
      "metadata": {
        "colab": {
          "base_uri": "https://localhost:8080/",
          "height": 542
        },
        "id": "de5a099c",
        "outputId": "668fe6f6-411f-43f0-f5a0-a9155a305b48"
      },
      "outputs": [
        {
          "output_type": "display_data",
          "data": {
            "text/html": [
              "<html>\n",
              "<head><meta charset=\"utf-8\" /></head>\n",
              "<body>\n",
              "    <div>            <script src=\"https://cdnjs.cloudflare.com/ajax/libs/mathjax/2.7.5/MathJax.js?config=TeX-AMS-MML_SVG\"></script><script type=\"text/javascript\">if (window.MathJax && window.MathJax.Hub && window.MathJax.Hub.Config) {window.MathJax.Hub.Config({SVG: {font: \"STIX-Web\"}});}</script>                <script type=\"text/javascript\">window.PlotlyConfig = {MathJaxConfig: 'local'};</script>\n",
              "        <script src=\"https://cdn.plot.ly/plotly-2.18.2.min.js\"></script>                <div id=\"5d255717-144e-4b4b-b141-5ca927312082\" class=\"plotly-graph-div\" style=\"height:525px; width:100%;\"></div>            <script type=\"text/javascript\">                                    window.PLOTLYENV=window.PLOTLYENV || {};                                    if (document.getElementById(\"5d255717-144e-4b4b-b141-5ca927312082\")) {                    Plotly.newPlot(                        \"5d255717-144e-4b4b-b141-5ca927312082\",                        [{\"cells\":{\"values\":[[-4,-3,1,1.3,1.7,2.1,2.5,2.8,4,5.1],[-3.0000000000000058,-3,0.49999999999999994,-3.0000000000000644,2.0000000000000004,2.0,2.0,2.000000000003533,2.0,2.000000000000152],[5,0,5,10,5,4,5,5,7,7]]},\"header\":{\"values\":[\"Initial\",\"Roots\",\"Iterations\"]},\"type\":\"table\"}],                        {\"template\":{\"data\":{\"histogram2dcontour\":[{\"type\":\"histogram2dcontour\",\"colorbar\":{\"outlinewidth\":0,\"ticks\":\"\"},\"colorscale\":[[0.0,\"#0d0887\"],[0.1111111111111111,\"#46039f\"],[0.2222222222222222,\"#7201a8\"],[0.3333333333333333,\"#9c179e\"],[0.4444444444444444,\"#bd3786\"],[0.5555555555555556,\"#d8576b\"],[0.6666666666666666,\"#ed7953\"],[0.7777777777777778,\"#fb9f3a\"],[0.8888888888888888,\"#fdca26\"],[1.0,\"#f0f921\"]]}],\"choropleth\":[{\"type\":\"choropleth\",\"colorbar\":{\"outlinewidth\":0,\"ticks\":\"\"}}],\"histogram2d\":[{\"type\":\"histogram2d\",\"colorbar\":{\"outlinewidth\":0,\"ticks\":\"\"},\"colorscale\":[[0.0,\"#0d0887\"],[0.1111111111111111,\"#46039f\"],[0.2222222222222222,\"#7201a8\"],[0.3333333333333333,\"#9c179e\"],[0.4444444444444444,\"#bd3786\"],[0.5555555555555556,\"#d8576b\"],[0.6666666666666666,\"#ed7953\"],[0.7777777777777778,\"#fb9f3a\"],[0.8888888888888888,\"#fdca26\"],[1.0,\"#f0f921\"]]}],\"heatmap\":[{\"type\":\"heatmap\",\"colorbar\":{\"outlinewidth\":0,\"ticks\":\"\"},\"colorscale\":[[0.0,\"#0d0887\"],[0.1111111111111111,\"#46039f\"],[0.2222222222222222,\"#7201a8\"],[0.3333333333333333,\"#9c179e\"],[0.4444444444444444,\"#bd3786\"],[0.5555555555555556,\"#d8576b\"],[0.6666666666666666,\"#ed7953\"],[0.7777777777777778,\"#fb9f3a\"],[0.8888888888888888,\"#fdca26\"],[1.0,\"#f0f921\"]]}],\"heatmapgl\":[{\"type\":\"heatmapgl\",\"colorbar\":{\"outlinewidth\":0,\"ticks\":\"\"},\"colorscale\":[[0.0,\"#0d0887\"],[0.1111111111111111,\"#46039f\"],[0.2222222222222222,\"#7201a8\"],[0.3333333333333333,\"#9c179e\"],[0.4444444444444444,\"#bd3786\"],[0.5555555555555556,\"#d8576b\"],[0.6666666666666666,\"#ed7953\"],[0.7777777777777778,\"#fb9f3a\"],[0.8888888888888888,\"#fdca26\"],[1.0,\"#f0f921\"]]}],\"contourcarpet\":[{\"type\":\"contourcarpet\",\"colorbar\":{\"outlinewidth\":0,\"ticks\":\"\"}}],\"contour\":[{\"type\":\"contour\",\"colorbar\":{\"outlinewidth\":0,\"ticks\":\"\"},\"colorscale\":[[0.0,\"#0d0887\"],[0.1111111111111111,\"#46039f\"],[0.2222222222222222,\"#7201a8\"],[0.3333333333333333,\"#9c179e\"],[0.4444444444444444,\"#bd3786\"],[0.5555555555555556,\"#d8576b\"],[0.6666666666666666,\"#ed7953\"],[0.7777777777777778,\"#fb9f3a\"],[0.8888888888888888,\"#fdca26\"],[1.0,\"#f0f921\"]]}],\"surface\":[{\"type\":\"surface\",\"colorbar\":{\"outlinewidth\":0,\"ticks\":\"\"},\"colorscale\":[[0.0,\"#0d0887\"],[0.1111111111111111,\"#46039f\"],[0.2222222222222222,\"#7201a8\"],[0.3333333333333333,\"#9c179e\"],[0.4444444444444444,\"#bd3786\"],[0.5555555555555556,\"#d8576b\"],[0.6666666666666666,\"#ed7953\"],[0.7777777777777778,\"#fb9f3a\"],[0.8888888888888888,\"#fdca26\"],[1.0,\"#f0f921\"]]}],\"mesh3d\":[{\"type\":\"mesh3d\",\"colorbar\":{\"outlinewidth\":0,\"ticks\":\"\"}}],\"scatter\":[{\"fillpattern\":{\"fillmode\":\"overlay\",\"size\":10,\"solidity\":0.2},\"type\":\"scatter\"}],\"parcoords\":[{\"type\":\"parcoords\",\"line\":{\"colorbar\":{\"outlinewidth\":0,\"ticks\":\"\"}}}],\"scatterpolargl\":[{\"type\":\"scatterpolargl\",\"marker\":{\"colorbar\":{\"outlinewidth\":0,\"ticks\":\"\"}}}],\"bar\":[{\"error_x\":{\"color\":\"#2a3f5f\"},\"error_y\":{\"color\":\"#2a3f5f\"},\"marker\":{\"line\":{\"color\":\"#E5ECF6\",\"width\":0.5},\"pattern\":{\"fillmode\":\"overlay\",\"size\":10,\"solidity\":0.2}},\"type\":\"bar\"}],\"scattergeo\":[{\"type\":\"scattergeo\",\"marker\":{\"colorbar\":{\"outlinewidth\":0,\"ticks\":\"\"}}}],\"scatterpolar\":[{\"type\":\"scatterpolar\",\"marker\":{\"colorbar\":{\"outlinewidth\":0,\"ticks\":\"\"}}}],\"histogram\":[{\"marker\":{\"pattern\":{\"fillmode\":\"overlay\",\"size\":10,\"solidity\":0.2}},\"type\":\"histogram\"}],\"scattergl\":[{\"type\":\"scattergl\",\"marker\":{\"colorbar\":{\"outlinewidth\":0,\"ticks\":\"\"}}}],\"scatter3d\":[{\"type\":\"scatter3d\",\"line\":{\"colorbar\":{\"outlinewidth\":0,\"ticks\":\"\"}},\"marker\":{\"colorbar\":{\"outlinewidth\":0,\"ticks\":\"\"}}}],\"scattermapbox\":[{\"type\":\"scattermapbox\",\"marker\":{\"colorbar\":{\"outlinewidth\":0,\"ticks\":\"\"}}}],\"scatterternary\":[{\"type\":\"scatterternary\",\"marker\":{\"colorbar\":{\"outlinewidth\":0,\"ticks\":\"\"}}}],\"scattercarpet\":[{\"type\":\"scattercarpet\",\"marker\":{\"colorbar\":{\"outlinewidth\":0,\"ticks\":\"\"}}}],\"carpet\":[{\"aaxis\":{\"endlinecolor\":\"#2a3f5f\",\"gridcolor\":\"white\",\"linecolor\":\"white\",\"minorgridcolor\":\"white\",\"startlinecolor\":\"#2a3f5f\"},\"baxis\":{\"endlinecolor\":\"#2a3f5f\",\"gridcolor\":\"white\",\"linecolor\":\"white\",\"minorgridcolor\":\"white\",\"startlinecolor\":\"#2a3f5f\"},\"type\":\"carpet\"}],\"table\":[{\"cells\":{\"fill\":{\"color\":\"#EBF0F8\"},\"line\":{\"color\":\"white\"}},\"header\":{\"fill\":{\"color\":\"#C8D4E3\"},\"line\":{\"color\":\"white\"}},\"type\":\"table\"}],\"barpolar\":[{\"marker\":{\"line\":{\"color\":\"#E5ECF6\",\"width\":0.5},\"pattern\":{\"fillmode\":\"overlay\",\"size\":10,\"solidity\":0.2}},\"type\":\"barpolar\"}],\"pie\":[{\"automargin\":true,\"type\":\"pie\"}]},\"layout\":{\"autotypenumbers\":\"strict\",\"colorway\":[\"#636efa\",\"#EF553B\",\"#00cc96\",\"#ab63fa\",\"#FFA15A\",\"#19d3f3\",\"#FF6692\",\"#B6E880\",\"#FF97FF\",\"#FECB52\"],\"font\":{\"color\":\"#2a3f5f\"},\"hovermode\":\"closest\",\"hoverlabel\":{\"align\":\"left\"},\"paper_bgcolor\":\"white\",\"plot_bgcolor\":\"#E5ECF6\",\"polar\":{\"bgcolor\":\"#E5ECF6\",\"angularaxis\":{\"gridcolor\":\"white\",\"linecolor\":\"white\",\"ticks\":\"\"},\"radialaxis\":{\"gridcolor\":\"white\",\"linecolor\":\"white\",\"ticks\":\"\"}},\"ternary\":{\"bgcolor\":\"#E5ECF6\",\"aaxis\":{\"gridcolor\":\"white\",\"linecolor\":\"white\",\"ticks\":\"\"},\"baxis\":{\"gridcolor\":\"white\",\"linecolor\":\"white\",\"ticks\":\"\"},\"caxis\":{\"gridcolor\":\"white\",\"linecolor\":\"white\",\"ticks\":\"\"}},\"coloraxis\":{\"colorbar\":{\"outlinewidth\":0,\"ticks\":\"\"}},\"colorscale\":{\"sequential\":[[0.0,\"#0d0887\"],[0.1111111111111111,\"#46039f\"],[0.2222222222222222,\"#7201a8\"],[0.3333333333333333,\"#9c179e\"],[0.4444444444444444,\"#bd3786\"],[0.5555555555555556,\"#d8576b\"],[0.6666666666666666,\"#ed7953\"],[0.7777777777777778,\"#fb9f3a\"],[0.8888888888888888,\"#fdca26\"],[1.0,\"#f0f921\"]],\"sequentialminus\":[[0.0,\"#0d0887\"],[0.1111111111111111,\"#46039f\"],[0.2222222222222222,\"#7201a8\"],[0.3333333333333333,\"#9c179e\"],[0.4444444444444444,\"#bd3786\"],[0.5555555555555556,\"#d8576b\"],[0.6666666666666666,\"#ed7953\"],[0.7777777777777778,\"#fb9f3a\"],[0.8888888888888888,\"#fdca26\"],[1.0,\"#f0f921\"]],\"diverging\":[[0,\"#8e0152\"],[0.1,\"#c51b7d\"],[0.2,\"#de77ae\"],[0.3,\"#f1b6da\"],[0.4,\"#fde0ef\"],[0.5,\"#f7f7f7\"],[0.6,\"#e6f5d0\"],[0.7,\"#b8e186\"],[0.8,\"#7fbc41\"],[0.9,\"#4d9221\"],[1,\"#276419\"]]},\"xaxis\":{\"gridcolor\":\"white\",\"linecolor\":\"white\",\"ticks\":\"\",\"title\":{\"standoff\":15},\"zerolinecolor\":\"white\",\"automargin\":true,\"zerolinewidth\":2},\"yaxis\":{\"gridcolor\":\"white\",\"linecolor\":\"white\",\"ticks\":\"\",\"title\":{\"standoff\":15},\"zerolinecolor\":\"white\",\"automargin\":true,\"zerolinewidth\":2},\"scene\":{\"xaxis\":{\"backgroundcolor\":\"#E5ECF6\",\"gridcolor\":\"white\",\"linecolor\":\"white\",\"showbackground\":true,\"ticks\":\"\",\"zerolinecolor\":\"white\",\"gridwidth\":2},\"yaxis\":{\"backgroundcolor\":\"#E5ECF6\",\"gridcolor\":\"white\",\"linecolor\":\"white\",\"showbackground\":true,\"ticks\":\"\",\"zerolinecolor\":\"white\",\"gridwidth\":2},\"zaxis\":{\"backgroundcolor\":\"#E5ECF6\",\"gridcolor\":\"white\",\"linecolor\":\"white\",\"showbackground\":true,\"ticks\":\"\",\"zerolinecolor\":\"white\",\"gridwidth\":2}},\"shapedefaults\":{\"line\":{\"color\":\"#2a3f5f\"}},\"annotationdefaults\":{\"arrowcolor\":\"#2a3f5f\",\"arrowhead\":0,\"arrowwidth\":1},\"geo\":{\"bgcolor\":\"white\",\"landcolor\":\"#E5ECF6\",\"subunitcolor\":\"white\",\"showland\":true,\"showlakes\":true,\"lakecolor\":\"white\"},\"title\":{\"x\":0.05},\"mapbox\":{\"style\":\"light\"}}}},                        {\"responsive\": true}                    ).then(function(){\n",
              "                            \n",
              "var gd = document.getElementById('5d255717-144e-4b4b-b141-5ca927312082');\n",
              "var x = new MutationObserver(function (mutations, observer) {{\n",
              "        var display = window.getComputedStyle(gd).display;\n",
              "        if (!display || display === 'none') {{\n",
              "            console.log([gd, 'removed!']);\n",
              "            Plotly.purge(gd);\n",
              "            observer.disconnect();\n",
              "        }}\n",
              "}});\n",
              "\n",
              "// Listen for the removal of the full notebook cells\n",
              "var notebookContainer = gd.closest('#notebook-container');\n",
              "if (notebookContainer) {{\n",
              "    x.observe(notebookContainer, {childList: true});\n",
              "}}\n",
              "\n",
              "// Listen for the clearing of the current output cell\n",
              "var outputEl = gd.closest('.output');\n",
              "if (outputEl) {{\n",
              "    x.observe(outputEl, {childList: true});\n",
              "}}\n",
              "\n",
              "                        })                };                            </script>        </div>\n",
              "</body>\n",
              "</html>"
            ]
          },
          "metadata": {}
        }
      ],
      "source": [
        "import plotly.graph_objects as nogo\n",
        "from plotly.subplots import make_subplots\n",
        "\n",
        "fig = nogo.Figure(data=[nogo.Table(\n",
        "                header=dict(values=['Initial', 'Roots', 'Iterations']),\n",
        "                 cells=dict(values = [initialList, roots, iteration]))\n",
        "                     ])\n",
        "fig.show()"
      ]
    },
    {
      "cell_type": "markdown",
      "id": "cb65121a",
      "metadata": {
        "id": "cb65121a"
      },
      "source": [
        "I think the results are neat and pretty accurate."
      ]
    },
    {
      "cell_type": "markdown",
      "id": "843ebaab",
      "metadata": {
        "id": "843ebaab"
      },
      "source": [
        "# Bisection Method"
      ]
    },
    {
      "cell_type": "markdown",
      "id": "b2f6be9e",
      "metadata": {
        "id": "b2f6be9e"
      },
      "source": [
        "I pick Bisection because professor said it to be the easiest and I already had migraine solving cubic function."
      ]
    },
    {
      "cell_type": "code",
      "execution_count": 9,
      "id": "0670cb49",
      "metadata": {
        "id": "0670cb49"
      },
      "outputs": [],
      "source": [
        "def biMiddle(big, small):\n",
        "    return (small + big)/2\n",
        "\n",
        "def findInterval(func, xBig, xSmall):\n",
        "    xMid = biMiddle(xBig, xSmall)\n",
        "    if func(xMid)*func(xBig) < 0:\n",
        "        return [xBig, xMid]\n",
        "    if func(xMid)*func(xBig) > 0:\n",
        "        return [xMid, xSmall]\n",
        "    if func(xMid)*func(xBig) == 0:\n",
        "        return [xMid, xMid]\n",
        "\n",
        "def biSection(func, initialBig, initialSmall, maxLoopCount):\n",
        "    interval = [initialBig, initialSmall]\n",
        "    if func(initialSmall)*func(initialBig) > 0:\n",
        "        return \"You are obligated to choose two numbers so that the product of f(x) from each is negative.\"\n",
        "    for i in range(maxLoopCount):\n",
        "        if interval[0] == interval[1]:\n",
        "            return interval[0]\n",
        "        else:\n",
        "            interval = findInterval(func, interval[0], interval[1])\n",
        "    return interval\n",
        "        "
      ]
    },
    {
      "cell_type": "code",
      "execution_count": 10,
      "id": "00ff3757",
      "metadata": {
        "colab": {
          "base_uri": "https://localhost:8080/"
        },
        "id": "00ff3757",
        "outputId": "0a124f58-5534-42be-a2f9-f1e636a9edcb"
      },
      "outputs": [
        {
          "output_type": "execute_result",
          "data": {
            "text/plain": [
              "[3.1415926535897936, 3.141592653589793]"
            ]
          },
          "metadata": {},
          "execution_count": 10
        }
      ],
      "source": [
        "biSection(math.sin, 3*pi/2, pi/2+.1, 300)"
      ]
    },
    {
      "cell_type": "code",
      "execution_count": 11,
      "id": "9ebb232a",
      "metadata": {
        "id": "9ebb232a"
      },
      "outputs": [],
      "source": [
        "def biMiddle(big, small):\n",
        "    return (small + big)/2\n",
        "\n",
        "def findInterval(func, xBig, xSmall):\n",
        "    xMid = biMiddle(xBig, xSmall)\n",
        "    if func(xMid)*func(xBig) < 0:\n",
        "        return [xBig, xMid]\n",
        "    if func(xMid)*func(xBig) > 0:\n",
        "        return [xMid, xSmall]\n",
        "    if func(xMid)*func(xBig) == 0:\n",
        "        return [xMid, xMid]\n",
        "\n",
        "def biSection(func, initialBig, initialSmall, maxLoopCount):\n",
        "    interval = [initialBig, initialSmall]\n",
        "    if func(initialSmall)*func(initialBig) > 0:\n",
        "        return \"You are obligated to choose two numbers so that the product of f(x) from each is negative.\"\n",
        "    for i in range(maxLoopCount):\n",
        "        if interval[0] == interval[1]:\n",
        "            return interval[0]\n",
        "        else:\n",
        "            interval = findInterval(func, interval[0], interval[1])\n",
        "    return interval\n",
        "        "
      ]
    },
    {
      "cell_type": "markdown",
      "source": [
        "lets test this method."
      ],
      "metadata": {
        "id": "jFfIOTxk7x-K"
      },
      "id": "jFfIOTxk7x-K"
    },
    {
      "cell_type": "code",
      "source": [
        "biSection(math.sin, pi/2,pi/4,20)"
      ],
      "metadata": {
        "colab": {
          "base_uri": "https://localhost:8080/",
          "height": 35
        },
        "id": "vND4j4507xa2",
        "outputId": "f8545e06-9945-4224-b714-b01d61ac19b9"
      },
      "id": "vND4j4507xa2",
      "execution_count": 14,
      "outputs": [
        {
          "output_type": "execute_result",
          "data": {
            "text/plain": [
              "'You are obligated to choose two numbers so that the product of f(x) from each is negative.'"
            ],
            "application/vnd.google.colaboratory.intrinsic+json": {
              "type": "string"
            }
          },
          "metadata": {},
          "execution_count": 14
        }
      ]
    },
    {
      "cell_type": "markdown",
      "source": [
        "This gives us error because both $\\sin(\\pi/2)$ and $\\sin(\\pi/4)$ are positive values.\n",
        "\n",
        "This is because the bisection method requires the function to change sign within interval to find the roots within the interval.\n",
        "\n",
        "We can fix this error by providing positive and negative values."
      ],
      "metadata": {
        "id": "DWyuZtof7-ZK"
      },
      "id": "DWyuZtof7-ZK"
    },
    {
      "cell_type": "code",
      "source": [
        "biSection(math.sin, 3*pi/2,pi/4,20)"
      ],
      "metadata": {
        "colab": {
          "base_uri": "https://localhost:8080/"
        },
        "id": "nqHgNldT8x9t",
        "outputId": "b5af5f36-9dd5-485a-8a85-57bda6ec3240"
      },
      "id": "nqHgNldT8x9t",
      "execution_count": 15,
      "outputs": [
        {
          "output_type": "execute_result",
          "data": {
            "text/plain": [
              "[3.1415941516179062, 3.1415904065476234]"
            ]
          },
          "metadata": {},
          "execution_count": 15
        }
      ]
    },
    {
      "cell_type": "markdown",
      "id": "806ae165",
      "metadata": {
        "id": "806ae165"
      },
      "source": [
        "Report for this coding project.\n",
        "# Non-Linear Roots #"
      ]
    },
    {
      "cell_type": "markdown",
      "id": "cac7e498",
      "metadata": {
        "id": "cac7e498"
      },
      "source": [
        "Authors: Aayush Bhurtel, HoangTan Truong \n",
        "\n",
        "Class: CPSMA 4413\n",
        "\n",
        "Instructor: Dr. Nicholas Jacob"
      ]
    },
    {
      "cell_type": "markdown",
      "id": "8c5486b0",
      "metadata": {
        "id": "8c5486b0"
      },
      "source": [
        "(a) Describe your findings in words.\n",
        "\n",
        "=> Newton-Raphson method depends on an initial estimate of the root, whereas bisection method requires an initial interval containing the root.\n",
        "\n",
        "From the table in newton-rapshon method, we can see that if the inital estimate is close to an actual root, it converges faster with less iteration. But if the inital estimate is far then it might converge to a wrong root.\n",
        "\n",
        "Whereas, in bisection method, initial value must be choosen carefully to avoid an opposite sign error. Other then that, bisection method will converge to a root within the given interal. If the interval is large then it might take some time i.e. converges slowly when compared to newton-rapshon method."
      ]
    },
    {
      "cell_type": "markdown",
      "id": "d8311ce2",
      "metadata": {
        "id": "d8311ce2"
      },
      "source": [
        "(b) Discuss the appropriateness of searching for roots of the known function f. How did your initial\n",
        "seed play into the accuracy of your found root. Were you surprised in any way by the convergence\n",
        "or lack their of?\n",
        "\n",
        "\n",
        "=> Searching for roots of a known function is a important task in numerical analysis. It allows us to find the solutions of equations that cannot be solved analytically.\n",
        "\n",
        "Initial seed playes an critial role for finding the roots using these alrorithm. If the initial seed is too far from the actual root, the algorithm may fail to converge or converge to a wrong root."
      ]
    },
    {
      "cell_type": "markdown",
      "id": "d42b9cb9",
      "metadata": {
        "id": "d42b9cb9"
      },
      "source": [
        "(c) Discuss the differences between the Newton-Raphson Method and the other algorithm. What\n",
        "cases is the Newton-Raphson not appropriate? Consider what you know or don’t know about the\n",
        "Lagrange Interpolation.\n",
        "=> differences between Newton-Raphson Method and other algorithms are mainly based on:\n",
        "1. convergence speed \n",
        "2. intial seeds\n",
        "3. dependent on functions\n",
        "\n",
        "Newton-Rapshon method converges faster if the estimated values are close to actual root. Initail seeds should be carefully estimated so that it produces accurate result. if the inital seeds are very far then the convergence is off and it might produce a different root. Newton-Raphson method also depends on the function and its derivaties where as other algorithm like bisection method only depends on the function itself.\n",
        "\n",
        "Larange Interpolation is not exactly a root finding algorithm. It is the algorithm for approximating a function based on data. therefore, if the langrange interpolation is accurate then it can be used on root-finding algorithm to output an accurate roots."
      ]
    }
  ],
  "metadata": {
    "kernelspec": {
      "display_name": "Python 3 (ipykernel)",
      "language": "python",
      "name": "python3"
    },
    "language_info": {
      "codemirror_mode": {
        "name": "ipython",
        "version": 3
      },
      "file_extension": ".py",
      "mimetype": "text/x-python",
      "name": "python",
      "nbconvert_exporter": "python",
      "pygments_lexer": "ipython3",
      "version": "3.9.13"
    },
    "colab": {
      "provenance": [],
      "include_colab_link": true
    }
  },
  "nbformat": 4,
  "nbformat_minor": 5
}