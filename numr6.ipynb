{
 "cells": [
  {
   "cell_type": "markdown",
   "id": "375832a7",
   "metadata": {},
   "source": [
    "# Module 6 Project"
   ]
  },
  {
   "cell_type": "markdown",
   "id": "b9f1bee1",
   "metadata": {},
   "source": [
    "Numerical Method CPSMA 441 Prof: Nicholas Jacobs\n",
    "\n",
    "Member(s): Hoang Tan Truong Aakriti Khadka Aayush Bhurtel"
   ]
  },
  {
   "cell_type": "markdown",
   "id": "5ffec5bd",
   "metadata": {},
   "source": [
    "For future use, we'll also include Gauss Jordan and the set of data that we've picked is student.csv from Prof. Jacobs Github repo"
   ]
  },
  {
   "cell_type": "code",
   "execution_count": 1,
   "id": "433cc374",
   "metadata": {},
   "outputs": [],
   "source": [
    "import math\n",
    "import numpy as np\n",
    "from scipy import stats\n",
    "import matplotlib.pyplot as plt\n",
    "import pandas as pa\n",
    "\n",
    "\n",
    "def addRow(matrx, row, toAdd, multiplier):\n",
    "    temp = matrx.copy()\n",
    "    for i in range(len(matrx[row, :])):\n",
    "        temp[row, i] = temp[row, i] + multiplier*temp[toAdd, i]\n",
    "    return np.array(temp)\n",
    "\n",
    "def toLeading1(matrx, row, col):\n",
    "    temp = matrx.copy()\n",
    "    temp = np.array(temp, float)\n",
    "    if (temp[row, col] != 0):\n",
    "        temp[row, :] = temp[row, :]/temp[row, col]\n",
    "    return np.array(temp)\n",
    "\n",
    "def gauss_Jordan(matrix):\n",
    "  newMatrix = matrix\n",
    "  for pivot in range(len(matrix)):\n",
    "    newMatrix = toLeading1(newMatrix,pivot,pivot)\n",
    "    for column in range(0,pivot):\n",
    "      newMatrix = addRow(newMatrix,column,pivot,-newMatrix[column,pivot])\n",
    "    for column in range(pivot+1,len(matrix)):\n",
    "      newMatrix = addRow(newMatrix,column,pivot,-newMatrix[column,pivot])\n",
    "  return newMatrix\n",
    "\n",
    "def function(x):\n",
    "    return np.log(x+1)\n",
    "\n",
    "\n"
   ]
  },
  {
   "cell_type": "markdown",
   "id": "56e15a56",
   "metadata": {},
   "source": [
    "Here is the set data for better visualization "
   ]
  },
  {
   "cell_type": "code",
   "execution_count": 4,
   "id": "cc51b1d1",
   "metadata": {},
   "outputs": [],
   "source": [
    "data = pa.read_csv('https://raw.githubusercontent.com/nurfnick/Applied_Stats_Jupyter_Notebooks/master/student.csv')"
   ]
  },
  {
   "cell_type": "code",
   "execution_count": 8,
   "id": "181384ec",
   "metadata": {
    "scrolled": false
   },
   "outputs": [
    {
     "data": {
      "text/html": [
       "<div>\n",
       "<style scoped>\n",
       "    .dataframe tbody tr th:only-of-type {\n",
       "        vertical-align: middle;\n",
       "    }\n",
       "\n",
       "    .dataframe tbody tr th {\n",
       "        vertical-align: top;\n",
       "    }\n",
       "\n",
       "    .dataframe thead th {\n",
       "        text-align: right;\n",
       "    }\n",
       "</style>\n",
       "<table border=\"1\" class=\"dataframe\">\n",
       "  <thead>\n",
       "    <tr style=\"text-align: right;\">\n",
       "      <th></th>\n",
       "      <th>Year</th>\n",
       "      <th>Gender</th>\n",
       "      <th>Smoke</th>\n",
       "      <th>Award</th>\n",
       "      <th>HigherSAT</th>\n",
       "      <th>Exercise</th>\n",
       "      <th>TV</th>\n",
       "      <th>Height</th>\n",
       "      <th>Weight</th>\n",
       "      <th>Siblings</th>\n",
       "      <th>BirthOrder</th>\n",
       "      <th>VerbalSAT</th>\n",
       "      <th>MathSAT</th>\n",
       "      <th>SAT</th>\n",
       "      <th>GPA</th>\n",
       "      <th>Pulse</th>\n",
       "      <th>Piercings</th>\n",
       "    </tr>\n",
       "  </thead>\n",
       "  <tbody>\n",
       "    <tr>\n",
       "      <th>0</th>\n",
       "      <td>Senior</td>\n",
       "      <td>M</td>\n",
       "      <td>No</td>\n",
       "      <td>Olympic</td>\n",
       "      <td>Math</td>\n",
       "      <td>10.0</td>\n",
       "      <td>1.0</td>\n",
       "      <td>71.0</td>\n",
       "      <td>180.0</td>\n",
       "      <td>4</td>\n",
       "      <td>4.0</td>\n",
       "      <td>540</td>\n",
       "      <td>670</td>\n",
       "      <td>1210</td>\n",
       "      <td>3.13</td>\n",
       "      <td>54</td>\n",
       "      <td>0.0</td>\n",
       "    </tr>\n",
       "    <tr>\n",
       "      <th>1</th>\n",
       "      <td>Sophomore</td>\n",
       "      <td>F</td>\n",
       "      <td>Yes</td>\n",
       "      <td>Academy</td>\n",
       "      <td>Math</td>\n",
       "      <td>4.0</td>\n",
       "      <td>7.0</td>\n",
       "      <td>66.0</td>\n",
       "      <td>120.0</td>\n",
       "      <td>2</td>\n",
       "      <td>2.0</td>\n",
       "      <td>520</td>\n",
       "      <td>630</td>\n",
       "      <td>1150</td>\n",
       "      <td>2.50</td>\n",
       "      <td>66</td>\n",
       "      <td>3.0</td>\n",
       "    </tr>\n",
       "    <tr>\n",
       "      <th>2</th>\n",
       "      <td>FirstYear</td>\n",
       "      <td>M</td>\n",
       "      <td>No</td>\n",
       "      <td>Nobel</td>\n",
       "      <td>Math</td>\n",
       "      <td>14.0</td>\n",
       "      <td>5.0</td>\n",
       "      <td>72.0</td>\n",
       "      <td>208.0</td>\n",
       "      <td>2</td>\n",
       "      <td>1.0</td>\n",
       "      <td>550</td>\n",
       "      <td>560</td>\n",
       "      <td>1110</td>\n",
       "      <td>2.55</td>\n",
       "      <td>130</td>\n",
       "      <td>0.0</td>\n",
       "    </tr>\n",
       "    <tr>\n",
       "      <th>3</th>\n",
       "      <td>Junior</td>\n",
       "      <td>M</td>\n",
       "      <td>No</td>\n",
       "      <td>Nobel</td>\n",
       "      <td>Math</td>\n",
       "      <td>3.0</td>\n",
       "      <td>1.0</td>\n",
       "      <td>63.0</td>\n",
       "      <td>110.0</td>\n",
       "      <td>1</td>\n",
       "      <td>1.0</td>\n",
       "      <td>490</td>\n",
       "      <td>630</td>\n",
       "      <td>1120</td>\n",
       "      <td>3.10</td>\n",
       "      <td>78</td>\n",
       "      <td>0.0</td>\n",
       "    </tr>\n",
       "    <tr>\n",
       "      <th>4</th>\n",
       "      <td>Sophomore</td>\n",
       "      <td>F</td>\n",
       "      <td>No</td>\n",
       "      <td>Nobel</td>\n",
       "      <td>Verbal</td>\n",
       "      <td>3.0</td>\n",
       "      <td>3.0</td>\n",
       "      <td>65.0</td>\n",
       "      <td>150.0</td>\n",
       "      <td>1</td>\n",
       "      <td>1.0</td>\n",
       "      <td>720</td>\n",
       "      <td>450</td>\n",
       "      <td>1170</td>\n",
       "      <td>2.70</td>\n",
       "      <td>40</td>\n",
       "      <td>6.0</td>\n",
       "    </tr>\n",
       "    <tr>\n",
       "      <th>...</th>\n",
       "      <td>...</td>\n",
       "      <td>...</td>\n",
       "      <td>...</td>\n",
       "      <td>...</td>\n",
       "      <td>...</td>\n",
       "      <td>...</td>\n",
       "      <td>...</td>\n",
       "      <td>...</td>\n",
       "      <td>...</td>\n",
       "      <td>...</td>\n",
       "      <td>...</td>\n",
       "      <td>...</td>\n",
       "      <td>...</td>\n",
       "      <td>...</td>\n",
       "      <td>...</td>\n",
       "      <td>...</td>\n",
       "      <td>...</td>\n",
       "    </tr>\n",
       "    <tr>\n",
       "      <th>357</th>\n",
       "      <td>Sophomore</td>\n",
       "      <td>F</td>\n",
       "      <td>Yes</td>\n",
       "      <td>Nobel</td>\n",
       "      <td>Verbal</td>\n",
       "      <td>2.0</td>\n",
       "      <td>0.0</td>\n",
       "      <td>83.0</td>\n",
       "      <td>130.0</td>\n",
       "      <td>1</td>\n",
       "      <td>1.0</td>\n",
       "      <td>550</td>\n",
       "      <td>540</td>\n",
       "      <td>1090</td>\n",
       "      <td>3.44</td>\n",
       "      <td>80</td>\n",
       "      <td>3.0</td>\n",
       "    </tr>\n",
       "    <tr>\n",
       "      <th>358</th>\n",
       "      <td>Sophomore</td>\n",
       "      <td>M</td>\n",
       "      <td>Yes</td>\n",
       "      <td>Olympic</td>\n",
       "      <td>Math</td>\n",
       "      <td>8.0</td>\n",
       "      <td>10.0</td>\n",
       "      <td>61.0</td>\n",
       "      <td>180.0</td>\n",
       "      <td>2</td>\n",
       "      <td>1.0</td>\n",
       "      <td>600</td>\n",
       "      <td>620</td>\n",
       "      <td>1220</td>\n",
       "      <td>3.00</td>\n",
       "      <td>74</td>\n",
       "      <td>0.0</td>\n",
       "    </tr>\n",
       "    <tr>\n",
       "      <th>359</th>\n",
       "      <td>Sophomore</td>\n",
       "      <td>F</td>\n",
       "      <td>Yes</td>\n",
       "      <td>Nobel</td>\n",
       "      <td>Verbal</td>\n",
       "      <td>1.0</td>\n",
       "      <td>1.0</td>\n",
       "      <td>65.0</td>\n",
       "      <td>150.0</td>\n",
       "      <td>2</td>\n",
       "      <td>2.0</td>\n",
       "      <td>540</td>\n",
       "      <td>450</td>\n",
       "      <td>990</td>\n",
       "      <td>3.27</td>\n",
       "      <td>78</td>\n",
       "      <td>2.0</td>\n",
       "    </tr>\n",
       "    <tr>\n",
       "      <th>360</th>\n",
       "      <td>FirstYear</td>\n",
       "      <td>M</td>\n",
       "      <td>Yes</td>\n",
       "      <td>Olympic</td>\n",
       "      <td>Verbal</td>\n",
       "      <td>14.0</td>\n",
       "      <td>5.0</td>\n",
       "      <td>77.0</td>\n",
       "      <td>205.0</td>\n",
       "      <td>2</td>\n",
       "      <td>2.0</td>\n",
       "      <td>550</td>\n",
       "      <td>550</td>\n",
       "      <td>1100</td>\n",
       "      <td>2.30</td>\n",
       "      <td>72</td>\n",
       "      <td>0.0</td>\n",
       "    </tr>\n",
       "    <tr>\n",
       "      <th>361</th>\n",
       "      <td>Sophomore</td>\n",
       "      <td>F</td>\n",
       "      <td>Yes</td>\n",
       "      <td>Olympic</td>\n",
       "      <td>Math</td>\n",
       "      <td>12.0</td>\n",
       "      <td>5.0</td>\n",
       "      <td>60.0</td>\n",
       "      <td>115.0</td>\n",
       "      <td>0</td>\n",
       "      <td>1.0</td>\n",
       "      <td>500</td>\n",
       "      <td>510</td>\n",
       "      <td>1010</td>\n",
       "      <td>2.60</td>\n",
       "      <td>91</td>\n",
       "      <td>5.0</td>\n",
       "    </tr>\n",
       "  </tbody>\n",
       "</table>\n",
       "<p>362 rows × 17 columns</p>\n",
       "</div>"
      ],
      "text/plain": [
       "          Year Gender Smoke    Award HigherSAT  Exercise    TV  Height  \\\n",
       "0       Senior      M    No  Olympic      Math      10.0   1.0    71.0   \n",
       "1    Sophomore      F   Yes  Academy      Math       4.0   7.0    66.0   \n",
       "2    FirstYear      M    No    Nobel      Math      14.0   5.0    72.0   \n",
       "3       Junior      M    No    Nobel      Math       3.0   1.0    63.0   \n",
       "4    Sophomore      F    No    Nobel    Verbal       3.0   3.0    65.0   \n",
       "..         ...    ...   ...      ...       ...       ...   ...     ...   \n",
       "357  Sophomore      F   Yes    Nobel    Verbal       2.0   0.0    83.0   \n",
       "358  Sophomore      M   Yes  Olympic      Math       8.0  10.0    61.0   \n",
       "359  Sophomore      F   Yes    Nobel    Verbal       1.0   1.0    65.0   \n",
       "360  FirstYear      M   Yes  Olympic    Verbal      14.0   5.0    77.0   \n",
       "361  Sophomore      F   Yes  Olympic      Math      12.0   5.0    60.0   \n",
       "\n",
       "     Weight  Siblings  BirthOrder  VerbalSAT  MathSAT   SAT   GPA  Pulse  \\\n",
       "0     180.0         4         4.0        540      670  1210  3.13     54   \n",
       "1     120.0         2         2.0        520      630  1150  2.50     66   \n",
       "2     208.0         2         1.0        550      560  1110  2.55    130   \n",
       "3     110.0         1         1.0        490      630  1120  3.10     78   \n",
       "4     150.0         1         1.0        720      450  1170  2.70     40   \n",
       "..      ...       ...         ...        ...      ...   ...   ...    ...   \n",
       "357   130.0         1         1.0        550      540  1090  3.44     80   \n",
       "358   180.0         2         1.0        600      620  1220  3.00     74   \n",
       "359   150.0         2         2.0        540      450   990  3.27     78   \n",
       "360   205.0         2         2.0        550      550  1100  2.30     72   \n",
       "361   115.0         0         1.0        500      510  1010  2.60     91   \n",
       "\n",
       "     Piercings  \n",
       "0          0.0  \n",
       "1          3.0  \n",
       "2          0.0  \n",
       "3          0.0  \n",
       "4          6.0  \n",
       "..         ...  \n",
       "357        3.0  \n",
       "358        0.0  \n",
       "359        2.0  \n",
       "360        0.0  \n",
       "361        5.0  \n",
       "\n",
       "[362 rows x 17 columns]"
      ]
     },
     "execution_count": 8,
     "metadata": {},
     "output_type": "execute_result"
    }
   ],
   "source": [
    "data"
   ]
  },
  {
   "cell_type": "markdown",
   "id": "f1aca3da",
   "metadata": {},
   "source": [
    "MathSAT and SAT are linear reated since the sum of MathSAT and VerbalSAT is SAT. Here's the graph that has the point of (MathSAT and VerbalSAT) and SAT to see that they are identical."
   ]
  },
  {
   "cell_type": "code",
   "execution_count": 9,
   "id": "70239a87",
   "metadata": {},
   "outputs": [
    {
     "data": {
      "image/png": "[encoded data removed]",
      "text/plain": [
       "<Figure size 640x480 with 1 Axes>"
      ]
     },
     "metadata": {},
     "output_type": "display_data"
    }
   ],
   "source": [
    "plt.scatter(data['VerbalSAT']+ data['MathSAT'], data['SAT'])\n",
    "plt.show()"
   ]
  },
  {
   "cell_type": "markdown",
   "id": "94fc5706",
   "metadata": {},
   "source": [
    "The two rows that we'll focus for now is MathSAT and SAT. Now let's see them in the graph."
   ]
  },
  {
   "cell_type": "code",
   "execution_count": 11,
   "id": "adbb511a",
   "metadata": {
    "scrolled": false
   },
   "outputs": [
    {
     "data": {
      "image/png": "[encoded data removed]",
      "text/plain": [
       "<Figure size 640x480 with 1 Axes>"
      ]
     },
     "metadata": {},
     "output_type": "display_data"
    }
   ],
   "source": [
    "plt.scatter(data['MathSAT'], data['SAT'])\n",
    "plt.show()"
   ]
  },
  {
   "cell_type": "markdown",
   "id": "99a696ae",
   "metadata": {},
   "source": [
    "# Linear Regression"
   ]
  },
  {
   "cell_type": "markdown",
   "id": "7cb24a59",
   "metadata": {},
   "source": [
    "We can go ahead and find the regress by using the built in function from the package scipy so that we can compare them later to our regression function."
   ]
  },
  {
   "cell_type": "code",
   "execution_count": 12,
   "id": "c10b0340",
   "metadata": {},
   "outputs": [
    {
     "data": {
      "text/plain": [
       "LinregressResult(slope=1.4814731127631733, intercept=300.7633363387839, rvalue=0.8365916602784129, pvalue=4.093448362145017e-96, stderr=0.05112960119117141, intercept_stderr=31.355860418185074)"
      ]
     },
     "execution_count": 12,
     "metadata": {},
     "output_type": "execute_result"
    }
   ],
   "source": [
    "stats.linregress(data['MathSAT'], data['SAT'])"
   ]
  },
  {
   "cell_type": "markdown",
   "id": "ccc065dc",
   "metadata": {},
   "source": [
    "Before we get started with the regression function, we will need to make a function that calculates the sum of product of two number from two list. I'll also include a statement that does the same thing that we'll use instead of the function ."
   ]
  },
  {
   "cell_type": "code",
   "execution_count": 14,
   "id": "4592e16b",
   "metadata": {},
   "outputs": [],
   "source": [
    "def squareAndSum(list1,list2):\n",
    "  total = 0\n",
    "  for i in range(len(list1)):\n",
    "    total = total + list1[i]*list2[i]\n",
    "  return total"
   ]
  },
  {
   "cell_type": "code",
   "execution_count": 15,
   "id": "0f0c2852",
   "metadata": {},
   "outputs": [
    {
     "data": {
      "text/plain": [
       "268048133"
      ]
     },
     "execution_count": 15,
     "metadata": {},
     "output_type": "execute_result"
    }
   ],
   "source": [
    "squareAndSum(data['MathSAT'], data['SAT'])"
   ]
  },
  {
   "cell_type": "code",
   "execution_count": 16,
   "id": "fde1f1b4",
   "metadata": {},
   "outputs": [],
   "source": [
    "a = sum(i*j for i, j in zip(data['MathSAT'], data['SAT']))"
   ]
  },
  {
   "cell_type": "code",
   "execution_count": 17,
   "id": "eef5c4a7",
   "metadata": {},
   "outputs": [
    {
     "data": {
      "text/plain": [
       "268048133"
      ]
     },
     "execution_count": 17,
     "metadata": {},
     "output_type": "execute_result"
    }
   ],
   "source": [
    "a"
   ]
  },
  {
   "cell_type": "markdown",
   "id": "7fab6d54",
   "metadata": {},
   "source": [
    "The following functions will compute the slope and intercept. We will also compare to the result that we have from scipy."
   ]
  },
  {
   "cell_type": "code",
   "execution_count": 28,
   "id": "5a437abd",
   "metadata": {},
   "outputs": [],
   "source": [
    "def slopeNintercept(list1, list2):\n",
    "    n=len(list1)\n",
    "    xBar = sum(list1)/n\n",
    "    yBar = sum(list2)/n\n",
    "    xy = sum(i*j for i,j in zip(list1, list2))\n",
    "    xx = sum(i*i for i in list1)\n",
    "    slope = (xy-n*xBar*yBar)/(xx-n*xBar**2)\n",
    "    intercept = yBar - slope*xBar\n",
    "    return [slope, intercept]"
   ]
  },
  {
   "cell_type": "code",
   "execution_count": 29,
   "id": "c4a13a6e",
   "metadata": {},
   "outputs": [
    {
     "name": "stdout",
     "output_type": "stream",
     "text": [
      "1.4814731127631733\n"
     ]
    },
    {
     "data": {
      "text/plain": [
       "1.4814731127631662"
      ]
     },
     "execution_count": 29,
     "metadata": {},
     "output_type": "execute_result"
    }
   ],
   "source": [
    "slope = slopeNintercept(data['MathSAT'], data['SAT'])[0]\n",
    "print(stats.linregress(data['MathSAT'], data['SAT'])[0])\n",
    "slope"
   ]
  },
  {
   "cell_type": "code",
   "execution_count": 30,
   "id": "415884fb",
   "metadata": {},
   "outputs": [
    {
     "name": "stdout",
     "output_type": "stream",
     "text": [
      "300.7633363387839\n"
     ]
    },
    {
     "data": {
      "text/plain": [
       "300.76333633878824"
      ]
     },
     "execution_count": 30,
     "metadata": {},
     "output_type": "execute_result"
    }
   ],
   "source": [
    "intercept = slopeNintercept(data['MathSAT'], data['SAT'])[1]\n",
    "print(stats.linregress(data['MathSAT'], data['SAT'])[1])\n",
    "intercept"
   ]
  },
  {
   "cell_type": "markdown",
   "id": "9ca9cc48",
   "metadata": {},
   "source": [
    "Very close. Since this is linear, the general form of the function would be f(x)=ax+b."
   ]
  },
  {
   "cell_type": "code",
   "execution_count": 33,
   "id": "3f8101f7",
   "metadata": {},
   "outputs": [
    {
     "data": {
      "text/plain": [
       "308.1707019026041"
      ]
     },
     "execution_count": 33,
     "metadata": {},
     "output_type": "execute_result"
    }
   ],
   "source": [
    "def f(x):\n",
    "    return slope*x+intercept\n",
    "\n",
    "f(5)"
   ]
  },
  {
   "cell_type": "code",
   "execution_count": 34,
   "id": "ad897568",
   "metadata": {},
   "outputs": [
    {
     "data": {
      "image/png": "[encoded data removed]",
      "text/plain": [
       "<Figure size 640x480 with 1 Axes>"
      ]
     },
     "metadata": {},
     "output_type": "display_data"
    }
   ],
   "source": [
    "x = np.arange( 0,500,1)\n",
    "plt.scatter(data[\"MathSAT\"],data[\"SAT\"])\n",
    "plt.plot(x,f(x))\n",
    "\n",
    "plt.show()"
   ]
  },
  {
   "cell_type": "code",
   "execution_count": 35,
   "id": "2badb9de",
   "metadata": {},
   "outputs": [
    {
     "data": {
      "text/plain": [
       "792923338.5595489"
      ]
     },
     "execution_count": 35,
     "metadata": {},
     "output_type": "execute_result"
    }
   ],
   "source": [
    "#Sum of squared residuals\n",
    "residualsSquareSum = 0\n",
    "for i in range(0, len(data['SAT'])):\n",
    "    residualsSquareSum = residualsSquareSum + (f(data['SAT'][i]) - data['MathSAT'][i])**2\n",
    "    \n",
    "residualsSquareSum"
   ]
  },
  {
   "cell_type": "markdown",
   "id": "c20a0bfe",
   "metadata": {},
   "source": [
    "# Non-linear Regression"
   ]
  },
  {
   "cell_type": "markdown",
   "id": "07ef757a",
   "metadata": {},
   "source": [
    "Since the year is represented at classificaion, I'll translate into number. Another row that we'll use is still SAT. Let's make an intial assumption that their funtion is quadtric."
   ]
  },
  {
   "cell_type": "code",
   "execution_count": 36,
   "id": "375575e1",
   "metadata": {},
   "outputs": [],
   "source": [
    "year = []\n",
    "\n",
    "for i in range(len(data['Year'])):\n",
    "    if (data['Year'][i] == \"Freshman\" or data['Year'][i] == \"FirstYear\"):\n",
    "        year.append(1)\n",
    "    elif (data['Year'][i] == \"Sophomore\"):\n",
    "        year.append(2)\n",
    "    elif (data['Year'][i] == \"Junior\"):\n",
    "        year.append(3)\n",
    "    elif (data['Year'][i] == \"Senior\"):\n",
    "        year.append(4)\n",
    "    else:\n",
    "        year.append(0)"
   ]
  },
  {
   "cell_type": "code",
   "execution_count": 40,
   "id": "7c1a9756",
   "metadata": {},
   "outputs": [
    {
     "data": {
      "image/png": "[encoded data removed]",
      "text/plain": [
       "<Figure size 640x480 with 1 Axes>"
      ]
     },
     "metadata": {},
     "output_type": "display_data"
    }
   ],
   "source": [
    "plt.scatter(year, data['SAT'])\n",
    "plt.show()"
   ]
  },
  {
   "cell_type": "code",
   "execution_count": 45,
   "id": "c0cf3120",
   "metadata": {},
   "outputs": [],
   "source": [
    "single = sum(year)\n",
    "double = sum(i**2 for i in year)\n",
    "triple = sum(i**3 for i in year)\n",
    "quad = sum(i**4 for i in year)\n",
    "\n",
    "matrix = [[len(data['SAT']), single, double, sum(year)],\n",
    "          [single, double, triple, sum(i*j for i, j in zip(year, data['SAT']))],\n",
    "          [double, triple, quad, sum(i*i*j for i,j in zip(year, data['SAT']))]]"
   ]
  },
  {
   "cell_type": "code",
   "execution_count": 46,
   "id": "905c18f6",
   "metadata": {},
   "outputs": [
    {
     "data": {
      "text/plain": [
       "[[362, 733, 1765, 733],\n",
       " [733, 1765, 4903, 884476],\n",
       " [1765, 4903, 15265, 2129782]]"
      ]
     },
     "execution_count": 46,
     "metadata": {},
     "output_type": "execute_result"
    }
   ],
   "source": [
    "matrix"
   ]
  },
  {
   "cell_type": "code",
   "execution_count": null,
   "id": "3ca47e73",
   "metadata": {},
   "outputs": [],
   "source": []
  }
 ],
 "metadata": {
  "kernelspec": {
   "display_name": "Python 3 (ipykernel)",
   "language": "python",
   "name": "python3"
  },
  "language_info": {
   "codemirror_mode": {
    "name": "ipython",
    "version": 3
   },
   "file_extension": ".py",
   "mimetype": "text/x-python",
   "name": "python",
   "nbconvert_exporter": "python",
   "pygments_lexer": "ipython3",
   "version": "3.9.13"
  }
 },
 "nbformat": 4,
 "nbformat_minor": 5
}
