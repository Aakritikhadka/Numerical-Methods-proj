{
  "cells": [
    {
      "cell_type": "markdown",
      "id": "375832a7",
      "metadata": {
        "id": "375832a7"
      },
      "source": [
        "# Module 6 Project"
      ]
    },
    {
      "cell_type": "markdown",
      "id": "b9f1bee1",
      "metadata": {
        "id": "b9f1bee1"
      },
      "source": [
        "Numerical Method CPSMA 441 Prof: Nicholas Jacobs\n",
        "\n",
        "Member(s): Hoang Tan Truong Aakriti Khadka Aayush Bhurtel Jordan Moreno"
      ]
    },
    {
      "cell_type": "markdown",
      "id": "5ffec5bd",
      "metadata": {
        "id": "5ffec5bd"
      },
      "source": [
        "For future use, we'll also include Gauss Jordan and the set of data that we've picked is student.csv from Prof. Jacobs Github repo"
      ]
    },
    {
      "cell_type": "code",
      "execution_count": 118,
      "id": "433cc374",
      "metadata": {
        "id": "433cc374"
      },
      "outputs": [],
      "source": [
        "import math\n",
        "import numpy as np\n",
        "from scipy import stats\n",
        "import matplotlib.pyplot as plt\n",
        "import pandas as pa\n",
        "\n",
        "\n",
        "def addRow(matrx, row, toAdd, multiplier):\n",
        "    temp = matrx.copy()\n",
        "    for i in range(len(matrx[row, :])):\n",
        "        temp[row, i] = temp[row, i] + multiplier*temp[toAdd, i]\n",
        "    return np.array(temp)\n",
        "\n",
        "def toLeading1(matrx, row, col):\n",
        "    temp = matrx.copy()\n",
        "    temp = np.array(temp, float)\n",
        "    if (temp[row, col] != 0):\n",
        "        temp[row, :] = temp[row, :]/temp[row, col]\n",
        "    return np.array(temp)\n",
        "\n",
        "def gauss_Jordan(matrix):\n",
        "  newMatrix = matrix\n",
        "  for pivot in range(len(matrix)):\n",
        "    newMatrix = toLeading1(newMatrix,pivot,pivot)\n",
        "    for column in range(0,pivot):\n",
        "      newMatrix = addRow(newMatrix,column,pivot,-newMatrix[column,pivot])\n",
        "    for column in range(pivot+1,len(matrix)):\n",
        "      newMatrix = addRow(newMatrix,column,pivot,-newMatrix[column,pivot])\n",
        "  return newMatrix\n",
        "\n",
        "def function(x):\n",
        "    return np.log(x+1)\n",
        "\n",
        "\n"
      ]
    },
    {
      "cell_type": "markdown",
      "id": "56e15a56",
      "metadata": {
        "id": "56e15a56"
      },
      "source": [
        "Here is the set data for better visualization "
      ]
    },
    {
      "cell_type": "code",
      "execution_count": 119,
      "id": "cc51b1d1",
      "metadata": {
        "id": "cc51b1d1"
      },
      "outputs": [],
      "source": [
        "data = pa.read_csv('https://raw.githubusercontent.com/nurfnick/Applied_Stats_Jupyter_Notebooks/master/student.csv')"
      ]
    },
    {
      "cell_type": "code",
      "execution_count": 120,
      "id": "181384ec",
      "metadata": {
        "scrolled": false,
        "colab": {
          "base_uri": "https://localhost:8080/",
          "height": 488
        },
        "id": "181384ec",
        "outputId": "86410be4-85f5-4d97-b4e2-b40bc93bb2b5"
      },
      "outputs": [
        {
          "output_type": "execute_result",
          "data": {
            "text/plain": [
              "          Year Gender Smoke    Award HigherSAT  Exercise    TV  Height  \\\n",
              "0       Senior      M    No  Olympic      Math      10.0   1.0    71.0   \n",
              "1    Sophomore      F   Yes  Academy      Math       4.0   7.0    66.0   \n",
              "2    FirstYear      M    No    Nobel      Math      14.0   5.0    72.0   \n",
              "3       Junior      M    No    Nobel      Math       3.0   1.0    63.0   \n",
              "4    Sophomore      F    No    Nobel    Verbal       3.0   3.0    65.0   \n",
              "..         ...    ...   ...      ...       ...       ...   ...     ...   \n",
              "357  Sophomore      F   Yes    Nobel    Verbal       2.0   0.0    83.0   \n",
              "358  Sophomore      M   Yes  Olympic      Math       8.0  10.0    61.0   \n",
              "359  Sophomore      F   Yes    Nobel    Verbal       1.0   1.0    65.0   \n",
              "360  FirstYear      M   Yes  Olympic    Verbal      14.0   5.0    77.0   \n",
              "361  Sophomore      F   Yes  Olympic      Math      12.0   5.0    60.0   \n",
              "\n",
              "     Weight  Siblings  BirthOrder  VerbalSAT  MathSAT   SAT   GPA  Pulse  \\\n",
              "0     180.0         4         4.0        540      670  1210  3.13     54   \n",
              "1     120.0         2         2.0        520      630  1150  2.50     66   \n",
              "2     208.0         2         1.0        550      560  1110  2.55    130   \n",
              "3     110.0         1         1.0        490      630  1120  3.10     78   \n",
              "4     150.0         1         1.0        720      450  1170  2.70     40   \n",
              "..      ...       ...         ...        ...      ...   ...   ...    ...   \n",
              "357   130.0         1         1.0        550      540  1090  3.44     80   \n",
              "358   180.0         2         1.0        600      620  1220  3.00     74   \n",
              "359   150.0         2         2.0        540      450   990  3.27     78   \n",
              "360   205.0         2         2.0        550      550  1100  2.30     72   \n",
              "361   115.0         0         1.0        500      510  1010  2.60     91   \n",
              "\n",
              "     Piercings  \n",
              "0          0.0  \n",
              "1          3.0  \n",
              "2          0.0  \n",
              "3          0.0  \n",
              "4          6.0  \n",
              "..         ...  \n",
              "357        3.0  \n",
              "358        0.0  \n",
              "359        2.0  \n",
              "360        0.0  \n",
              "361        5.0  \n",
              "\n",
              "[362 rows x 17 columns]"
            ],
            "text/html": [
              "\n",
              "  <div id=\"df-4e067b82-c829-4908-9c88-d0db621776e8\">\n",
              "    <div class=\"colab-df-container\">\n",
              "      <div>\n",
              "<style scoped>\n",
              "    .dataframe tbody tr th:only-of-type {\n",
              "        vertical-align: middle;\n",
              "    }\n",
              "\n",
              "    .dataframe tbody tr th {\n",
              "        vertical-align: top;\n",
              "    }\n",
              "\n",
              "    .dataframe thead th {\n",
              "        text-align: right;\n",
              "    }\n",
              "</style>\n",
              "<table border=\"1\" class=\"dataframe\">\n",
              "  <thead>\n",
              "    <tr style=\"text-align: right;\">\n",
              "      <th></th>\n",
              "      <th>Year</th>\n",
              "      <th>Gender</th>\n",
              "      <th>Smoke</th>\n",
              "      <th>Award</th>\n",
              "      <th>HigherSAT</th>\n",
              "      <th>Exercise</th>\n",
              "      <th>TV</th>\n",
              "      <th>Height</th>\n",
              "      <th>Weight</th>\n",
              "      <th>Siblings</th>\n",
              "      <th>BirthOrder</th>\n",
              "      <th>VerbalSAT</th>\n",
              "      <th>MathSAT</th>\n",
              "      <th>SAT</th>\n",
              "      <th>GPA</th>\n",
              "      <th>Pulse</th>\n",
              "      <th>Piercings</th>\n",
              "    </tr>\n",
              "  </thead>\n",
              "  <tbody>\n",
              "    <tr>\n",
              "      <th>0</th>\n",
              "      <td>Senior</td>\n",
              "      <td>M</td>\n",
              "      <td>No</td>\n",
              "      <td>Olympic</td>\n",
              "      <td>Math</td>\n",
              "      <td>10.0</td>\n",
              "      <td>1.0</td>\n",
              "      <td>71.0</td>\n",
              "      <td>180.0</td>\n",
              "      <td>4</td>\n",
              "      <td>4.0</td>\n",
              "      <td>540</td>\n",
              "      <td>670</td>\n",
              "      <td>1210</td>\n",
              "      <td>3.13</td>\n",
              "      <td>54</td>\n",
              "      <td>0.0</td>\n",
              "    </tr>\n",
              "    <tr>\n",
              "      <th>1</th>\n",
              "      <td>Sophomore</td>\n",
              "      <td>F</td>\n",
              "      <td>Yes</td>\n",
              "      <td>Academy</td>\n",
              "      <td>Math</td>\n",
              "      <td>4.0</td>\n",
              "      <td>7.0</td>\n",
              "      <td>66.0</td>\n",
              "      <td>120.0</td>\n",
              "      <td>2</td>\n",
              "      <td>2.0</td>\n",
              "      <td>520</td>\n",
              "      <td>630</td>\n",
              "      <td>1150</td>\n",
              "      <td>2.50</td>\n",
              "      <td>66</td>\n",
              "      <td>3.0</td>\n",
              "    </tr>\n",
              "    <tr>\n",
              "      <th>2</th>\n",
              "      <td>FirstYear</td>\n",
              "      <td>M</td>\n",
              "      <td>No</td>\n",
              "      <td>Nobel</td>\n",
              "      <td>Math</td>\n",
              "      <td>14.0</td>\n",
              "      <td>5.0</td>\n",
              "      <td>72.0</td>\n",
              "      <td>208.0</td>\n",
              "      <td>2</td>\n",
              "      <td>1.0</td>\n",
              "      <td>550</td>\n",
              "      <td>560</td>\n",
              "      <td>1110</td>\n",
              "      <td>2.55</td>\n",
              "      <td>130</td>\n",
              "      <td>0.0</td>\n",
              "    </tr>\n",
              "    <tr>\n",
              "      <th>3</th>\n",
              "      <td>Junior</td>\n",
              "      <td>M</td>\n",
              "      <td>No</td>\n",
              "      <td>Nobel</td>\n",
              "      <td>Math</td>\n",
              "      <td>3.0</td>\n",
              "      <td>1.0</td>\n",
              "      <td>63.0</td>\n",
              "      <td>110.0</td>\n",
              "      <td>1</td>\n",
              "      <td>1.0</td>\n",
              "      <td>490</td>\n",
              "      <td>630</td>\n",
              "      <td>1120</td>\n",
              "      <td>3.10</td>\n",
              "      <td>78</td>\n",
              "      <td>0.0</td>\n",
              "    </tr>\n",
              "    <tr>\n",
              "      <th>4</th>\n",
              "      <td>Sophomore</td>\n",
              "      <td>F</td>\n",
              "      <td>No</td>\n",
              "      <td>Nobel</td>\n",
              "      <td>Verbal</td>\n",
              "      <td>3.0</td>\n",
              "      <td>3.0</td>\n",
              "      <td>65.0</td>\n",
              "      <td>150.0</td>\n",
              "      <td>1</td>\n",
              "      <td>1.0</td>\n",
              "      <td>720</td>\n",
              "      <td>450</td>\n",
              "      <td>1170</td>\n",
              "      <td>2.70</td>\n",
              "      <td>40</td>\n",
              "      <td>6.0</td>\n",
              "    </tr>\n",
              "    <tr>\n",
              "      <th>...</th>\n",
              "      <td>...</td>\n",
              "      <td>...</td>\n",
              "      <td>...</td>\n",
              "      <td>...</td>\n",
              "      <td>...</td>\n",
              "      <td>...</td>\n",
              "      <td>...</td>\n",
              "      <td>...</td>\n",
              "      <td>...</td>\n",
              "      <td>...</td>\n",
              "      <td>...</td>\n",
              "      <td>...</td>\n",
              "      <td>...</td>\n",
              "      <td>...</td>\n",
              "      <td>...</td>\n",
              "      <td>...</td>\n",
              "      <td>...</td>\n",
              "    </tr>\n",
              "    <tr>\n",
              "      <th>357</th>\n",
              "      <td>Sophomore</td>\n",
              "      <td>F</td>\n",
              "      <td>Yes</td>\n",
              "      <td>Nobel</td>\n",
              "      <td>Verbal</td>\n",
              "      <td>2.0</td>\n",
              "      <td>0.0</td>\n",
              "      <td>83.0</td>\n",
              "      <td>130.0</td>\n",
              "      <td>1</td>\n",
              "      <td>1.0</td>\n",
              "      <td>550</td>\n",
              "      <td>540</td>\n",
              "      <td>1090</td>\n",
              "      <td>3.44</td>\n",
              "      <td>80</td>\n",
              "      <td>3.0</td>\n",
              "    </tr>\n",
              "    <tr>\n",
              "      <th>358</th>\n",
              "      <td>Sophomore</td>\n",
              "      <td>M</td>\n",
              "      <td>Yes</td>\n",
              "      <td>Olympic</td>\n",
              "      <td>Math</td>\n",
              "      <td>8.0</td>\n",
              "      <td>10.0</td>\n",
              "      <td>61.0</td>\n",
              "      <td>180.0</td>\n",
              "      <td>2</td>\n",
              "      <td>1.0</td>\n",
              "      <td>600</td>\n",
              "      <td>620</td>\n",
              "      <td>1220</td>\n",
              "      <td>3.00</td>\n",
              "      <td>74</td>\n",
              "      <td>0.0</td>\n",
              "    </tr>\n",
              "    <tr>\n",
              "      <th>359</th>\n",
              "      <td>Sophomore</td>\n",
              "      <td>F</td>\n",
              "      <td>Yes</td>\n",
              "      <td>Nobel</td>\n",
              "      <td>Verbal</td>\n",
              "      <td>1.0</td>\n",
              "      <td>1.0</td>\n",
              "      <td>65.0</td>\n",
              "      <td>150.0</td>\n",
              "      <td>2</td>\n",
              "      <td>2.0</td>\n",
              "      <td>540</td>\n",
              "      <td>450</td>\n",
              "      <td>990</td>\n",
              "      <td>3.27</td>\n",
              "      <td>78</td>\n",
              "      <td>2.0</td>\n",
              "    </tr>\n",
              "    <tr>\n",
              "      <th>360</th>\n",
              "      <td>FirstYear</td>\n",
              "      <td>M</td>\n",
              "      <td>Yes</td>\n",
              "      <td>Olympic</td>\n",
              "      <td>Verbal</td>\n",
              "      <td>14.0</td>\n",
              "      <td>5.0</td>\n",
              "      <td>77.0</td>\n",
              "      <td>205.0</td>\n",
              "      <td>2</td>\n",
              "      <td>2.0</td>\n",
              "      <td>550</td>\n",
              "      <td>550</td>\n",
              "      <td>1100</td>\n",
              "      <td>2.30</td>\n",
              "      <td>72</td>\n",
              "      <td>0.0</td>\n",
              "    </tr>\n",
              "    <tr>\n",
              "      <th>361</th>\n",
              "      <td>Sophomore</td>\n",
              "      <td>F</td>\n",
              "      <td>Yes</td>\n",
              "      <td>Olympic</td>\n",
              "      <td>Math</td>\n",
              "      <td>12.0</td>\n",
              "      <td>5.0</td>\n",
              "      <td>60.0</td>\n",
              "      <td>115.0</td>\n",
              "      <td>0</td>\n",
              "      <td>1.0</td>\n",
              "      <td>500</td>\n",
              "      <td>510</td>\n",
              "      <td>1010</td>\n",
              "      <td>2.60</td>\n",
              "      <td>91</td>\n",
              "      <td>5.0</td>\n",
              "    </tr>\n",
              "  </tbody>\n",
              "</table>\n",
              "<p>362 rows × 17 columns</p>\n",
              "</div>\n",
              "      <button class=\"colab-df-convert\" onclick=\"convertToInteractive('df-4e067b82-c829-4908-9c88-d0db621776e8')\"\n",
              "              title=\"Convert this dataframe to an interactive table.\"\n",
              "              style=\"display:none;\">\n",
              "        \n",
              "  <svg xmlns=\"http://www.w3.org/2000/svg\" height=\"24px\"viewBox=\"0 0 24 24\"\n",
              "       width=\"24px\">\n",
              "    <path d=\"M0 0h24v24H0V0z\" fill=\"none\"/>\n",
              "    <path d=\"M18.56 5.44l.94 2.06.94-2.06 2.06-.94-2.06-.94-.94-2.06-.94 2.06-2.06.94zm-11 1L8.5 8.5l.94-2.06 2.06-.94-2.06-.94L8.5 2.5l-.94 2.06-2.06.94zm10 10l.94 2.06.94-2.06 2.06-.94-2.06-.94-.94-2.06-.94 2.06-2.06.94z\"/><path d=\"M17.41 7.96l-1.37-1.37c-.4-.4-.92-.59-1.43-.59-.52 0-1.04.2-1.43.59L10.3 9.45l-7.72 7.72c-.78.78-.78 2.05 0 2.83L4 21.41c.39.39.9.59 1.41.59.51 0 1.02-.2 1.41-.59l7.78-7.78 2.81-2.81c.8-.78.8-2.07 0-2.86zM5.41 20L4 18.59l7.72-7.72 1.47 1.35L5.41 20z\"/>\n",
              "  </svg>\n",
              "      </button>\n",
              "      \n",
              "  <style>\n",
              "    .colab-df-container {\n",
              "      display:flex;\n",
              "      flex-wrap:wrap;\n",
              "      gap: 12px;\n",
              "    }\n",
              "\n",
              "    .colab-df-convert {\n",
              "      background-color: #E8F0FE;\n",
              "      border: none;\n",
              "      border-radius: 50%;\n",
              "      cursor: pointer;\n",
              "      display: none;\n",
              "      fill: #1967D2;\n",
              "      height: 32px;\n",
              "      padding: 0 0 0 0;\n",
              "      width: 32px;\n",
              "    }\n",
              "\n",
              "    .colab-df-convert:hover {\n",
              "      background-color: #E2EBFA;\n",
              "      box-shadow: 0px 1px 2px rgba(60, 64, 67, 0.3), 0px 1px 3px 1px rgba(60, 64, 67, 0.15);\n",
              "      fill: #174EA6;\n",
              "    }\n",
              "\n",
              "    [theme=dark] .colab-df-convert {\n",
              "      background-color: #3B4455;\n",
              "      fill: #D2E3FC;\n",
              "    }\n",
              "\n",
              "    [theme=dark] .colab-df-convert:hover {\n",
              "      background-color: #434B5C;\n",
              "      box-shadow: 0px 1px 3px 1px rgba(0, 0, 0, 0.15);\n",
              "      filter: drop-shadow(0px 1px 2px rgba(0, 0, 0, 0.3));\n",
              "      fill: #FFFFFF;\n",
              "    }\n",
              "  </style>\n",
              "\n",
              "      <script>\n",
              "        const buttonEl =\n",
              "          document.querySelector('#df-4e067b82-c829-4908-9c88-d0db621776e8 button.colab-df-convert');\n",
              "        buttonEl.style.display =\n",
              "          google.colab.kernel.accessAllowed ? 'block' : 'none';\n",
              "\n",
              "        async function convertToInteractive(key) {\n",
              "          const element = document.querySelector('#df-4e067b82-c829-4908-9c88-d0db621776e8');\n",
              "          const dataTable =\n",
              "            await google.colab.kernel.invokeFunction('convertToInteractive',\n",
              "                                                     [key], {});\n",
              "          if (!dataTable) return;\n",
              "\n",
              "          const docLinkHtml = 'Like what you see? Visit the ' +\n",
              "            '<a target=\"_blank\" href=https://colab.research.google.com/notebooks/data_table.ipynb>data table notebook</a>'\n",
              "            + ' to learn more about interactive tables.';\n",
              "          element.innerHTML = '';\n",
              "          dataTable['output_type'] = 'display_data';\n",
              "          await google.colab.output.renderOutput(dataTable, element);\n",
              "          const docLink = document.createElement('div');\n",
              "          docLink.innerHTML = docLinkHtml;\n",
              "          element.appendChild(docLink);\n",
              "        }\n",
              "      </script>\n",
              "    </div>\n",
              "  </div>\n",
              "  "
            ]
          },
          "metadata": {},
          "execution_count": 120
        }
      ],
      "source": [
        "data"
      ]
    },
    {
      "cell_type": "markdown",
      "id": "f1aca3da",
      "metadata": {
        "id": "f1aca3da"
      },
      "source": [
        "MathSAT and SAT are linear reated since the sum of MathSAT and VerbalSAT is SAT. Here's the graph that has the point of (MathSAT and VerbalSAT) and SAT to see that they are identical."
      ]
    },
    {
      "cell_type": "code",
      "execution_count": 121,
      "id": "70239a87",
      "metadata": {
        "colab": {
          "base_uri": "https://localhost:8080/",
          "height": 430
        },
        "id": "70239a87",
        "outputId": "5c576b19-e062-434c-e6f6-a3ffb05dd74d"
      },
      "outputs": [
        {
          "output_type": "display_data",
          "data": {
            "text/plain": [
              "<Figure size 640x480 with 1 Axes>"
            ],
            "image/png": "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\n"
          },
          "metadata": {}
        }
      ],
      "source": [
        "plt.scatter(data['VerbalSAT']+ data['MathSAT'], data['SAT'])\n",
        "plt.show()"
      ]
    },
    {
      "cell_type": "markdown",
      "id": "94fc5706",
      "metadata": {
        "id": "94fc5706"
      },
      "source": [
        "The two rows that we'll focus for now is MathSAT and SAT. Now let's see them in the graph."
      ]
    },
    {
      "cell_type": "code",
      "execution_count": 122,
      "id": "adbb511a",
      "metadata": {
        "scrolled": false,
        "colab": {
          "base_uri": "https://localhost:8080/",
          "height": 430
        },
        "id": "adbb511a",
        "outputId": "3fc5bf01-a636-457a-e901-5b8a12b8c111"
      },
      "outputs": [
        {
          "output_type": "display_data",
          "data": {
            "text/plain": [
              "<Figure size 640x480 with 1 Axes>"
            ],
            "image/png": "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\n"
          },
          "metadata": {}
        }
      ],
      "source": [
        "plt.scatter(data['MathSAT'], data['SAT'])\n",
        "plt.show()"
      ]
    },
    {
      "cell_type": "markdown",
      "id": "99a696ae",
      "metadata": {
        "id": "99a696ae"
      },
      "source": [
        "# Linear Regression"
      ]
    },
    {
      "cell_type": "markdown",
      "id": "7cb24a59",
      "metadata": {
        "id": "7cb24a59"
      },
      "source": [
        "We can go ahead and find the regress by using the built in function from the package scipy so that we can compare them later to our regression function."
      ]
    },
    {
      "cell_type": "code",
      "execution_count": 123,
      "id": "c10b0340",
      "metadata": {
        "colab": {
          "base_uri": "https://localhost:8080/"
        },
        "id": "c10b0340",
        "outputId": "2f3970cf-1109-4441-b43a-d2b26b49de30"
      },
      "outputs": [
        {
          "output_type": "execute_result",
          "data": {
            "text/plain": [
              "LinregressResult(slope=1.4814731127631733, intercept=300.7633363387839, rvalue=0.8365916602784129, pvalue=4.093448362145017e-96, stderr=0.05112960119117141, intercept_stderr=31.355860418185074)"
            ]
          },
          "metadata": {},
          "execution_count": 123
        }
      ],
      "source": [
        "stats.linregress(data['MathSAT'], data['SAT'])"
      ]
    },
    {
      "cell_type": "markdown",
      "id": "ccc065dc",
      "metadata": {
        "id": "ccc065dc"
      },
      "source": [
        "Before we get started with the regression function, we will need to make a function that calculates the sum of product of two number from two list. I'll also include a statement that does the same thing that we'll use instead of the function ."
      ]
    },
    {
      "cell_type": "code",
      "execution_count": 124,
      "id": "4592e16b",
      "metadata": {
        "id": "4592e16b"
      },
      "outputs": [],
      "source": [
        "def squareAndSum(list1,list2):\n",
        "  total = 0\n",
        "  for i in range(len(list1)):\n",
        "    total = total + list1[i]*list2[i]\n",
        "  return total"
      ]
    },
    {
      "cell_type": "code",
      "execution_count": 125,
      "id": "0f0c2852",
      "metadata": {
        "colab": {
          "base_uri": "https://localhost:8080/"
        },
        "id": "0f0c2852",
        "outputId": "44cbadf2-ee1e-4943-a16f-a70b5166c216"
      },
      "outputs": [
        {
          "output_type": "execute_result",
          "data": {
            "text/plain": [
              "268048133"
            ]
          },
          "metadata": {},
          "execution_count": 125
        }
      ],
      "source": [
        "squareAndSum(data['MathSAT'], data['SAT'])"
      ]
    },
    {
      "cell_type": "code",
      "execution_count": 126,
      "id": "fde1f1b4",
      "metadata": {
        "id": "fde1f1b4"
      },
      "outputs": [],
      "source": [
        "a = sum(i*j for i, j in zip(data['MathSAT'], data['SAT']))"
      ]
    },
    {
      "cell_type": "code",
      "execution_count": 127,
      "id": "eef5c4a7",
      "metadata": {
        "colab": {
          "base_uri": "https://localhost:8080/"
        },
        "id": "eef5c4a7",
        "outputId": "4232b4e4-f1b7-489b-b057-f43feab43458"
      },
      "outputs": [
        {
          "output_type": "execute_result",
          "data": {
            "text/plain": [
              "268048133"
            ]
          },
          "metadata": {},
          "execution_count": 127
        }
      ],
      "source": [
        "a"
      ]
    },
    {
      "cell_type": "markdown",
      "id": "7fab6d54",
      "metadata": {
        "id": "7fab6d54"
      },
      "source": [
        "The following functions will compute the slope and intercept. We will also compare to the result that we have from scipy."
      ]
    },
    {
      "cell_type": "code",
      "execution_count": 128,
      "id": "5a437abd",
      "metadata": {
        "id": "5a437abd"
      },
      "outputs": [],
      "source": [
        "def slopeNintercept(list1, list2):\n",
        "    n=len(list1)\n",
        "    xBar = sum(list1)/n\n",
        "    yBar = sum(list2)/n\n",
        "    xy = sum(i*j for i,j in zip(list1, list2))\n",
        "    xx = sum(i*i for i in list1)\n",
        "    slope = (xy-n*xBar*yBar)/(xx-n*xBar**2)\n",
        "    intercept = yBar - slope*xBar\n",
        "    return [slope, intercept]"
      ]
    },
    {
      "cell_type": "code",
      "execution_count": 129,
      "id": "c4a13a6e",
      "metadata": {
        "colab": {
          "base_uri": "https://localhost:8080/"
        },
        "id": "c4a13a6e",
        "outputId": "b178a805-f3fc-45eb-f338-b1ad575cf947"
      },
      "outputs": [
        {
          "output_type": "stream",
          "name": "stdout",
          "text": [
            "1.4814731127631733\n"
          ]
        },
        {
          "output_type": "execute_result",
          "data": {
            "text/plain": [
              "1.4814731127631662"
            ]
          },
          "metadata": {},
          "execution_count": 129
        }
      ],
      "source": [
        "slope = slopeNintercept(data['MathSAT'], data['SAT'])[0]\n",
        "print(stats.linregress(data['MathSAT'], data['SAT'])[0])\n",
        "slope"
      ]
    },
    {
      "cell_type": "code",
      "execution_count": 130,
      "id": "415884fb",
      "metadata": {
        "colab": {
          "base_uri": "https://localhost:8080/"
        },
        "id": "415884fb",
        "outputId": "f1418766-103c-403c-b6e3-80ef54a93729"
      },
      "outputs": [
        {
          "output_type": "stream",
          "name": "stdout",
          "text": [
            "300.7633363387839\n"
          ]
        },
        {
          "output_type": "execute_result",
          "data": {
            "text/plain": [
              "300.76333633878824"
            ]
          },
          "metadata": {},
          "execution_count": 130
        }
      ],
      "source": [
        "intercept = slopeNintercept(data['MathSAT'], data['SAT'])[1]\n",
        "print(stats.linregress(data['MathSAT'], data['SAT'])[1])\n",
        "intercept"
      ]
    },
    {
      "cell_type": "markdown",
      "id": "9ca9cc48",
      "metadata": {
        "id": "9ca9cc48"
      },
      "source": [
        "Very close. Since this is linear, the general form of the function would be f(x)=ax+b."
      ]
    },
    {
      "cell_type": "code",
      "execution_count": 131,
      "id": "3f8101f7",
      "metadata": {
        "colab": {
          "base_uri": "https://localhost:8080/"
        },
        "id": "3f8101f7",
        "outputId": "22158d06-a2f2-44cc-d02b-d7b2545efe4c"
      },
      "outputs": [
        {
          "output_type": "execute_result",
          "data": {
            "text/plain": [
              "308.1707019026041"
            ]
          },
          "metadata": {},
          "execution_count": 131
        }
      ],
      "source": [
        "def f(x):\n",
        "    return slope*x+intercept\n",
        "\n",
        "f(5)"
      ]
    },
    {
      "cell_type": "code",
      "execution_count": 132,
      "id": "ad897568",
      "metadata": {
        "colab": {
          "base_uri": "https://localhost:8080/",
          "height": 432
        },
        "id": "ad897568",
        "outputId": "1cc83f0a-e087-421d-ed97-c05a2cf52ab0"
      },
      "outputs": [
        {
          "output_type": "display_data",
          "data": {
            "text/plain": [
              "<Figure size 640x480 with 1 Axes>"
            ],
            "image/png": "iVBORw0KGgoAAAANSUhEUgAAAjAAAAGfCAYAAABBU+jJAAAAOXRFWHRTb2Z0d2FyZQBNYXRwbG90bGliIHZlcnNpb24zLjcuMSwgaHR0cHM6Ly9tYXRwbG90bGliLm9yZy/bCgiHAAAACXBIWXMAAA9hAAAPYQGoP6dpAABdE0lEQVR4nO3deViU5foH8O8MMCziDJswoKBopuICpqmUelrINc2lEjPzpD89x6MlaqbWMfOUkVamnk56tPVkpm2aK0VqoYUbioq4izsDKsKwyDbz/P6gmRgYYAZmmIXv57q4zmHeZ955XoaY2/d+nvuWCCEEiIiIiByI1NYTICIiIjIXAxgiIiJyOAxgiIiIyOEwgCEiIiKHwwCGiIiIHA4DGCIiInI4DGCIiIjI4TCAISIiIofDAIaIiIgcDgMYIiIicjiu5j4hKSkJ77zzDlJSUpCZmYlNmzZhxIgRBmNOnTqFuXPn4tdff0V5eTkiIiLw3XffISwsDABQXFyM2bNnY8OGDSgpKcHAgQPx4YcfIigoSH+OK1euYOrUqdizZw+8vb0xYcIExMfHw9XVtClrtVrcuHEDzZs3h0QiMfcyiYiIyAaEEMjPz0dISAik0prvs5gdwBQWFiIyMhITJ07EqFGjqh2/cOEC+vbti0mTJmHRokWQy+U4efIkPDw89GNmzpyJ7du345tvvoFCocD06dMxatQo/PbbbwAAjUaDoUOHQqlU4vfff0dmZiaee+45uLm54a233jJpnjdu3EBoaKi5l0dERER24OrVq2jVqlWNxyUNaeYokUiq3YGJjY2Fm5sbvvjiC6PPycvLQ4sWLbB+/Xo8+eSTAIDTp0+jU6dOSE5ORp8+fbBz5048/vjjuHHjhv6uzOrVqzF37lzcvHkTMpmszrnl5eXBx8cHV69ehVwur+8lEhERUSNSq9UIDQ1Fbm4uFApFjePMvgNTG61Wi+3bt+Pll1/GwIEDcfToUYSHh2P+/Pn6ICclJQVlZWWIiYnRP69jx44ICwvTBzDJycno2rWrQUpp4MCBmDp1Kk6ePInu3btXe+2SkhKUlJTov8/PzwcAyOVyBjBEREQOpq7lHxZdxJudnY2CggK8/fbbGDRoEH766SeMHDkSo0aNwq+//goAUKlUkMlk8PHxMXhuUFAQVCqVfkzl4EV3XHfMmPj4eCgUCv0X00dERETOy6IBjFarBQA88cQTmDlzJqKiojBv3jw8/vjjWL16tSVfqpr58+cjLy9P/3X16lWrvh4RERHZjkUDmICAALi6uiIiIsLg8U6dOuHKlSsAAKVSidLSUuTm5hqMycrKglKp1I/Jysqqdlx3zBh3d3d9uohpIyIiIudm0QBGJpPh/vvvx5kzZwweP3v2LFq3bg0A6NGjB9zc3LBr1y798TNnzuDKlSuIjo4GAERHR+PEiRPIzs7Wj0lMTIRcLq8WHBEREVHTY/Yi3oKCApw/f17/fUZGBlJTU+Hn54ewsDDMmTMHY8aMQf/+/fHwww8jISEBW7duxS+//AIAUCgUmDRpEmbNmgU/Pz/I5XK88MILiI6ORp8+fQAAAwYMQEREBMaPH4+lS5dCpVLhn//8J6ZNmwZ3d3fLXDkRERE5LmGmPXv2CADVviZMmKAf8/HHH4t77rlHeHh4iMjISLF582aDc9y9e1f84x//EL6+vsLLy0uMHDlSZGZmGoy5dOmSGDx4sPD09BQBAQFi9uzZoqyszOR55uXlCQAiLy/P3EskIiIiGzH187tBdWDsmVqthkKhQF5eHtfDEBEROQhTP7/ZC4mIiIgcjkUL2REREVHj0mgFDmbkIDu/GIHNPdAr3A8uUufvAcgAhoiIyEElpGVi0dZ0ZOYV6x8LVnhg4bAIDOoSbMOZWR9TSERERA4oIS0TU9cdMQheAECVV4yp644gIS3TRjNrHAxgiIiIHIRGK5B84TY2Hb2OVzadgLFdOLrHFm1Nh0brlPt0ADCFRERE5BCMpYtqIgBk5hXjYEYOotv5W39yNsAAhoiIyM7p0kXm3k/Jzq872HFUDGCIiIjsmEYrsGhrutnBCwAENvcw+TUcbScTAxgiIiI7djAjx6S0UWUSAEpFRSBSF0fdycRFvERERHbM3DSQ7r7JwmERdd5FceSdTAxgiIiI7JipaSAdpcIDq569r867J7WlphxhJxNTSERERHasV7gfghUeUOUVGw02JAD8msnwz6GdoFR4mrx+pa7UlL3vZOIdGCIiIjvmIpVg4bAIAH+mh3R03y8e2QUj72uF6Hb+Ji++NTU1Za87mRjAEBER2blBXYKx6tn7oFQYppNMTRcZY2pqytwUVmNhComIiMgBDOoSjMcilBbb7mxKasrUnUy2wACGiIjIQbhIJRZbj6JLTU1ddwQSwCCIMWcnk60whURERNREWSM11Vh4B4aIiKgJs3RqqrEwgCEiImriLJmaaixMIREREZHD4R0YIiKiOjhis0NnxwCGiIioFo7a7NDZMYVERERUA0dudujseAeGiIjoD6XlWnyRfAmXc4oQ6uuFj/ZeqLHZoQQVzQ4fi1A2WjrJnFSWs6e9GMAQEREBiN+RjrV7M2Bq8+XGbnZoTiqrKaS9mEIiIqImL35HOv6bZHrwUlljNDs0J5XVVNJeDGCIiKhJKy3XYu3ejHo/39rNDjVagUVb02tMZQEVqSyNVpg11tExgCEioibti+RL9brzIkFFWsbazQ4PZuRUu5tSWeVUljljHR3XwBARUZN2OafI7Oc0ZrNDU1NU5qSyGiPtZW0MYIiIqElr7edl9nOUjbgg1tQUlTmpLGunvRoDAxgiImrSxke3weIdp2pNI0klwOd/7YWcu6WNviW5V7gfghUeUOUVG13bIkFFQKVLZZkz1pFxDQwRETVpMlcpJvcLr3XM5H7h6NehBZ6Iaonodv6NWk/FRSrBwmERtY7RpbIqj606w8ZMezUGBjBERNTkzR8Sgb/1D0fVz3WpBPhb/3DMH1J7AGFtg7oEY0oN85vSP9wglTWoSzBWPXsflArDNJFS4YFVz97nNHVgJEIIx99LZYRarYZCoUBeXh7kcrmtp0NERA6gciXe1n5eGB/dBjJX2/9bX1fbpeoHti6eMRaYOGolXlM/vxnAEBER2TGNVqDvkt21bo+We7jiiagQtPFvZjdBV32Z+vnNRbxERER2rK7aLgCgLi7HF/uvAAAW7ziFyf1sn/ayNgYwRETkFOwlZWLphovm1mzRCuC/SRWVhZ05iGEAQ0REDs9emhdao+FifWu2rN2bgdkDOjp0Oqk2znlVRETUZNhL80JrNVzsFe4HHy83s+ejFRVtEpwV78AQEZHDqqt5oQQVzQsfi1BaPJ1UecdSqK8nPt53yaR54I//3xhzvnTb/DYJdbGXVB0DGCIicljmNC+MbudvsdeN35GOtXszTG4CWbWJojlzPpiRg9yisnrO1LIbje0lVQcwhURERA7MGo0O6xK/Ix3/TTI9eKk6D3Pn3JC5R7Xyqfdzq7KXVJ0O78AQEVGjsuQunYY0OqxPKqS0XIu1ezNMek1T51HX2IY0XgzxNb9RpTG2TNXVxOw7MElJSRg2bBhCQkIgkUiwefPmGsf+/e9/h0QiwfLlyw0ez8nJwbhx4yCXy+Hj44NJkyahoKDAYMzx48fRr18/eHh4IDQ0FEuXLjV3qkREZGcS0jLRd8lujF27HzM2pGLs2v3ou2S30X+9mzJW1+iwNsFGmheaM4/Kvki+VK87L5JK89DNuaaP+cpjAdQ5vibGrru+zEnVNRazA5jCwkJERkbiP//5T63jNm3ahP379yMkJKTasXHjxuHkyZNITEzEtm3bkJSUhClTpuiPq9VqDBgwAK1bt0ZKSgreeecdvP7661izZo250yUiIjthjV06LlIJhkfWvvZieGSwwV2BhqRCLueYvyi2ahNFcxsu1ja+tte0ZNNGW6Tq6mJ2ADN48GC8+eabGDlyZI1jrl+/jhdeeAFffvkl3NwMt36dOnUKCQkJ+Oijj9C7d2/07dsX//73v7FhwwbcuHEDAPDll1+itLQUn3zyCTp37ozY2Fi8+OKLWLZsmbnTJSIiO1BXCgKoSEFotMLssVuO1X7XZMuxTGj+uG1izrmrzj/5wm2o75q/mNZYE0Vdw8UgubvB2CC5u9G+RjU1aPT1cqu2xTrYCk0bG5KqsxaLr4HRarUYP3485syZg86dO1c7npycDB8fH/Ts2VP/WExMDKRSKQ4cOICRI0ciOTkZ/fv3h0wm048ZOHAglixZgjt37sDX17faeUtKSlBSUqL/Xq1WW/jKiIiovsxNQVhqLFB9R4+5u5aM7bypjQTA/yb2Qk5RqQlra2q6B1PdoC7BeCxCWW3dDgCrb2vWpbFUecVGgz8JKgI1S6WsTGHxAGbJkiVwdXXFiy++aPS4SqVCYGCg4SRcXeHn5weVSqUfEx4ebjAmKChIf8xYABMfH49FixZZ4hKIiMjCrJGCMGfsb+dvITu/GOeyCuoeXOncNXWBrs2U/uHod2+Lao9XXjR86VYh3v/5XLUxKnVFGqumOyguUonR7eCW3CJujC6NNXXdEUhguDnbWNqrMVg0gElJScGKFStw5MgRSCSNW9Rm/vz5mDVrlv57tVqN0NDQRp0DEREZZ40UhDljP9hz3uSxunPXlm4yRipBjU0UzbmLI9D4O3pMoUtjVb0OpY3qwFg0gNm7dy+ys7MRFhamf0yj0WD27NlYvnw5Ll26BKVSiezsbIPnlZeXIycnB0plRYVCpVKJrKwsgzG673VjqnJ3d4e7u7vRY0REZFvmpiAsNdZclc9tShdoABgQEYTe4X4YH93GaN+h+tzFsUbxPUuoKY3l8JV4x48fj5iYGIPHBg4ciPHjx+P5558HAERHRyM3NxcpKSno0aMHAGD37t3QarXo3bu3fsyrr76KsrIy/SLgxMREdOjQwWj6iIiI7Ju5KQhLjDWX7vmx94di2/EbOJeVb9LzhnYLxhNRLfXf3y3V4K0d6bh0uwit/TyRmJ5dr3ntPXfT5kGCMTWlsRqbRAhh1s+1oKAA589X3Irr3r07li1bhocffhh+fn4Gd1502rRpg7i4OMTFxekfGzx4MLKysrB69WqUlZXh+eefR8+ePbF+/XoAQF5eHjp06IABAwZg7ty5SEtLw8SJE/H+++8bbLeujVqthkKhQF5eHuRyuTmXSEREVmKNbs01jTWXbjePuWX7v5rcR/+BPvl/h5CYnl3HM8xnq3L9tmDq57fZAcwvv/yChx9+uNrjEyZMwGeffVbtcWMBTE5ODqZPn46tW7dCKpVi9OjRWLlyJby9vfVjjh8/jmnTpuHQoUMICAjACy+8gLlz55o8TwYwRET2yZKVeGsaey4rHx/suVDnXKY/3A7tg5rj0q0iLP/5rFl3SnTppn1zH4GLVGK14EX3WgAsvj3aHlktgHEUDGCIiJqu5Au3MXbt/jrHfTW5D3qF+6Hvkt31unszM6Y92gQ0g4+nGyZ8eqg+UzVZ1YDJWZn6+c1eSERE5HTMWTRs6mJdg+dLAE83F6Nboa3FWp21HRW7URMRkdMxpVz/gqEROJiRg5316KIsBFBUqmnYJOupMcv12zPegSEiIqc0qEswYiICq61LEQC6tZLjje0NW/RrKwHNWDIEYABDREROKn5Heo2Lao9fs692M8ueisTtwlIs3nGq7sHOu/zFLEwhERGR0ykt12Lt3gxbT8Mkzdxd8ET3lgiUm3Zn5VZBSd2DmgAGMERE5HS+SL4ErYPssS0s0eBgRo5ddny2ZwxgiIjI6VzOKbL1FMySnV+s3zlVW9/q4Ebu+GzPGMAQEZHTCfX1tPUUzBLQzN2snVM/pF5H8oXb0DjKbSYr4CJeIiJyOh2VtitgKpXA/PTVHxFKbR2fh0cGV9s51ZRaDFTFAIaIiJyCYSuBApvMQQLgg7H3wbeZTD+PD/acr/N5lRfmGuv4fKewBNPWH61WlE+VV4yp6440iRYDVTGAISIih2eJZo4NJZUAk/uFY0i3PwOJ5Au3TQpgqi7MrdzxWaMV6Ltkt9GKwgIVQdOirel4LELp1C0GquIaGCIicmgJaZmYuu5IvYKXV4d0wrSH2llkHloBrEnKQEKlyr6WWJhbV6uDyi0GmhIGMEREZLc0WoHkC7drXLSq0Qos2ppuVhfpygKau6NtC++GT7SSRVvT9fM0ZWHuwmERtd45MbV1QFNrMcAUEhER2SVjaaGqi1br04ixspyCEly6XdjgueoYa7hY28JcUxbgsj6McQxgiIjI7ujSQnUtWm3oXQe/ZjKLBjA6VedlbGFur3A/k9asmNNZuylhAENERI2qtFyLL5Iv4XJOEVr7eWF8dBvIXP9c0VBbWqjqotWG3nUIbO6BNv7NGnQOY4w1XKy8MNccujTU1HVHIAEMfi6mpqGcEdfAEBFRo4nfkY6OC3bije2n8L/ky3hj+yl0XLAT8TvS9WPMWbRa1yLZOkmA8dFtYPHPfgufT5eGUioMAzalwqNJbqEGeAeGiIgaSfyOdPw3qXqDRa0A/puUgRu5dxETocS5rHyTzpedX1zr3QlTJF+4jVsFJRjSNRjbjmfW/QQTWaPhYkPSUM6IAQwREVmdKd2htx5XYetxlcnn1KVpaloka4rKNVq8ZC64W6aBsEB1fmstqK1vGsoZMYAhIiKrs0p36Eo3Hqrendiaeh0/n75p1unulmogADx5Xyt4ubugXKPF+oNXzZ5SU1xQawsMYIiIyOqs0R26apqmoLgc7/54GjfyiqG+W2r2+XQLhH+7cAv75j6CLanXzQpgmvKCWltgAENERFbX2s/L4uesnKb5yzu7cfn23Qafs/IC4ZxC84IgU+u6kGUwgCEiIqsbH90Gi3ecslgaycfLTZ+msVTwUll2fjH8vKtvhTZmfJ/WGNI1uEkvqLUFbqMmIiKrk7lKMblfuMXOpwsT8orKLB68AMDWYzdw5LJpvYWGdA1GdDt/Bi+NjHdgiIioUcwfUtETaO3ejAbfiblTVIaDGTl498fTFphZdT+fyjZpXF2NGMl6GMAQEVE1dVXLrUyjFSbXJpk/JAJxMR3w1o50XLpdBKkESDp7C4D5NVyy84txowF9kBqiPgt2zfk5Ud0YwBARkYH4HenV7pIs3nEKk/uF6++i6JjScLGu8T5ebgCA3KIys+bp5ylDiMKjQc0c60sAeCwi0OQFu+b+nKhuXANDRER6umq5VVM8umq5lUv+6xouVg0gdA0XE9IMK9vWND6vqAy5RWWYGdMeK2Kj8GzvMJPmejorH5/8tZcZV2dZienZBj+Pmpj6c9JoBZIv3MYPqdeRfOE2NBYvnONceAeGiMiO2CLNoHvNzNy7WGOk1H9la/dmoG+7FrhVWII3tp8yqeGii1RiUoPGDYeuYt/cR3DokmmLZxPSbuDcTbVJY61lTVIGOgTJEezjafS9MrUxpVYr8Mb2U7xDYwaJEJYommx/1Go1FAoF8vLyIJfLbT0dIqI62SLNYOw1LemryX0Q3c4fyRduY+za/SaN33HiBr7Yf8Uq87EmY++VqddtjC4UamrNGk39/GYKiYjIDpibjrHma1pSdn6xwf+aMr57qK/V5mNNxt4rU6/bGN3dhUVb05lOMoIBDBGRjdWVZgAs/yFW22takq5aro+Hm0njt6ZeNzmFZG+MvVcNbeqoqwy8/8Lthk3OCTGAISKysYMZObXeBalc3r6xXtMSKtdISTxlWpfpn0/fxFeHzGugaE+qvle9wv0QrPBAQ1cxTVtvnbtwjowBDBGRjZmTXmns12yI4ZHB+kWtl3MsXy3Xnul+vi5SCRYOq9h6XjWIMSeoyb1bZrVUoqNiAENEZGOmphkamo6oLMDEPj8NseVYpj6VEubrafXXsyfZ6mL9dujHIpRY9ex9CJIb/syD5O748Jn7zLpDw/Uwf+I2aiIiG9OlGVR5xUbXpEhQ0enYoiXrTfwMfKxTIHqF++OjvReQlW9ed2ZdKiW6nT9aWaEbtSXMH9wB+cXl+GDPBYued/GOP1scBCs8MDwyGMbuwUilFdV8p647Uuc5K6enotv5W3S+joh3YIiIbMyUNIM5JetrYlAo7eItk54T7OOJLi0V6NrKp16v+dv5W/gh9TqOXsmt1/OtLb+4HOricqu+RmZeMf6blAGV2jBtl6Uu1gcuq569Dz6epi10boz0nyNgHRgiIjthzTow1q73QvWju7u2b+4j2H/xNsZ9dKDO5+hq6zgrUz+/mUIiIrITg7oE47EIpcUr8erqvTjlv1YdXOW0UJ+2/o2fSnRgDGCIiOyIi1Ri0X9dN1a9F2qY7PxifSpx6rojkMBwmZIlU4nOgmtgiIicWGPUe6GG0+0wG9QlGKuevQ9KheGOM6XCo8m1FKgL78AQETmxxlrwKZUA74zuhozbhQ3a0XNvkDcyc+8iv0RjwdnZL2NpIWulEp0NAxgiIidmydoxtRnSNRiurlL4eskadJ7i0jK4u0qbRABTW1rI0qlEZ2R2CikpKQnDhg1DSEgIJBIJNm/erD9WVlaGuXPnomvXrmjWrBlCQkLw3HPP4caNGwbnyMnJwbhx4yCXy+Hj44NJkyahoKDAYMzx48fRr18/eHh4IDQ0FEuXLq3fFRIRNWGWKmVfE4kE8JK5YNvxTMzYkIo3tp9CQ24UXLlTgluFZZabYCMKVnjgsYjAatcvlQCPRQQimGkhizL7DkxhYSEiIyMxceJEjBo1yuBYUVERjhw5ggULFiAyMhJ37tzBjBkzMHz4cBw+fFg/bty4ccjMzERiYiLKysrw/PPPY8qUKVi/fj2Aii1UAwYMQExMDFavXo0TJ05g4sSJ8PHxwZQpUxp4yURE9kujFRZNHdS2MLQ+nn8wDOUa4NLtIkgAJJ27haJSw7slTalQ7OPdgvFYRBACm3vgTmEppq2vvttLCODn9Gz855n74NtMxrSQhTSoDoxEIsGmTZswYsSIGsccOnQIvXr1wuXLlxEWFoZTp04hIiIChw4dQs+ePQEACQkJGDJkCK5du4aQkBCsWrUKr776KlQqFWSyituR8+bNw+bNm3H69OkaX6sy1oEhIkfjCHVgpJKmFaDURCoBJvcLx/whFQUINVqBvkt21/jzrVzvhUFL7Uz9/Lb6LqS8vDxIJBL4+PgAAJKTk+Hj46MPXgAgJiYGUqkUBw4c0I/p37+/PngBgIEDB+LMmTO4c+eO0dcpKSmBWq02+CIichS6Wi1VPwBVecUWaeI3qEsw9s19BF9N7oMVsVF4tndovc5jD8GLBIBS7o4v/683RkaFNOhcPcJ88N5TkSaNnT+4I56Lbo0FQzvh9BuD9cELYJuO4k2dVQOY4uJizJ07F2PHjtVHUSqVCoGBgQbjXF1d4efnB5VKpR8TFBRkMEb3vW5MVfHx8VAoFPqv0ND6/cdJRNTYaqvVonuspiZ+Bu0BLtyGRiuMPgb8uTD0iaiWkEodu4rG68M748F7AuDtYVr5/Zrkl5RjWKRpQdDzD4bjX090waR+bSFzNfz52aKjeFNntV1IZWVlePrppyGEwKpVq6z1Mnrz58/HrFmz9N+r1WoGMUTkEMz513vlnSnG0kI+XhUf6LlFfy6ENZaGam2nzRVN0bWVvNK1NOyWUHN3V3yRfMmksV8kX8Kkfm2NHrNFR/GmziohuC54uXz5MhITEw1yWEqlEtnZ2Qbjy8vLkZOTA6VSqR+TlZVlMEb3vW5MVe7u7pDL5QZfRESOoD7/eq8p5ZRbVGYQvADG01Djo9s0aLeQLR2/psbk/x0CAETVs8mkzpj7Q3E5p8iksbWNq2u3lwQVgSTbAFiOxQMYXfBy7tw5/Pzzz/D3N9zHHh0djdzcXKSkpOgf2717N7RaLXr37q0fk5SUhLKyP/8jTExMRIcOHeDr62vpKRMR1aimdIwlmfuvd3PbAxhLQ8lcpZjcL9zMmdqPxPRs/Ho6GxdvFTboPC19vEy+G1V1XOXfjYMZOVgwtBMA63YUpz+ZnUIqKCjA+fPn9d9nZGQgNTUVfn5+CA4OxpNPPokjR45g27Zt0Gg0+jUrfn5+kMlk6NSpEwYNGoTJkydj9erVKCsrw/Tp0xEbG4uQkIo85DPPPINFixZh0qRJmDt3LtLS0rBixQq8//77FrpsIqK6WXNXUGW6f72b2sSvPu0BjKWh5g+JwMVbhUhMz679yXZqwmeHGn4SScXdqMU7TtW6QFn6xzidmn43pvQPx5ZjmQaPK63wO0P1CGAOHz6Mhx9+WP+9bt3JhAkT8Prrr2PLli0AgKioKIPn7dmzBw899BAA4Msvv8T06dPx6KOPQiqVYvTo0Vi5cqV+rEKhwE8//YRp06ahR48eCAgIwGuvvcYaMETUaGrq4KxLx1iyAJm5TfwashC0ahrqZwcNXizlVkEJZK5SPNopsNZA7tFOgfqFu7X9bqxJymC9l0ZidgDz0EMPobbSMaaUlfHz89MXratJt27dsHfvXnOnR0TUYHXtCpKgIh3zWITSYh9MuiZ+Vf9Vb+xf7w1ZCFrfNJSz1n8JbO4BjVYg7XrtpTfSrqv16be6fjfe2J7Oei+NgL2QiIiqqO+uoIYytYlfXSknY+qbhpr+cDv4esnwxvZTZl5NhXkDOyDY1xNZecV4a6dphUgbi6+XG3qF+5n0s6hcw8UWvxtUHQMYIqIqbFnTw5Qmfua2B9CFPwuGdtIHR+eyCmp9jo66uNykcTUJ9vXEE1Et8UPq9Qadxxp0PzdrvN+s92J9DGCIiKpwhJoeNaWcfL3cIGBYB0ap8MDwyGC8sf2U2Yt//5d8uUHz1P2M7LH+SW5RGQ5m5Fjl/bbH63U2DGCIiKowd1eQrdSUcgJg8FhNTQatzVUq0c+nV7gfXKUSlNeykMZFArz7dBQCm7tj8ueHUFSmtfocs/OL8Xi3ELPeb0f43WgKHLuWNBGRFehSNIBj1vSo3DKgV7gf3thu+mJdSyrXCtz9o1P13VJNrcELAGgEUFpWDq1W4G4jBC8A4OcpM+v9dvTfDWfCAIaIyAhdikapMEwFKBUeFt1C3RAJaZnou2Q3xq7djxkbUjF27X70XbLboOJufWrGWNLMjUcN/rcuc79Pw/hPDjZawHU6Kx+Aee+3I/xuNAVMIRER1cDUXUG2YGqdGlsvJr1y567B/zaGfu0D4Onmgp/Ss+oce/XOn+0BzHm/7fl3o6lgAENEVAtTdgU1NnPq1Nh6MWmw3B0AEOrjgTOq/EZ5zYfubQEAJgUwVdsDmPN+2+PvRlPCFBIRkYMxp05NXU0GrS23qAQA8EzvNo3yerqS/6Y0q6zaHoAcCwMYIiIHY07dktoWnTaGy7fv4ofU6zh06XajvN7kfuGQuUpNalapG0uOie8cEZGDMbduyaAuwZjSPxySKhGMVAJ0ayWv805FQ9y5W44ZG1Kx6teL1nuRPzwWEYj5QyL0388fEoG/9Q+vdn1SCfC3/uEGY8nxcA0MEZGDMbdOTUJaJtYkZVQbqxXAiWtq/Du2O7Lyi3E5pwj7L9zG2WzTqvTam5/Ts5GQlmmwC2j+kAjMHtARXyRfwuWcIrT288L46Da88+IEJMKU7osOSK1WQ6FQIC8vD3K53NbTISKyKN0uJKB692oBYGZMe7QJaIYAb3fM/joVKnWJ0fNIAAQ2l+H/+rXDhVv52HDwmrWnbjW6wI2NFB2bqZ/fDGCIiBxUQlpmtVYCPl5uAAxbCTgiqQTo0lKOtOtqs7tgfzW5D3cHOTBTP7+ZQiIiclBVa5FculWE5T+ftUnVXUsTf6S3Vo7tjmx1RXpLfbcMm1Nv1PlcW9e+ocbBAIaIyI5otMKs4mi6WiQarUDfJbudIngB/qxn89aOU/qUUPKF2yYFMLaufUONgwEMEZGdMJYSClZ4YOGwiDrL0zdmywB/Lxf0aOOPn9Kzrfo6levZRLfzd5gmm9Q4uAybiMhCNFqB5Au38UPqdSRfuA2NGYs3dItyqwYhutYAlfsbGdOYaRONkGJot5BGez3dtbGRIlXGOzBERBbQkLsn5rQGqOnDuTHTJgHN3BDg7d54r1fptXSNFKv+rJUm/qzJeTCAISJqIFMbK9bEnNYANe2uqSu9YknDo1qivi+iS/O8+2QkfrtwEx/+YkKBuyqvxUaKBDCAISJqEEvcPTGnNYCx19d9kMfeH4blP5/V14KxlluFpbhVaLyuTG0qp3kebB9g8jmMjTPWSNHcBdDk2BjAEBE1gCXunpjbGkDHVnVgWvt51StlJZFU9B/S3Y2q73Ub05AUHjkmLuIlImqAhtw90amrY7QEFR/GlXfX1LToN6+oDLlFZZgZ0x4rYqPQJcTyhTyDmrujV7ifPlgylVYAa5Iy9AuS63PdxjR0ATQ5JgYwREQNYIm7CKbsrlkwNAIHM3LwQ+p1/Hb+Fl7fcrLWtNWGQ1fxeLcQdA/zMWl+5li887RZO6yqen3LSaxNuohFW0/iwT/uStV3V1FdKTygIoXXkPmSfWIKiYioASxVm6S23TXDI4PxxvZ0k+u8VE5bvTIkAl/sv2L6BZkgM68YXyRfqleaSgBQqUuweMcp/WMSAF4yFxSWavSPmbqryBIpPHJMDGCIiBpAd/dk6roj1RbPmlubZFCXYDzSMcigc3JQcw+8sOFovRblZucXw1PmgsciApFo4aJzl3OKLHYuAaCwVINh3ZSIiVCatQDXEik8ckwMYIiIGshStUmMLUSVSuq/o0hXP2Xtc/fjL+/sxuXbd6uNaeEtg6uL1Owqvq39vOo5q5ptP6HCe093h8zV9NUNllwITI6FAQwRkQU0tDZJTbVkGrR044/nxu9INxq8AMDNglJM7tcGj3RUIju/GD+dVGH7CVWtpw1WeGB8dBt8tC/DonVntAL4IvkSJvVra/Jz2F6g6eIiXiIiC9HVJnkiqiWi2/nrg5e6WgzUthC1IbLzi1FarsXavRm1jvto7yWUa7TQaAR21BG8AMCrgztB5iqtceFxQ5ibmmJ7gaaLd2CIiKzIlPok1mrEmFNYii+SL9V5F0cAGP/JQZPPm/XHepKaUmfBfyw83nIss1FSU2wv0DQxgCEishJTWwxYa4Gpn7c7jl65Y/HzVr5LUlvq7OVBnfSP+3nJMOHTg7UGU1IJMD66Tb3mxPYCTQ8DGCIiKzClxcDrW06iuYcbzmblW2UOO47fsMp5q94lMVbW39jjk/uF479JNaezhnQNxs60zHoHHzXNg5yTRAjhlNV91Go1FAoF8vLyIJdbvhIlEVFtki/cxti1+209DYuTSoDTbww2a6dQZfE70rF2b4bBnRiJBPB0c0FRpTowbAPQdJn6+c07METktGzZ3M9Z645M7hde7+AFAOYPicDsAR31tW6KSjT49sg1g+AFML2TNzVdDGCIyCnZurmfrgaLs5D+0Yhx/pCIBp9L5irFpH5todEK9F2y2+gYUzt5U9PFAIaInI6pi2etykmS8491aoE+bQMwPrpNg+68GMM2ANQQrANDRE7FXpr73Sosser5G8vjkS0xqV9biwcvANsAUMMwgCEip2LOv+qtyVlK11vzOtgGgBqCAQwRORV7+Ve9rsR9fVZu+DeT4f2nI/GPh9pZfF6mkqBizZA1S/DX9TNqjDmQ42IAQ0ROxV7+VV9bifuaSP74WjyyC0be1wr92rew1vTqnAdg/RL8bANADcEAhoicij39q15X4l6pMAyW3FyMz06p8DBYYKy7FmurGh9UnYc11fQzasw5kGNiITsicjq6XUiA4WYg3ee0OR+MlqglU1quxf9+z8DuMzdx+NIdlGq0aO7uikVPdEawwtPg3AAMXm/36aw6mzHWl+4q/vPMffBtJqt1HtauoWPLmj1kX6xWyC4pKQnvvPMOUlJSkJmZiU2bNmHEiBH640IILFy4EGvXrkVubi4efPBBrFq1Cu3bt9ePycnJwQsvvICtW7dCKpVi9OjRWLFiBby9vfVjjh8/jmnTpuHQoUNo0aIFXnjhBbz88svmTpeImiBLNfezRC2ZhLRMLPzhJLLy/9yVJHORYN7gDhh1X6s6X8+Sn+FSCQwq4Nb087BFDR22ASBzmR3AFBYWIjIyEhMnTsSoUaOqHV+6dClWrlyJzz//HOHh4ViwYAEGDhyI9PR0eHhU3CIcN24cMjMzkZiYiLKyMjz//POYMmUK1q9fD6Ai+howYABiYmKwevVqnDhxAhMnToSPjw+mTJnSwEsmoqagoc39LFFLJiEtE3//405QZaUagX9uPgl/b3f9OWp6PUvu9tYKYMHQTgho7l7jz8MuaugQmaBBKSSJRGJwB0YIgZCQEMyePRsvvfQSACAvLw9BQUH47LPPEBsbi1OnTiEiIgKHDh1Cz549AQAJCQkYMmQIrl27hpCQEKxatQqvvvoqVCoVZDIZAGDevHnYvHkzTp8+bdLcmEIiovrSVYitaTu2BBV3L/bNfaTGgKiotBz3v/kzCquUyDd2DgC1vp4lrYiNwhNRLY0es8R1EzWUqZ/fFl3Em5GRAZVKhZiYGP1jCoUCvXv3RnJyMgAgOTkZPj4++uAFAGJiYiCVSnHgwAH9mP79++uDFwAYOHAgzpw5gzt3jLeGLykpgVqtNvgiIqqPhtaSOZuVj0HL99YYvFQ9R12vZ0m17b6ylxo6RKawaACjUqkAAEFBQQaPBwUF6Y+pVCoEBgYaHHd1dYWfn5/BGGPnqPwaVcXHx0OhUOi/QkNDG35BRNQk1beWjBACn/6Wgcf/vQ9XcopMPkdjVJo1ZfeVvdTQITKF02yjnj9/PvLy8vRfV69etfWUiMhBBTQzrRFj5XHZ6mJM+PQQFm1NR2m5FpGtFCadI7C5h9Vr0phaU8VeaugQmcKiAYxSqQQAZGVlGTyelZWlP6ZUKpGdnW1wvLy8HDk5OQZjjJ2j8mtU5e7uDrlcbvBFRFQv5lSeA/DTSRUGrdiLpLM34e4qxaLhnfHd1AfqrOGiuyNiStXeqnFHsMIDrf09jY51rTLY1Joq9lRDh6guFg1gwsPDoVQqsWvXLv1jarUaBw4cQHR0NAAgOjoaubm5SElJ0Y/ZvXs3tFotevfurR+TlJSEsrIy/ZjExER06NABvr6+lpwyEVE1twpMa8R4PbcI878/jilfpCCnsBSdguXY+kJfTHigDVxdpBgeWXvAMDwyGC5SiUFFWmMkAD4Y2x1fTe6DFbFR+GpyHzzeTYnLt+8aHV+uFXi8W7B+7L65j5i0c4iVccmRmB3AFBQUIDU1FampqQAqFu6mpqbiypUrkEgkiIuLw5tvvoktW7bgxIkTeO655xASEqLfqdSpUycMGjQIkydPxsGDB/Hbb79h+vTpiI2NRUhICADgmWeegUwmw6RJk3Dy5Els3LgRK1aswKxZsyx24URENTE1RbLsp3P46mBFunpK/7bYPO0B3BvUHEDFjp4txzJrff6WY5n6rtiDugRjSv/wandapBJgSv9wDOkWguh2/ngiqiV6tPbFx/su1XruHScyMbhLMKLb+ZsVcLAyLjkKs+vAHD58GA8//LD+e11QMWHCBHz22Wd4+eWXUVhYiClTpiA3Nxd9+/ZFQkKCvgYMAHz55ZeYPn06Hn30UX0hu5UrV+qPKxQK/PTTT5g2bRp69OiBgIAAvPbaa6wBQ0SNQpdKUeUVV6uHUplKXQyl3APLno7EA/cEGBwzZWeRbkdPdDt/JKRlYk1SRrXXEwJYk5SB7mG++uDhi+RLddaH0YqKcZP6ta19oBENraFD1BjYSoCIyIia2hFUNrRrMBaP7AIfL1m1Yz+kXseMDal1vs6K2Cg83i3ErPorr/2Qhv8lX67z3M9Ft8a/nuhS5zgie2KTOjBERM6iplQKALi7SvHuU5H44JnuRoMXwLwdPebWX2nt52XSuU0dR+SIGMAQEdVgUJdg7HixHx6o1KOne5gPEmf+BU/2aAWJpOaUijk7esytvzI+uk2dPZKkkopxRM6KAQwRUQ32X7yNISv34vcLtyGVAE/2aIUNk/sgzL/uOxvm7Ogxt/6KzFWKyf3Cax07uV84ZK78E0/Oi7/dRERVlJZr8fbO0xi7Zr8+taMVwLcp1/DQu78gIa323UU6pu7oqU/9lflDIvC3GnYt/a1/OOYPqXlbNpEz4CJeIqJKzmcXIG7jUaRdN95PTRcvmLOlWKMVde7oqWnRcF2vV1quxRfJl3A5pwit/bwwProN77yQQzP189vsbdRERM5ICIF1B65g8fZ0FJdpIZFUbGGuNg4VQcWirel4LEJp0tZiF6kE0ZXW0Riju1uzaGu6wYJepcIDC4dF1BgsuUgliAhRIKC5OwKbe3CrMzUZDGCIqMm7VVCCud8ex67TFW1OurRUIO16Xo3jK+8KqiswMYe59VcS0jKrBTzBdQQ8RM6CAQwRNWl7TmdjzrfHcKugFDIXKV4e1AH+3jLM3HiszudaoyuzKXdrgD9TTlVvEqnyijF13RFWzSWnxwCGiJqku6UavLXjFL7YX1EQrkNQcyyPjUKnYDmSL9w26Ry26sqs0Qos2pputMBefVJcRI6IAQwRNTlp1/MQtzEV57MLAADPP9gGcwd1hIebC4C6WwnoKuPaqiuzOYXvLJniIrInXKpORE2GViuw+tcLGPnhbzifXYAWzd3xv4m9sHBYZ33wAth/V2ZTU1c70zKRfOG2vmEkkTNhAENETcKN3Lt45qP9eHvnaZRpBAZEBOHHuP7of28Lo+PtuSuzqamr/yVfxti1+9F3yW6Ta9cQOQrWgSEip7f12A28uukE1MXl8HRzwcJhERhzf2itrQB0TKnh0tg0WoG+S3bX2S1bpz61a4hshXVgiKjJyy8uw8IfTuL7o9cBAJGtFFge2x3hAc1MPoepu4Iaky7FNXXdEUhQc7dsHS7sJWfEFBIROaXDl3IweMVefH/0OqQS4IVH7sG3Ux8wK3ixZ7V1yzamakdrIkfHOzBE5FTKNFqs3HUO/9lzHloBtPL1xPIxUejZxrI7huwhtVS58N3OtEz8L/lync+xRu0aIltgAENETiPjViHiNqbi2NVcAMCo+1pi0fDOaO7hZtHXsacKuJVTXKYEMLaqXUNkaUwhEZHDE0Jgw8ErGLpyL45dzYXcwxUfPNMdy56OskrwMnXdkWp1WHQVcG2126c+Ha2JHBkDGCJyaDmFpfjbFymY9/0JFJVq0KetHxLi+uPxbiHQaAWSL9zGD6nXLVIPpa4KuEDFQllb1F2x99o1RJbGFBIROaykszfx0jfHkJ1fAjcXCV4a0AGT+7WFVCqxSprH3ivg1rejNZEjYgBDRA6nuEyDJQmn8elvlwAA9wR6Y/mYKHRpqQBgvUaHpi6AteVCWXM7WhM5KgYwRORQTmWqEbchFWey8gEAz0W3xvzBneApq2gFYM1Gh6YugLX1Qll7rF1DZGkMYIjIIWi1Ap/8loGlCWdQqtEiwFuGpU92wyMdgwzGWTPNY+9NHomaEi7iJSK7l6UuxnOfHMSb20+hVKPFIx0DkRDXv1rwAlg3zcOFskT2gwEMEdm1hLRMDFyehH3nb8HDTYo3R3TBxxN6IsDb3eh4a6d57LnJI1FTwhQSEdmlwpJyLNp6El8fvgYA6NJSjuVjuuOeQO9an9cYaR4ulCWyPd6BISK7c/TKHQxZuRdfH74GiQSY+lA7fD/1wTqDF4BpHqKmgndgiMhulGu0+M+eC1i5+xw0WoEQhQeWjYlCn7bmLba1dj0Ue2olQNRUSYQQjV8yshGo1WooFArk5eVBLpfbejpEVIcrt4sw8+tUpFy+AwAYHhmCN0Z0gcKz/q0ArNFwsaYaM7qzch0MUcOY+vnNOzBEZFNCCHx35Dpe33ISBSXlaO7uijdGdMGI7i2NjjcnKLF0PRRr1pghIvMwgCEim8ktKsUrm05gxwkVAOD+Nr5Y9nQUQv28jI63derG3lsJEDUlXMRLRDbx+/lbGLR8L3acUMFVKsGcgR2wYUp0rcGLrbtAO0IrAaKmgndgiKhRlZRr8O6PZ7B2bwYAoG1AM7w/JgqRoT41PsdeUjeO0kqAqClgAENEjeZsVj5mbEjFqUw1AGBsrzAseLwTvGS1/ymyl9QNWwkQ2Q+mkIjI6oQQ+Pz3Sxj27304lamGXzMZ1ozvgfhRXesMXgD7Sd2wxgyR/WAAQ0RWlZ1fjOc/O4SFW06ipFyLv9zbAglx/TCgs9Lkc9hT6oatBIjsA1NIRGQ1P6dn4eXvjiOnsBQyVyleGdwREx5oA4nEvDsU9pa6YSsBIttjAENEFldUWo43t5/C+gNXAAAdlc2xcmx33BvUvF7n06Vupq47AglgEMTUlrqxRiG7ynPiVmki22EAQ0QWdfxaLuI2pOLirUIAwOR+4XhpYAe4u7o06Lzmtgewdc0YIrIuthIgIovQaAVW/3oB7yeeRblWQCn3wHtPR+LBewIs/jp13VVhuX8ix8VWAkTUaK7dKcKsjcdw8FIOAGBIVyXeGtkVPl4yi79WXakbe6kZQ0TWxQCGiBpk89HrWLA5Dfkl5Wgmc8HrwzvjyR6tzF6oayn2UjOGiKyLAQwR1Uve3TIs2JyGLcduAADuC/PB+2Oi0Nq/mU3mo0st7TSxpQDL/RM5NovXgdFoNFiwYAHCw8Ph6emJdu3a4Y033kDlpTZCCLz22msIDg6Gp6cnYmJicO7cOYPz5OTkYNy4cZDL5fDx8cGkSZNQUFBg6ekSUT0cuHgbQ1bsxZZjN+AilSAupj2+/lu0zYKXhLRM9F2yG2PX7sf/ki+b9ByW+ydybBa/A7NkyRKsWrUKn3/+OTp37ozDhw/j+eefh0KhwIsvvggAWLp0KVauXInPP/8c4eHhWLBgAQYOHIj09HR4eFT8URk3bhwyMzORmJiIsrIyPP/885gyZQrWr19v6SkTkYlKy7V4/+ezWP3rBQgBhPl5YXlsFO4L87XZnGpasFsTlvsncg4W34X0+OOPIygoCB9//LH+sdGjR8PT0xPr1q2DEAIhISGYPXs2XnrpJQBAXl4egoKC8NlnnyE2NhanTp1CREQEDh06hJ49ewIAEhISMGTIEFy7dg0hISF1zoO7kIgs68LNAsRtSMWJ63kAgKd6tMLC4Z3h7W67TLRGK9B3ye5a17xUxl1IRPbP1M9vi6eQHnjgAezatQtnz54FABw7dgz79u3D4MGDAQAZGRlQqVSIiYnRP0ehUKB3795ITk4GACQnJ8PHx0cfvABATEwMpFIpDhw4YPR1S0pKoFarDb6IqOGEEFi3/zKGrtyLE9fzoPB0w6px9+GdpyJtGrwAdS/YrYrl/omch8X/+sybNw9qtRodO3aEi4sLNBoNFi9ejHHjxgEAVCoVACAoKMjgeUFBQfpjKpUKgYGBhhN1dYWfn59+TFXx8fFYtGiRpS+HqEm7VVCCed8dx8+nsgEAD97jj/eeiqrWB8hWTF2I+1x0awzuEsxy/0ROxOIBzNdff40vv/wS69evR+fOnZGamoq4uDiEhIRgwoQJln45vfnz52PWrFn679VqNUJDQ632ekTObs/pbMz59hhuFZRC5iLFy4M6YOKD4ZDaUQBg6kLcwV2CuWWayMlYPICZM2cO5s2bh9jYWABA165dcfnyZcTHx2PChAlQKis60GZlZSE4+M/buFlZWYiKigIAKJVKZGdnG5y3vLwcOTk5+udX5e7uDnd3d0tfDlGTU1ymwVs7Tul389wb5I3lY7ojIsT+1pLZW5NHImo8Fl8DU1RUBKnU8LQuLi7QarUAgPDwcCiVSuzatUt/XK1W48CBA4iOjgYAREdHIzc3FykpKfoxu3fvhlarRe/evS09ZSL6w8kbeXj83/v0wcvzD7bBlul97TJ4Af5s8gj8uUBXp7Ymj0Tk+Cx+B2bYsGFYvHgxwsLC0LlzZxw9ehTLli3DxIkTAQASiQRxcXF488030b59e/026pCQEIwYMQIA0KlTJwwaNAiTJ0/G6tWrUVZWhunTpyM2NtakHUhEZB6tVmDt3ot496czKNMItGjujnefisRf7m1h66nVydwmj0TkHCy+jTo/Px8LFizApk2bkJ2djZCQEIwdOxavvfYaZLKKvihCCCxcuBBr1qxBbm4u+vbtiw8//BD33nuv/jw5OTmYPn06tm7dCqlUitGjR2PlypXw9vY2aR7cRk1kmhu5dzH762NIvngbADAgIghvj+4Gv2aW72NkTaY0eSQi+2fq5ze7URM1YduO38Ar35+Aurgcnm4uWDgsAmPuD7VZHyMiInajJqIa5ReXYeGWk/j+yHUAQGQrBZbHdkd4gG1aARARmYsBDFETk3I5B3EbU3E15y6kEuAfD92DGTHt4eZi8TX9RERWwwCGqIko02jx713n8MGe89AKoKWPJ5bHRuH+NtxiTESOhwEMURNw6VYh4jamIvVqLgBgZPeWWPREZ8g93Gw7MSKiemIAQ+TEhBD4+vBVLNqajqJSDeQernhzZFcMj2Q5AiJybAxgiJzUncJSzPv+OH48mQUA6NPWD8uejkKIj6eNZ0ZE1HAMYIic0N5zNzH762PIzi+Bm4sEswd0wOR+bVkXhYicBgMYIidSXKbB0oQz+OS3DABAuxbNsCK2O7q0VNh4ZkRElsUAhshJnFapEbchFadV+QCA8X1a45UhneApc7HxzIiILI8BDJGD02oFPv39EpYknEZpuRYB3jIsfbIbHukYZOupERFZDQMYIgeWpS7GS98cw95ztwAAj3QMxJLR3dCiubuNZ0ZEZF0MYIgcVEKaCvO/P447RWXwcJPi1aEReLZ3GPsYEVGTwACGyMEUlpTjX1vTsfHwVQBA5xA5VsRG4Z7A5jaeGRFR42EAQ+RAjl65g7iNqbh8uwgSCfC3/u0w67F7IXNlHyMialoYwBA5gHKNFh/+cgErdp2DRisQovDAe09HIbqdv62nRkRkEwxgiOzc1ZwixG1MRcrlOwCAYZEhePOJLlB4sY8RETVdDGCI7JQQAt8fuY6FW06ioKQczd1d8a8RnTEiqiUX6hJRk8cAhsgO5RWV4ZXNJ7D9eCYA4P42vlj2dBRC/bxsPDMiIvvAAIbIzvx+4RZmf30MmXnFcJVKEBfTHlMfuod9jIiIKmEAQ2QnSso1WPbTWazZexFCAOEBzbB8TBQiQ31sPTUiIrvDAIbIDpzPzseLX6UiPVMNABjbKxT/HBqBZu78T5SIyBj+dSSyISEEvth/GYu3n0JJuRa+Xm54e3Q3DOystPXUiIjsGgMYIhvJzi/Gy98exy9nbgIA+t/bAu8+2Q2Bcg8bz4yIyP4xgCGygZ/TszD3u+O4XVgKmasU8wd3xIToNpByoS4RkUkYwBA1oqLScry5/RTWH7gCAOiobI4Vsd3RQck+RkRE5mAAQ9RITlzLw4yNR3HxZiEA4P/6hmPOoA5wd3Wx8cyIiBwPAxgiK9NoBf6bdAHLfjqLcq1AkNwd7z0Vhb7tA2w9NSIih8UAhsiKrufexcyNqTiYkQMAGNxFibdGdoVvM5mNZ0ZE5NgYwBBZyQ+p1/HPzWnILy5HM5kLFg7vjKd6tGIfIyIiC2AAQ2Rh6uIyvLY5DZtTbwAAuof5YPmYKLT2b2bjmREROQ8GMEQWdODibcz6+hiu596Fi1SCFx65B9MfvgeuLlJbT42IyKkwgCGygNJyLZb/fBarfr0AIYAwPy+8PyYKPVr72npqREROiQEMUQNduFmAuA2pOHE9DwDwVI9WWDi8M7zZx4iIyGr4F5aonoQQWH/wCt7cdgp3yzRQeLohflRXDOkabOupERE5PQYwRPVwu6AEc787gZ9PZQEAHrzHH+8+FYlghaeNZ0ZE1DQwgCEy054z2ZjzzXHcKiiBzEWKOQM7YFLfcPYxIiJqRAxgiExUXKZB/I5T+Dz5MgCgfaA3VsR2R0SI3MYzIyJqehjAEJng5I08xG1IxbnsAgDAXx9og3mDO8LDjX2MiIhsgQEMUS20WoGP9l3Euz+eRalGiwBvd7z7VDc81CHQ1lMjImrSGMAQ1SAz7y5mf30Mv1+4DQB4LCIIb4/qCn9vdxvPjIiIGMAQGbH9eCZe2XQCeXfL4OnmgteGRSD2/lD2MSIishMMYIgqyS8uw+tb0vHdkWsAgG6tFFg+JgptW3jbeGZERFQZAxiiP6RczkHcxlRczbkLqQT4x0P3YEZMe7ixjxERkd2xyl/m69ev49lnn4W/vz88PT3RtWtXHD58WH9cCIHXXnsNwcHB8PT0RExMDM6dO2dwjpycHIwbNw5yuRw+Pj6YNGkSCgoKrDFdauLKNVosSzyLp1Yn42rOXbT08cSGKdF4aWAHBi9ERHbK4n+d79y5gwcffBBubm7YuXMn0tPT8d5778HX98+mdkuXLsXKlSuxevVqHDhwAM2aNcPAgQNRXFysHzNu3DicPHkSiYmJ2LZtG5KSkjBlyhRLT5eauEu3CvHk6mSs3HUOWgGM7N4SO+P6oVe4n62nRkREtZAIIYQlTzhv3jz89ttv2Lt3r9HjQgiEhIRg9uzZeOmllwAAeXl5CAoKwmeffYbY2FicOnUKEREROHToEHr27AkASEhIwJAhQ3Dt2jWEhITUOQ+1Wg2FQoG8vDzI5Sw0RoaEEPjm8DW8vvUkiko1aO7hisUju2J4ZN2/W0REZD2mfn5b/A7Mli1b0LNnTzz11FMIDAxE9+7dsXbtWv3xjIwMqFQqxMTE6B9TKBTo3bs3kpOTAQDJycnw8fHRBy8AEBMTA6lUigMHDhh93ZKSEqjVaoMvImPuFJZi6rojePm74ygq1aB3uB8S4vozeCEiciAWD2AuXryIVatWoX379vjxxx8xdepUvPjii/j8888BACqVCgAQFBRk8LygoCD9MZVKhcBAw0Jhrq6u8PPz04+pKj4+HgqFQv8VGhpq6UsjJ7Dv3C0MWpGEhJMquLlIMHdQR6yf3ActfdiEkYjIkVh8F5JWq0XPnj3x1ltvAQC6d++OtLQ0rF69GhMmTLD0y+nNnz8fs2bN0n+vVqsZxJBecZkG7/x4Bh/vywAAtG3RDCtju6NLS4WNZ0ZERPVh8QAmODgYERERBo916tQJ3333HQBAqVQCALKyshAcHKwfk5WVhaioKP2Y7Oxsg3OUl5cjJydH//yq3N3d4e7OCqlU3RlVPmZsOIrTqnwAwLN9wvDqkAh4ytjHiIjIUVk8hfTggw/izJkzBo+dPXsWrVu3BgCEh4dDqVRi165d+uNqtRoHDhxAdHQ0ACA6Ohq5ublISUnRj9m9eze0Wi169+5t6SmTk9JqBT7Zl4FhH+zDaVU+/JvJ8PGEnnhzRFcGL0REDs7id2BmzpyJBx54AG+99RaefvppHDx4EGvWrMGaNWsAABKJBHFxcXjzzTfRvn17hIeHY8GCBQgJCcGIESMAVNyxGTRoECZPnozVq1ejrKwM06dPR2xsrEk7kIiy1cWY/c0x7D13CwDwcIcWWPpkJFo05106IiJnYPFt1ACwbds2zJ8/H+fOnUN4eDhmzZqFyZMn648LIbBw4UKsWbMGubm56Nu3Lz788EPce++9+jE5OTmYPn06tm7dCqlUitGjR2PlypXw9jatpDu3UTddP55UYd53x3GnqAzurlL8c2gnPNunNfsYERE5AFM/v60SwNgDBjBNT2FJOd7Ylo4Nh64CADqHyLEiNgr3BDa38cyIiMhUpn5+sxcSOYXUq7mI23AUl24XQSIBpvRvi9mPdYDMla0AiIicEQMYcmgarcCHe85j+a5z0GgFghUeeO/pSDzQLsDWUyMiIitiAEMO62pOEWZuTMXhy3cAAI93C8biEV2h8HKz8cyIiMjaGMCQwxFCYNPR63jth5MoKCmHt7sr/vVEZ4zs3pILdYmImggGMORQ8orK8MrmE9h+PBMA0LO1L94fE4VQPy8bz4yIiBoTAxhyGL9fuIXZXx9DZl4xXKQSxD3aHlMfagdXFy7UJSJqahjAkN0rLdfivcQzWJN0EUIAbfy9sDy2O6JCfWw9NSIishEGMGTXzmfnY8aGVJy8oQYAxN4figWPR6CZO391iYiaMn4KkF0SQmDd/st4c/splJRr4evlhvhR3TCoi/FmnkRE1LQwgCG7czO/BHO/O47dpys6kvdrH4B3n4pEkNzDxjMjIiJ7wQCG7MquU1l4+dvjuF1YCpmrFPMHd8SE6DaQSrk9moiI/sQAhuzC3VINFu9Ix7r9VwAAHZXNsSK2Ozoo2ceIiIiqYwBDNpd2PQ8zNhzFhZuFAID/6xuOlwZ2gIebi41nRkRE9ooBDNmMRiuwJukiliWeQZlGIEjujveeikLf9uxjREREtWMAQzZxPfcuZm1MxYGMHADAoM5KxI/qCt9mMhvPjIiIHAEDGGp0P6Rexz83pyG/uBxeMhe8PqwznurZin2MiIjIZAxgqNGoi8vw2uY0bE69AQCICvXB8jFRaBPQzMYzIyIiR8MAhhrFwYwczNyYiuu5dyGVANMfaY8XHrkHbuxjRERE9cAAhqyqTKPF8p/PYtUvF6AVQKifJ5aPiUKP1n62nhoRETkwBjBkNRdvFmDmxlQcu5YHAHiyRyssHBaB5h5uNp4ZERE5OgYwZHFCCGw4dBX/2pqOu2UaKDzdED+qK4Z0Dbb11IiIyEkwgCGLyiksxdzvjiMxPQsA8EA7f7z3dCSCFZ42nhkRETkTBjBkMb+cycacb4/jZn4JZC5SzBnYAZP6hrOPERERWRwDGGqw4jIN3t55Gp/9fgkA0D7QGytiuyMiRG7biRERkdNiAEMNkn5DjbiNR3E2qwAA8NcH2mDe4I7sY0RERFbFAIbqRasV+HhfBt758QxKNVoEeLvjnae64eEOgbaeGhERNQEMYMhsqrxizP4mFb+dvw0AiOkUhCWju8Lf293GMyMioqaCAQyZZceJTMz//gTy7pbBw02KBY9H4JleYexjREREjYoBDJmkoKQcr285iW9TrgEAurVS4P0xUWjXwtvGMyMioqaIAQzVKeXyHczcmIorOUWQSIB/PNQOcTH3so8RERHZDAMYqlG5Rot/7z6PD/ach0Yr0NLHE++PiUKvcPYxIiIi22IAQ0Zdvl2IuI2pOHolFwAwIioE/xrRBXL2MSIiIjvAAIYMCCHwTco1LNpyEoWlGjT3cMWbI7rgiaiWtp4aERGRHgMY0rtTWIpXNp3AzjQVAKBXuB+WPR2JVr5eNp4ZERGRIQYwBADYd+4WZn+Tiix1CVylEswacC/+1r8dXNjHiIiI7BADmCaupFyDdxLO4KN9GQCAti2aYcWY7ujaSmHjmREREdWMAUwTdjYrHy9+dRSnVfkAgHG9w/Dq0E7wkvHXgoiI7Bs/qZogIQQ++/0S4neeRmm5Fv7NZFgyuhtiIoJsPTUiIiKTMIBpYrLVxXjp2+NIOnsTAPBwhxZY+mQkWjRnHyMiInIcDGCakJ9OqjDv+xPIKSyFu6sUrw7thPF9WrOPERERORwGME1AUWk53tiWjq8OXgUARATLsSI2Cu2Dmtt4ZkRERPXDAMbJHbuai7iNqci4VQiJBJjSry1mDbgX7q4utp4aERFRvTGAcVIarcCqX85j+c/nUK4VCFZ44L2nI/FAuwBbT42IiKjBrN5O+O2334ZEIkFcXJz+seLiYkybNg3+/v7w9vbG6NGjkZWVZfC8K1euYOjQofDy8kJgYCDmzJmD8vJya0/XKVzNKULsmmS8+9NZlGsFhnYLRsKM/gxeiIjIaVj1DsyhQ4fw3//+F926dTN4fObMmdi+fTu++eYbKBQKTJ8+HaNGjcJvv/0GANBoNBg6dCiUSiV+//13ZGZm4rnnnoObmxveeusta07ZoQkhsDn1Ol7bfBL5JeXwdnfFouGdMeq+llyoS0RETsVqd2AKCgowbtw4rF27Fr6+vvrH8/Ly8PHHH2PZsmV45JFH0KNHD3z66af4/fffsX//fgDATz/9hPT0dKxbtw5RUVEYPHgw3njjDfznP/9BaWmptabs0PLuluHFDamYufEY8kvK0aO1L3bO6IfRPVoxeCEiIqdjtQBm2rRpGDp0KGJiYgweT0lJQVlZmcHjHTt2RFhYGJKTkwEAycnJ6Nq1K4KC/iysNnDgQKjVapw8edLo65WUlECtVht8NRX7L97G4OVJ2HrsBlykEsx+7F5snNIHoX5swkhERM7JKimkDRs24MiRIzh06FC1YyqVCjKZDD4+PgaPBwUFQaVS6cdUDl50x3XHjImPj8eiRYssMHvHUVquxbLEs/hv0gUIAbTx98L7Y6LQPcy37icTERE5MIsHMFevXsWMGTOQmJgIDw8PS5++RvPnz8esWbP036vVaoSGhjba6ze289kFiNt4FGnXK+40jekZiteGRaCZOzeWERGR87P4p11KSgqys7Nx33336R/TaDRISkrCBx98gB9//BGlpaXIzc01uAuTlZUFpVIJAFAqlTh48KDBeXW7lHRjqnJ3d4e7u/OXwxdCYN2BK1i8PR3FZVr4eLnh7VHdMKiL8Z8LERGRM7L4GphHH30UJ06cQGpqqv6rZ8+eGDdunP7/u7m5YdeuXfrnnDlzBleuXEF0dDQAIDo6GidOnEB2drZ+TGJiIuRyOSIiIiw9ZYdxM78Ekz4/jAWb01BcpkW/9gH4Ma4/gxciImpyLH4Hpnnz5ujSpYvBY82aNYO/v7/+8UmTJmHWrFnw8/ODXC7HCy+8gOjoaPTp0wcAMGDAAERERGD8+PFYunQpVCoV/vnPf2LatGlN4i6LMbtPZ+Hlb4/jVkEpZK5SzB3UEc8/0AZSKXcYERFR02OTBRPvv/8+pFIpRo8ejZKSEgwcOBAffvih/riLiwu2bduGqVOnIjo6Gs2aNcOECRPwr3/9yxbTtam7pRq8teMUvth/GQDQIag5VoyNQkel3MYzIyIish2JEELYehLWoFaroVAokJeXB7ncMT/s067nYcaGo7hwsxAAMKlvOOYM7AAPN/YxIiIi52Tq5ze3rNghjVZg7d6LeO+nMyjTCAQ2d8d7T0eiX/sWtp4aERGRXWAAY2du5N7FrK9Tsf9iDgBgUGcl4kd1hW8zmY1nRkREZD8YwNiRrcdu4NVNJ6AuLoeXzAWvD+uMp3qyFQAREVFVDGDsQH5xGRb+cBLfH70OAIgK9cHyMVFoE9DMxjMjIiKyTwxgbOzQpRzM3JiKa3fuQioBpj/SHi88cg/cXKzWpoqIiMjhMYCxkTKNFit+PocPfzkPrQBC/TyxfEwUerT2s/XUiIiI7B4DGBvIuFWIuA1HcexaHgBg1H0tsWh4ZzT3cLPxzIiIiBwDA5hGJITAhkNX8a+t6bhbpoHcwxVvjeqKx7uF2HpqREREDoUBTCPJKSzFvO+O46f0iqaUD7Tzx3tPRyJY4WnjmRERETkeBjCN4NezN/HSN8dwM78Ebi4SzBnYAf/Xty37GBEREdUTAxgrKi7T4O2dp/HZ75cAAPcEemNFbBQ6hyhsOzEiIiIHxwDGSk5lqhG3IRVnsvIBABOiW2P+kE7sY0RERGQBDGAsTKsV+OS3DCxNOINSjRYB3u5456lueLhDoK2nRkRE5DQYwFhQlroYs78+hn3nbwEAYjoF4u3R3RDg7W7jmRERETkXBjAWsvNEJuZvOoHcojJ4uEmx4PEIPNMrjH2MiIiIrIABTAMVlJRj0ZaT+CblGgCga0sFlsdGoV0LbxvPjIiIyHkxgGmAI1fuYObGVFy+XQSJBJj6l3aIi7kXMlf2MSIiIrImBjD1UK7R4oM95/Hv3eeh0Qq09PHEsqcj0butv62nRkRE1CQwgDHTldtFiNt4FEeu5AIAnogKwb+e6AKFJ/sYERERNRYGMGZ6Y3s6jlzJRXN3V7w5sgueiGpp6ykRERE1OQxgzPSvJzpDCOD14RFo5etl6+kQERE1SQxgzBSs8MRHE3raehpERERNGrfLEBERkcNhAENEREQOhwEMERERORwGMERERORwGMAQERGRw2EAQ0RERA6HAQwRERE5HAYwRERE5HAYwBAREZHDYQBDREREDocBDBERETkcBjBERETkcBjAEBERkcNx2m7UQggAgFqttvFMiIiIyFS6z23d53hNnDaAyc/PBwCEhobaeCZERERkrvz8fCgUihqPS0RdIY6D0mq1uHHjBpo3bw6JRGLRc6vVaoSGhuLq1auQy+UWPbc94PU5Pme/Rl6f43P2a+T11Z8QAvn5+QgJCYFUWvNKF6e9AyOVStGqVSurvoZcLnfKX0wdXp/jc/Zr5PU5Pme/Rl5f/dR250WHi3iJiIjI4TCAISIiIofDAKYe3N3dsXDhQri7u9t6KlbB63N8zn6NvD7H5+zXyOuzPqddxEtERETOi3dgiIiIyOEwgCEiIiKHwwCGiIiIHA4DGCIiInI4DGDM9J///Adt2rSBh4cHevfujYMHD9p6SiZJSkrCsGHDEBISAolEgs2bNxscF0LgtddeQ3BwMDw9PRETE4Nz584ZjMnJycG4ceMgl8vh4+ODSZMmoaCgoBGvombx8fG4//770bx5cwQGBmLEiBE4c+aMwZji4mJMmzYN/v7+8Pb2xujRo5GVlWUw5sqVKxg6dCi8vLwQGBiIOXPmoLy8vDEvpUarVq1Ct27d9IWjoqOjsXPnTv1xR7++qt5++21IJBLExcXpH3Pka3z99dchkUgMvjp27Kg/7sjXVtn169fx7LPPwt/fH56enujatSsOHz6sP+7If2vatGlT7T2USCSYNm0aAMd/DzUaDRYsWIDw8HB4enqiXbt2eOONNwx6EtnV+yfIZBs2bBAymUx88skn4uTJk2Ly5MnCx8dHZGVl2XpqddqxY4d49dVXxffffy8AiE2bNhkcf/vtt4VCoRCbN28Wx44dE8OHDxfh4eHi7t27+jGDBg0SkZGRYv/+/WLv3r3innvuEWPHjm3kKzFu4MCB4tNPPxVpaWkiNTVVDBkyRISFhYmCggL9mL///e8iNDRU7Nq1Sxw+fFj06dNHPPDAA/rj5eXlokuXLiImJkYcPXpU7NixQwQEBIj58+fb4pKq2bJli9i+fbs4e/asOHPmjHjllVeEm5ubSEtLE0I4/vVVdvDgQdGmTRvRrVs3MWPGDP3jjnyNCxcuFJ07dxaZmZn6r5s3b+qPO/K16eTk5IjWrVuLv/71r+LAgQPi4sWL4scffxTnz5/Xj3HkvzXZ2dkG719iYqIAIPbs2SOEcPz3cPHixcLf319s27ZNZGRkiG+++UZ4e3uLFStW6MfY0/vHAMYMvXr1EtOmTdN/r9FoREhIiIiPj7fhrMxXNYDRarVCqVSKd955R/9Ybm6ucHd3F1999ZUQQoj09HQBQBw6dEg/ZufOnUIikYjr16832txNlZ2dLQCIX3/9VQhRcT1ubm7im2++0Y85deqUACCSk5OFEBVBnlQqFSqVSj9m1apVQi6Xi5KSksa9ABP5+vqKjz76yKmuLz8/X7Rv314kJiaKv/zlL/oAxtGvceHChSIyMtLoMUe/Np25c+eKvn371njc2f7WzJgxQ7Rr105otVqneA+HDh0qJk6caPDYqFGjxLhx44QQ9vf+MYVkotLSUqSkpCAmJkb/mFQqRUxMDJKTk204s4bLyMiASqUyuDaFQoHevXvrry05ORk+Pj7o2bOnfkxMTAykUikOHDjQ6HOuS15eHgDAz88PAJCSkoKysjKDa+zYsSPCwsIMrrFr164ICgrSjxk4cCDUajVOnjzZiLOvm0ajwYYNG1BYWIjo6Ginur5p06Zh6NChBtcCOMd7eO7cOYSEhKBt27YYN24crly5AsA5rg0AtmzZgp49e+Kpp55CYGAgunfvjrVr1+qPO9PfmtLSUqxbtw4TJ06ERCJxivfwgQcewK5du3D27FkAwLFjx7Bv3z4MHjwYgP29f07bzNHSbt26BY1GY/CLBwBBQUE4ffq0jWZlGSqVCgCMXpvumEqlQmBgoMFxV1dX+Pn56cfYC61Wi7i4ODz44IPo0qULgIr5y2Qy+Pj4GIyteo3Gfga6Y/bgxIkTiI6ORnFxMby9vbFp0yZEREQgNTXVKa5vw4YNOHLkCA4dOlTtmKO/h71798Znn32GDh06IDMzE4sWLUK/fv2Qlpbm8Nemc/HiRaxatQqzZs3CK6+8gkOHDuHFF1+ETCbDhAkTnOpvzebNm5Gbm4u//vWvABz/9xMA5s2bB7VajY4dO8LFxQUajQaLFy/GuHHjANjfZwUDGHI606ZNQ1paGvbt22frqVhchw4dkJqairy8PHz77beYMGECfv31V1tPyyKuXr2KGTNmIDExER4eHraejsXp/hULAN26dUPv3r3RunVrfP311/D09LThzCxHq9WiZ8+eeOuttwAA3bt3R1paGlavXo0JEybYeHaW9fHHH2Pw4MEICQmx9VQs5uuvv8aXX36J9evXo3PnzkhNTUVcXBxCQkLs8v1jCslEAQEBcHFxqbaiPCsrC0ql0kazsgzd/Gu7NqVSiezsbIPj5eXlyMnJsavrnz59OrZt24Y9e/agVatW+seVSiVKS0uRm5trML7qNRr7GeiO2QOZTIZ77rkHPXr0QHx8PCIjI7FixQqnuL6UlBRkZ2fjvvvug6urK1xdXfHrr79i5cqVcHV1RVBQkMNfY2U+Pj649957cf78ead4/wAgODgYERERBo916tRJnypzlr81ly9fxs8//4z/+7//0z/mDO/hnDlzMG/ePMTGxqJr164YP348Zs6cifj4eAD29/4xgDGRTCZDjx49sGvXLv1jWq0Wu3btQnR0tA1n1nDh4eFQKpUG16ZWq3HgwAH9tUVHRyM3NxcpKSn6Mbt374ZWq0Xv3r0bfc5VCSEwffp0bNq0Cbt370Z4eLjB8R49esDNzc3gGs+cOYMrV64YXOOJEycM/uNLTEyEXC6v9kfZXmi1WpSUlDjF9T366KM4ceIEUlNT9V89e/bEuHHj9P/f0a+xsoKCAly4cAHBwcFO8f4BwIMPPlitfMHZs2fRunVrAM7xtwYAPv30UwQGBmLo0KH6x5zhPSwqKoJUahgWuLi4QKvVArDD98+iS4Kd3IYNG4S7u7v47LPPRHp6upgyZYrw8fExWFFur/Lz88XRo0fF0aNHBQCxbNkycfToUXH58mUhRMXWOB8fH/HDDz+I48ePiyeeeMLo1rju3buLAwcOiH379on27dvbxdZGIYSYOnWqUCgU4pdffjHY5lhUVKQf8/e//12EhYWJ3bt3i8OHD4vo6GgRHR2tP67b4jhgwACRmpoqEhISRIsWLexmi+O8efPEr7/+KjIyMsTx48fFvHnzhEQiET/99JMQwvGvz5jKu5CEcOxrnD17tvjll19ERkaG+O2330RMTIwICAgQ2dnZQgjHvjadgwcPCldXV7F48WJx7tw58eWXXwovLy+xbt06/RhH/1uj0WhEWFiYmDt3brVjjv4eTpgwQbRs2VK/jfr7778XAQEB4uWXX9aPsaf3jwGMmf7973+LsLAwIZPJRK9evcT+/fttPSWT7NmzRwCo9jVhwgQhRMX2uAULFoigoCDh7u4uHn30UXHmzBmDc9y+fVuMHTtWeHt7C7lcLp5//nmRn59vg6upzti1ARCffvqpfszdu3fFP/7xD+Hr6yu8vLzEyJEjRWZmpsF5Ll26JAYPHiw8PT1FQECAmD17tigrK2vkqzFu4sSJonXr1kImk4kWLVqIRx99VB+8COH412dM1QDGka9xzJgxIjg4WMhkMtGyZUsxZswYg/oojnxtlW3dulV06dJFuLu7i44dO4o1a9YYHHf0vzU//vijAFBtzkI4/nuoVqvFjBkzRFhYmPDw8BBt27YVr776qsEWb3t6/yRCVCqxR0REROQAuAaGiIiIHA4DGCIiInI4DGCIiIjI4TCAISIiIofDAIaIiIgcDgMYIiIicjgMYIiIiMjhMIAhIiIih8MAhoiIiBwOAxgiIiJyOAxgiIiIyOEwgCEiIiKH8//D0yx3phAeQwAAAABJRU5ErkJggg==\n"
          },
          "metadata": {}
        }
      ],
      "source": [
        "x = np.arange( 0,500,1)\n",
        "plt.scatter(data[\"MathSAT\"],data[\"SAT\"])\n",
        "plt.plot(x,f(x))\n",
        "\n",
        "plt.show()"
      ]
    },
    {
      "cell_type": "code",
      "execution_count": 133,
      "id": "2badb9de",
      "metadata": {
        "colab": {
          "base_uri": "https://localhost:8080/"
        },
        "id": "2badb9de",
        "outputId": "63bbed7e-3e49-46d2-b31d-89561aeba2c3"
      },
      "outputs": [
        {
          "output_type": "execute_result",
          "data": {
            "text/plain": [
              "792923338.5595489"
            ]
          },
          "metadata": {},
          "execution_count": 133
        }
      ],
      "source": [
        "#Sum of squared residuals\n",
        "residualsSquareSum = 0\n",
        "for i in range(0, len(data['SAT'])):\n",
        "    residualsSquareSum = residualsSquareSum + (f(data['SAT'][i]) - data['MathSAT'][i])**2\n",
        "    \n",
        "residualsSquareSum"
      ]
    },
    {
      "cell_type": "markdown",
      "id": "c20a0bfe",
      "metadata": {
        "id": "c20a0bfe"
      },
      "source": [
        "# Non-linear Regression"
      ]
    },
    {
      "cell_type": "markdown",
      "id": "07ef757a",
      "metadata": {
        "id": "07ef757a"
      },
      "source": [
        "Since the year is represented at classificaion, I'll translate into number. Another row that we'll use is still SAT. Let's make an intial assumption that their funtion is quadtric."
      ]
    },
    {
      "cell_type": "code",
      "execution_count": 134,
      "id": "375575e1",
      "metadata": {
        "id": "375575e1"
      },
      "outputs": [],
      "source": [
        "year = []\n",
        "\n",
        "for i in range(len(data['Year'])):\n",
        "    if (data['Year'][i] == \"Freshman\" or data['Year'][i] == \"FirstYear\"):\n",
        "        year.append(1)\n",
        "    elif (data['Year'][i] == \"Sophomore\"):\n",
        "        year.append(2)\n",
        "    elif (data['Year'][i] == \"Junior\"):\n",
        "        year.append(3)\n",
        "    elif (data['Year'][i] == \"Senior\"):\n",
        "        year.append(4)\n",
        "    else:\n",
        "        year.append(0)"
      ]
    },
    {
      "cell_type": "code",
      "execution_count": 135,
      "id": "7c1a9756",
      "metadata": {
        "colab": {
          "base_uri": "https://localhost:8080/",
          "height": 430
        },
        "id": "7c1a9756",
        "outputId": "50ae2f68-88ed-42bc-89d8-30883a87bfcd"
      },
      "outputs": [
        {
          "output_type": "display_data",
          "data": {
            "text/plain": [
              "<Figure size 640x480 with 1 Axes>"
            ],
            "image/png": "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\n"
          },
          "metadata": {}
        }
      ],
      "source": [
        "plt.scatter(year, data['SAT'])\n",
        "plt.show()"
      ]
    },
    {
      "cell_type": "markdown",
      "source": [
        "When we see the above scatter plot we can see that the Sophomore students tend to give more SAT and also tend to score higher."
      ],
      "metadata": {
        "id": "TgZJ-JFXmdV6"
      },
      "id": "TgZJ-JFXmdV6"
    },
    {
      "cell_type": "code",
      "execution_count": 138,
      "id": "3ca47e73",
      "metadata": {
        "colab": {
          "base_uri": "https://localhost:8080/"
        },
        "id": "3ca47e73",
        "outputId": "a092fb06-5a6b-4801-8ab4-cc6ee8d046e2"
      },
      "outputs": [
        {
          "output_type": "stream",
          "name": "stdout",
          "text": [
            "Coefficients: [ 2.91116817e+03  2.32539718e+00  1.15424197e+00 -1.57902433e-03]\n"
          ]
        }
      ],
      "source": [
        "from pandas._libs.tslibs.offsets import YearBegin\n",
        "# Convert the 'Year' column from string to integer\n",
        "data['SAT'] = data['SAT'].astype(int)\n",
        "\n",
        "# Convert the 'Year' column from strings to numbers using the dictionary\n",
        "def convert_year(year):\n",
        "  if (year == \"Freshman\" or year == \"FirstYear\"):\n",
        "        return 1\n",
        "  elif (year == \"Sophomore\"):\n",
        "      return 2\n",
        "  elif (year == \"Junior\"):\n",
        "      return 3\n",
        "  elif (year == \"Senior\"):\n",
        "      return 4\n",
        "  else:\n",
        "      return 0\n",
        "data['Year'] = data['Year'].apply(convert_year)\n",
        "# Calculate the necessary sums\n",
        "n = len(data['SAT'])\n",
        "sum_y = sum(data['Year'])\n",
        "sum_y2 = sum(data['Year']**2)\n",
        "sum_sy = sum(data['SAT']*data['Year'])\n",
        "sum_sy2 = sum(data['SAT']*data['Year']**2)\n",
        "\n",
        "# Create the 4x4 matrix\n",
        "matrix = [[n, sum_y, sum_y2, sum_y**3],\n",
        "          [sum_y, sum_y2, sum_y**3, sum_y**4],\n",
        "          [sum_y2, sum_y**3, sum_y**4, sum_y**5],\n",
        "          [sum_y**3, sum_y**4, sum_y**5, sum_y**6]]\n",
        "\n",
        "# Create the vector of constants\n",
        "constants = [sum(data['SAT']), sum_sy, sum_sy2, sum_y**2*sum_sy2]\n",
        "\n",
        "# Solve the matrix equation\n",
        "coeffs = np.linalg.solve(matrix, constants)\n",
        "\n",
        "# Print the coefficients\n",
        "print(\"Coefficients:\", coeffs)"
      ]
    },
    {
      "cell_type": "code",
      "source": [
        "# Creating the regression line\n",
        "x = np.linspace(min(data['Year']), max(data['Year']), 100)\n",
        "y = coeffs[0] + coeffs[1]*x + coeffs[2]*x**2 + coeffs[3]*x**3\n",
        "\n",
        "# Plotting the data and regression in the same window\n",
        "plt.scatter(data['Year'], data['SAT'])\n",
        "plt.plot(x, y, color='red')\n",
        "plt.xlabel('Year')\n",
        "plt.ylabel('SAT Score')\n",
        "plt.title('SAT Scores by Year')\n",
        "plt.show()"
      ],
      "metadata": {
        "colab": {
          "base_uri": "https://localhost:8080/",
          "height": 472
        },
        "id": "sLMleuV61O_2",
        "outputId": "7cace612-a646-44de-96a4-00db649d1ae2"
      },
      "id": "sLMleuV61O_2",
      "execution_count": 142,
      "outputs": [
        {
          "output_type": "display_data",
          "data": {
            "text/plain": [
              "<Figure size 640x480 with 1 Axes>"
            ],
            "image/png": "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\n"
          },
          "metadata": {}
        }
      ]
    },
    {
      "cell_type": "markdown",
      "source": [
        "As the relationship between Year and SAT score is nonlinear and assumed that it is quadratic that might be the reason why the red line is going extend beyond the higher SAT score than what is in the data. "
      ],
      "metadata": {
        "id": "c05N17pb2amp"
      },
      "id": "c05N17pb2amp"
    }
  ],
  "metadata": {
    "kernelspec": {
      "display_name": "Python 3 (ipykernel)",
      "language": "python",
      "name": "python3"
    },
    "language_info": {
      "codemirror_mode": {
        "name": "ipython",
        "version": 3
      },
      "file_extension": ".py",
      "mimetype": "text/x-python",
      "name": "python",
      "nbconvert_exporter": "python",
      "pygments_lexer": "ipython3",
      "version": "3.9.13"
    },
    "colab": {
      "provenance": []
    }
  },
  "nbformat": 4,
  "nbformat_minor": 5
  
  "REPORT"
  
  "In our findings using MathSAT and SAT as are linear regression variables. We found that the two have a positive relationship, as seen in the scatter plot."
  "When we ran  linear regression on the two variables are equation came out to be about y = 1.4815x + 300.763, which when rounded is the same as what scipy found."
  "We discovered that our model explains about 83.66% of the variance in the total SAT score. We believe that linear regression was appropriate in this case."
  "The reason we believe our model is a good fit for the data is because it explains much of the variance. Next, we will interpret the slop and intercept of our equation."
  "With regards to are slope, we found that for every 1 point increase in the MathSAT section, the total SAT score will increase by about 1.48 points. As for the intercept, when MathSAT score is 0, then the total SAT score is about 301 points."
  "For the nonlinear regression, we used SAT and years as are variables. When we plotted the data we saw that Sophormore students tended to take the SAT more and score higher then other years."
  "As for our nonlinear regression line, it did not really fit the data. The reason might be the relationship between Year and SAT score is nonlinear and assumed to be quadratic."
  "The tools we used to solve this problem were the sums and matrices. We used a matrix and vector of constants to set up the problem, after we solved the matrix and found the cofficients."
}
