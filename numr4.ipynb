{
 "cells": [
  {
   "cell_type": "markdown",
   "id": "07abbb93",
   "metadata": {},
   "source": [
    "# Project 4: Systems of Linear Equation Solving"
   ]
  },
  {
   "cell_type": "markdown",
   "id": "f159c680",
   "metadata": {},
   "source": [
    "This week we will go over Gauss-Jordan and the algorithm to solve it."
   ]
  },
  {
   "cell_type": "markdown",
   "id": "cda24a18",
   "metadata": {},
   "source": [
    "# Rows function"
   ]
  },
  {
   "cell_type": "markdown",
   "id": "57e67fda",
   "metadata": {},
   "source": [
    "Firstly, we need to write methods for operation on rows needed for Jordan-Gauss method, which includes adding, swapping, and multiplying.\n",
    "\n",
    "Please note that I will make a copy of the matrix list and modify parts needed to be changed instead of appending to a totally new list within the function."
   ]
  },
  {
   "cell_type": "code",
   "execution_count": 53,
   "id": "c20cabdf",
   "metadata": {},
   "outputs": [
    {
     "data": {
      "text/plain": [
       "array([[ 3,  2,  3,  1],\n",
       "       [ 9, -2,  4,  3],\n",
       "       [ 6, -4,  1,  2]])"
      ]
     },
     "execution_count": 53,
     "metadata": {},
     "output_type": "execute_result"
    }
   ],
   "source": [
    "import math\n",
    "import numpy as np\n",
    "\n",
    "matrix = np.array([[3,2,3,1], [6,-4,1,2], [9,-2,4,3]])\n",
    "\n",
    "\n",
    "#SWAP ROWS\n",
    "\n",
    "def swap(matrx, r1, r2):\n",
    "    temp = matrx.copy()\n",
    "    temp[[r1, r2]] = temp[[r2, r1]]\n",
    "    return np.array(temp)\n",
    "\n",
    "swap(matrix, 1, 2)    \n"
   ]
  },
  {
   "cell_type": "code",
   "execution_count": 54,
   "id": "53fcf252",
   "metadata": {},
   "outputs": [
    {
     "data": {
      "text/plain": [
       "array([[  3,   2,   3,   1],\n",
       "       [ 51, -14,  21,  17],\n",
       "       [  9,  -2,   4,   3]])"
      ]
     },
     "execution_count": 54,
     "metadata": {},
     "output_type": "execute_result"
    }
   ],
   "source": [
    "#ADD\n",
    "\n",
    "\n",
    "def addRow(matrx, row, toAdd, multiplier):\n",
    "    temp = matrx.copy()\n",
    "    for i in range(len(matrx[row, :])):\n",
    "        temp[row, i] = temp[row, i] + multiplier*temp[toAdd, i]\n",
    "    return np.array(temp)\n",
    "\n",
    "addRows(matrix, 1, 2, 5)\n"
   ]
  },
  {
   "cell_type": "code",
   "execution_count": 55,
   "id": "6c5468ed",
   "metadata": {},
   "outputs": [
    {
     "data": {
      "text/plain": [
       "array([[ 1.        ,  0.66666667,  1.        ,  0.33333333],\n",
       "       [ 6.        , -4.        ,  1.        ,  2.        ],\n",
       "       [ 9.        , -2.        ,  4.        ,  3.        ]])"
      ]
     },
     "execution_count": 55,
     "metadata": {},
     "output_type": "execute_result"
    }
   ],
   "source": [
    "def toLeading1(matrx, row, col):\n",
    "    temp = matrx.copy()\n",
    "    temp = np.array(temp, float)\n",
    "    temp[row, :] = temp[row, :]/temp[row, col]\n",
    "    return np.array(temp)\n",
    "\n",
    "toLeading1(matrix, 0, 0)\n",
    "    "
   ]
  },
  {
   "cell_type": "markdown",
   "id": "20251190",
   "metadata": {},
   "source": [
    "Next part is to perform these functions on  at least a system of 3 functions and three unknown, which I assume to be the same."
   ]
  },
  {
   "cell_type": "code",
   "execution_count": 75,
   "id": "5452b6b6",
   "metadata": {},
   "outputs": [],
   "source": [
    "A = np.array([[1,5,-3,2], [1,2,-9,-1], [-1,-3,7,0]])\n"
   ]
  },
  {
   "cell_type": "markdown",
   "id": "3a31b06f",
   "metadata": {},
   "source": [
    "We already have leading zero on row 1, so we can go ahead and skip that step."
   ]
  },
  {
   "cell_type": "code",
   "execution_count": 76,
   "id": "53ccc1ea",
   "metadata": {},
   "outputs": [
    {
     "data": {
      "text/plain": [
       "array([[ 1,  5, -3,  2],\n",
       "       [ 0, -3, -6, -3],\n",
       "       [-1, -3,  7,  0]])"
      ]
     },
     "execution_count": 76,
     "metadata": {},
     "output_type": "execute_result"
    }
   ],
   "source": [
    "A = addRow(A, 1, 0, -1)\n",
    "A"
   ]
  },
  {
   "cell_type": "code",
   "execution_count": 77,
   "id": "fbde2356",
   "metadata": {},
   "outputs": [
    {
     "data": {
      "text/plain": [
       "array([[ 1,  5, -3,  2],\n",
       "       [ 0, -3, -6, -3],\n",
       "       [ 0,  2,  4,  2]])"
      ]
     },
     "execution_count": 77,
     "metadata": {},
     "output_type": "execute_result"
    }
   ],
   "source": [
    "A = addRow(A, 2, 0, 1)\n",
    "A"
   ]
  },
  {
   "cell_type": "code",
   "execution_count": 78,
   "id": "8a27519e",
   "metadata": {},
   "outputs": [
    {
     "data": {
      "text/plain": [
       "array([[ 1,  5, -3,  2],\n",
       "       [ 0, -3, -6, -3],\n",
       "       [ 0,  2,  4,  2]])"
      ]
     },
     "execution_count": 78,
     "metadata": {},
     "output_type": "execute_result"
    }
   ],
   "source": [
    "A"
   ]
  },
  {
   "cell_type": "code",
   "execution_count": 79,
   "id": "3819434a",
   "metadata": {},
   "outputs": [
    {
     "data": {
      "text/plain": [
       "array([[ 1.,  5., -3.,  2.],\n",
       "       [-0.,  1.,  2.,  1.],\n",
       "       [ 0.,  2.,  4.,  2.]])"
      ]
     },
     "execution_count": 79,
     "metadata": {},
     "output_type": "execute_result"
    }
   ],
   "source": [
    "A = toLeading1(A, 1, 1)\n",
    "A"
   ]
  },
  {
   "cell_type": "code",
   "execution_count": 81,
   "id": "6603ed8c",
   "metadata": {},
   "outputs": [
    {
     "data": {
      "text/plain": [
       "array([[  1.,   0., -13.,  -3.],\n",
       "       [ -0.,   1.,   2.,   1.],\n",
       "       [  0.,   2.,   4.,   2.]])"
      ]
     },
     "execution_count": 81,
     "metadata": {},
     "output_type": "execute_result"
    }
   ],
   "source": [
    "A = addRow(A, 0, 1, -5)\n",
    "A"
   ]
  },
  {
   "cell_type": "code",
   "execution_count": 82,
   "id": "7938cb9c",
   "metadata": {},
   "outputs": [
    {
     "data": {
      "text/plain": [
       "array([[  1.,   0., -13.,  -3.],\n",
       "       [ -0.,   1.,   2.,   1.],\n",
       "       [  0.,   0.,   0.,   0.]])"
      ]
     },
     "execution_count": 82,
     "metadata": {},
     "output_type": "execute_result"
    }
   ],
   "source": [
    "addRow(A, 2, 1, -2)"
   ]
  },
  {
   "cell_type": "code",
   "execution_count": null,
   "id": "6fe7aee4",
   "metadata": {},
   "outputs": [],
   "source": []
  }
 ],
 "metadata": {
  "kernelspec": {
   "display_name": "Python 3 (ipykernel)",
   "language": "python",
   "name": "python3"
  },
  "language_info": {
   "codemirror_mode": {
    "name": "ipython",
    "version": 3
   },
   "file_extension": ".py",
   "mimetype": "text/x-python",
   "name": "python",
   "nbconvert_exporter": "python",
   "pygments_lexer": "ipython3",
   "version": "3.9.13"
  }
 },
 "nbformat": 4,
 "nbformat_minor": 5
}
