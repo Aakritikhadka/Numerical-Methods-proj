{
 "cells": [
  {
   "cell_type": "markdown",
   "id": "07abbb93",
   "metadata": {},
   "source": [
    "# Project 4: Systems of Linear Equation Solving"
   ]
  },
  {
   "cell_type": "markdown",
   "id": "f159c680",
   "metadata": {},
   "source": [
    "This week we will go over Gauss-Jordan and the algorithm to solve it."
   ]
  },
  {
   "cell_type": "markdown",
   "id": "cda24a18",
   "metadata": {},
   "source": [
    "# Rows function"
   ]
  },
  {
   "cell_type": "markdown",
   "id": "57e67fda",
   "metadata": {},
   "source": [
    "Firstly, we need to write methods for operation on rows needed for Jordan-Gauss method, which includes adding, swapping, and multiplying.\n",
    "\n",
    "Please note that I will make a copy of the matrix list and modify parts needed to be changed instead of appending to a totally new list within the function."
   ]
  },
  {
   "cell_type": "code",
   "execution_count": 36,
   "id": "c20cabdf",
   "metadata": {},
   "outputs": [
    {
     "data": {
      "text/plain": [
       "array([[ 3,  2,  3,  1],\n",
       "       [ 9, -2,  4,  3],\n",
       "       [ 6, -4,  1,  2]])"
      ]
     },
     "execution_count": 36,
     "metadata": {},
     "output_type": "execute_result"
    }
   ],
   "source": [
    "import math\n",
    "import numpy as np\n",
    "\n",
    "matrix = np.array([[3,2,3,1], [6,-4,1,2], [9,-2,4,3]])\n",
    "\n",
    "\n",
    "#SWAP ROWS\n",
    "\n",
    "def swap(matrx, r1, r2):\n",
    "    temp = matrx.copy()\n",
    "    temp[[r1, r2]] = temp[[r2, r1]]\n",
    "    return np.array(temp)\n",
    "\n",
    "swap(matrix, 1, 2)    \n"
   ]
  },
  {
   "cell_type": "code",
   "execution_count": 37,
   "id": "53fcf252",
   "metadata": {},
   "outputs": [
    {
     "data": {
      "text/plain": [
       "array([[  3,   2,   3,   1],\n",
       "       [ 51, -14,  21,  17],\n",
       "       [  9,  -2,   4,   3]])"
      ]
     },
     "execution_count": 37,
     "metadata": {},
     "output_type": "execute_result"
    }
   ],
   "source": [
    "#ADD\n",
    "\n",
    "\n",
    "def addRow(matrx, row, toAdd, multiplier):\n",
    "    temp = matrx.copy()\n",
    "    for i in range(len(matrx[row, :])):\n",
    "        temp[row, i] = temp[row, i] + multiplier*temp[toAdd, i]\n",
    "    return np.array(temp)\n",
    "\n",
    "addRows(matrix, 1, 2, 5)\n"
   ]
  },
  {
   "cell_type": "code",
   "execution_count": 38,
   "id": "6c5468ed",
   "metadata": {},
   "outputs": [
    {
     "data": {
      "text/plain": [
       "array([[ 1.        ,  0.66666667,  1.        ,  0.33333333],\n",
       "       [ 6.        , -4.        ,  1.        ,  2.        ],\n",
       "       [ 9.        , -2.        ,  4.        ,  3.        ]])"
      ]
     },
     "execution_count": 38,
     "metadata": {},
     "output_type": "execute_result"
    }
   ],
   "source": [
    "def toLeading1(matrx, row, col):\n",
    "    temp = matrx.copy()\n",
    "    temp = np.array(temp, float)\n",
    "    temp[row, :] = temp[row, :]/temp[row, col]\n",
    "    return np.array(temp)\n",
    "\n",
    "toLeading1(matrix, 0, 0)\n",
    "    "
   ]
  },
  {
   "cell_type": "markdown",
   "id": "b7b89d6b",
   "metadata": {},
   "source": [
    "Next part is to perform these functions on  at least a system of 3 functions and three unknown, which I assume to be the same."
   ]
  },
  {
   "cell_type": "code",
   "execution_count": 42,
   "id": "3bd25159",
   "metadata": {},
   "outputs": [
    {
     "data": {
      "text/plain": [
       "array([[ -3,   2,   6,  -4],\n",
       "       [  2,   1,   5, -18],\n",
       "       [ -2,   1,   2,   1]])"
      ]
     },
     "execution_count": 42,
     "metadata": {},
     "output_type": "execute_result"
    }
   ],
   "source": [
    "A = np.array([[2,1,5,-18], [-3,2,6,-4], [-2,1,2,1]])\n",
    "B = np.array([[-4, -1, 23], [5, -5, -60]])\n",
    "swap(A, 0, 1)"
   ]
  },
  {
   "cell_type": "code",
   "execution_count": 43,
   "id": "11333a41",
   "metadata": {},
   "outputs": [
    {
     "data": {
      "text/plain": [
       "array([[ -7,   7,  23, -30],\n",
       "       [ -3,   2,   6,  -4],\n",
       "       [ -2,   1,   2,   1]])"
      ]
     },
     "execution_count": 43,
     "metadata": {},
     "output_type": "execute_result"
    }
   ],
   "source": [
    "addRow(A, 0, 1, 3)"
   ]
  },
  {
   "cell_type": "code",
   "execution_count": 44,
   "id": "23497a3b",
   "metadata": {},
   "outputs": [
    {
     "data": {
      "text/plain": [
       "array([[  2.        ,   1.        ,   5.        , -18.        ],\n",
       "       [  1.        ,  -0.66666667,  -2.        ,   1.33333333],\n",
       "       [ -2.        ,   1.        ,   2.        ,   1.        ]])"
      ]
     },
     "execution_count": 44,
     "metadata": {},
     "output_type": "execute_result"
    }
   ],
   "source": [
    "toLeading1(A, 1, 0)"
   ]
  },
  {
   "cell_type": "code",
   "execution_count": 45,
   "id": "e794b96d",
   "metadata": {},
   "outputs": [
    {
     "data": {
      "text/plain": [
       "array([[  5,  -5, -60],\n",
       "       [ -4,  -1,  23]])"
      ]
     },
     "execution_count": 45,
     "metadata": {},
     "output_type": "execute_result"
    }
   ],
   "source": [
    "swap(B, 0, 1)"
   ]
  },
  {
   "cell_type": "code",
   "execution_count": 46,
   "id": "f2c3318f",
   "metadata": {},
   "outputs": [
    {
     "data": {
      "text/plain": [
       "array([[  11,  -16, -157],\n",
       "       [   5,   -5,  -60]])"
      ]
     },
     "execution_count": 46,
     "metadata": {},
     "output_type": "execute_result"
    }
   ],
   "source": [
    "addRow(B, 0, 1, 3)"
   ]
  },
  {
   "cell_type": "code",
   "execution_count": 47,
   "id": "33bd2474",
   "metadata": {},
   "outputs": [
    {
     "data": {
      "text/plain": [
       "array([[ -4.,  -1.,  23.],\n",
       "       [  1.,  -1., -12.]])"
      ]
     },
     "execution_count": 47,
     "metadata": {},
     "output_type": "execute_result"
    }
   ],
   "source": [
    "toLeading1(B, 1, 0)"
   ]
  },
  {
   "cell_type": "code",
   "execution_count": null,
   "id": "dfa73bad",
   "metadata": {},
   "outputs": [],
   "source": []
  }
 ],
 "metadata": {
  "kernelspec": {
   "display_name": "Python 3 (ipykernel)",
   "language": "python",
   "name": "python3"
  },
  "language_info": {
   "codemirror_mode": {
    "name": "ipython",
    "version": 3
   },
   "file_extension": ".py",
   "mimetype": "text/x-python",
   "name": "python",
   "nbconvert_exporter": "python",
   "pygments_lexer": "ipython3",
   "version": "3.9.13"
  }
 },
 "nbformat": 4,
 "nbformat_minor": 5
}
